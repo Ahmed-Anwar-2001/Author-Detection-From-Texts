{
 "cells": [
  {
   "cell_type": "code",
   "execution_count": 1,
   "id": "5c46a833",
   "metadata": {
    "execution": {
     "iopub.execute_input": "2024-01-09T00:48:59.528134Z",
     "iopub.status.busy": "2024-01-09T00:48:59.527813Z",
     "iopub.status.idle": "2024-01-09T00:53:01.610360Z",
     "shell.execute_reply": "2024-01-09T00:53:01.608925Z"
    },
    "id": "HtWtcA_dxbwk",
    "outputId": "482eb670-3993-4ef3-e595-5f4e48f4b6f1",
    "papermill": {
     "duration": 242.101257,
     "end_time": "2024-01-09T00:53:01.612716",
     "exception": false,
     "start_time": "2024-01-09T00:48:59.511459",
     "status": "completed"
    },
    "tags": []
   },
   "outputs": [
    {
     "name": "stdout",
     "output_type": "stream",
     "text": [
      "Requirement already satisfied: scikit-learn in /opt/conda/lib/python3.10/site-packages (1.2.2)\r\n",
      "Collecting scikit-learn\r\n",
      "  Obtaining dependency information for scikit-learn from https://files.pythonhosted.org/packages/d0/0b/26ad95cf0b747be967b15fb71a06f5ac67aba0fd2f9cd174de6edefc4674/scikit_learn-1.3.2-cp310-cp310-manylinux_2_17_x86_64.manylinux2014_x86_64.whl.metadata\r\n",
      "  Downloading scikit_learn-1.3.2-cp310-cp310-manylinux_2_17_x86_64.manylinux2014_x86_64.whl.metadata (11 kB)\r\n",
      "Requirement already satisfied: numpy<2.0,>=1.17.3 in /opt/conda/lib/python3.10/site-packages (from scikit-learn) (1.24.3)\r\n",
      "Requirement already satisfied: scipy>=1.5.0 in /opt/conda/lib/python3.10/site-packages (from scikit-learn) (1.11.4)\r\n",
      "Requirement already satisfied: joblib>=1.1.1 in /opt/conda/lib/python3.10/site-packages (from scikit-learn) (1.3.2)\r\n",
      "Requirement already satisfied: threadpoolctl>=2.0.0 in /opt/conda/lib/python3.10/site-packages (from scikit-learn) (3.2.0)\r\n",
      "Downloading scikit_learn-1.3.2-cp310-cp310-manylinux_2_17_x86_64.manylinux2014_x86_64.whl (10.8 MB)\r\n",
      "\u001b[2K   \u001b[90m━━━━━━━━━━━━━━━━━━━━━━━━━━━━━━━━━━━━━━━━\u001b[0m \u001b[32m10.8/10.8 MB\u001b[0m \u001b[31m69.9 MB/s\u001b[0m eta \u001b[36m0:00:00\u001b[0m\r\n",
      "\u001b[?25hInstalling collected packages: scikit-learn\r\n",
      "  Attempting uninstall: scikit-learn\r\n",
      "    Found existing installation: scikit-learn 1.2.2\r\n",
      "    Uninstalling scikit-learn-1.2.2:\r\n",
      "      Successfully uninstalled scikit-learn-1.2.2\r\n",
      "\u001b[31mERROR: pip's dependency resolver does not currently take into account all the packages that are installed. This behaviour is the source of the following dependency conflicts.\r\n",
      "spopt 0.6.0 requires shapely>=2.0.1, but you have shapely 1.8.5.post1 which is incompatible.\u001b[0m\u001b[31m\r\n",
      "\u001b[0mSuccessfully installed scikit-learn-1.3.2\r\n",
      "Requirement already satisfied: gensim in /opt/conda/lib/python3.10/site-packages (4.3.2)\r\n",
      "Requirement already satisfied: numpy>=1.18.5 in /opt/conda/lib/python3.10/site-packages (from gensim) (1.24.3)\r\n",
      "Requirement already satisfied: scipy>=1.7.0 in /opt/conda/lib/python3.10/site-packages (from gensim) (1.11.4)\r\n",
      "Requirement already satisfied: smart-open>=1.8.1 in /opt/conda/lib/python3.10/site-packages (from gensim) (6.3.0)\r\n",
      "Requirement already satisfied: numpy in /opt/conda/lib/python3.10/site-packages (1.24.3)\r\n",
      "Requirement already satisfied: tqdm in /opt/conda/lib/python3.10/site-packages (4.66.1)\r\n",
      "Requirement already satisfied: matplotlib in /opt/conda/lib/python3.10/site-packages (3.7.4)\r\n",
      "Requirement already satisfied: contourpy>=1.0.1 in /opt/conda/lib/python3.10/site-packages (from matplotlib) (1.1.0)\r\n",
      "Requirement already satisfied: cycler>=0.10 in /opt/conda/lib/python3.10/site-packages (from matplotlib) (0.11.0)\r\n",
      "Requirement already satisfied: fonttools>=4.22.0 in /opt/conda/lib/python3.10/site-packages (from matplotlib) (4.42.1)\r\n",
      "Requirement already satisfied: kiwisolver>=1.0.1 in /opt/conda/lib/python3.10/site-packages (from matplotlib) (1.4.4)\r\n",
      "Requirement already satisfied: numpy<2,>=1.20 in /opt/conda/lib/python3.10/site-packages (from matplotlib) (1.24.3)\r\n",
      "Requirement already satisfied: packaging>=20.0 in /opt/conda/lib/python3.10/site-packages (from matplotlib) (21.3)\r\n",
      "Requirement already satisfied: pillow>=6.2.0 in /opt/conda/lib/python3.10/site-packages (from matplotlib) (10.1.0)\r\n",
      "Requirement already satisfied: pyparsing>=2.3.1 in /opt/conda/lib/python3.10/site-packages (from matplotlib) (3.0.9)\r\n",
      "Requirement already satisfied: python-dateutil>=2.7 in /opt/conda/lib/python3.10/site-packages (from matplotlib) (2.8.2)\r\n",
      "Requirement already satisfied: six>=1.5 in /opt/conda/lib/python3.10/site-packages (from python-dateutil>=2.7->matplotlib) (1.16.0)\r\n",
      "Requirement already satisfied: keras in /opt/conda/lib/python3.10/site-packages (2.13.1)\r\n",
      "Requirement already satisfied: wordcloud in /opt/conda/lib/python3.10/site-packages (1.9.2)\r\n",
      "Requirement already satisfied: numpy>=1.6.1 in /opt/conda/lib/python3.10/site-packages (from wordcloud) (1.24.3)\r\n",
      "Requirement already satisfied: pillow in /opt/conda/lib/python3.10/site-packages (from wordcloud) (10.1.0)\r\n",
      "Requirement already satisfied: matplotlib in /opt/conda/lib/python3.10/site-packages (from wordcloud) (3.7.4)\r\n",
      "Requirement already satisfied: contourpy>=1.0.1 in /opt/conda/lib/python3.10/site-packages (from matplotlib->wordcloud) (1.1.0)\r\n",
      "Requirement already satisfied: cycler>=0.10 in /opt/conda/lib/python3.10/site-packages (from matplotlib->wordcloud) (0.11.0)\r\n",
      "Requirement already satisfied: fonttools>=4.22.0 in /opt/conda/lib/python3.10/site-packages (from matplotlib->wordcloud) (4.42.1)\r\n",
      "Requirement already satisfied: kiwisolver>=1.0.1 in /opt/conda/lib/python3.10/site-packages (from matplotlib->wordcloud) (1.4.4)\r\n",
      "Requirement already satisfied: packaging>=20.0 in /opt/conda/lib/python3.10/site-packages (from matplotlib->wordcloud) (21.3)\r\n",
      "Requirement already satisfied: pyparsing>=2.3.1 in /opt/conda/lib/python3.10/site-packages (from matplotlib->wordcloud) (3.0.9)\r\n",
      "Requirement already satisfied: python-dateutil>=2.7 in /opt/conda/lib/python3.10/site-packages (from matplotlib->wordcloud) (2.8.2)\r\n",
      "Requirement already satisfied: six>=1.5 in /opt/conda/lib/python3.10/site-packages (from python-dateutil>=2.7->matplotlib->wordcloud) (1.16.0)\r\n",
      "Requirement already satisfied: pydot in /opt/conda/lib/python3.10/site-packages (1.4.2)\r\n",
      "Requirement already satisfied: pyparsing>=2.1.4 in /opt/conda/lib/python3.10/site-packages (from pydot) (3.0.9)\r\n",
      "Requirement already satisfied: graphviz in /opt/conda/lib/python3.10/site-packages (0.20.1)\r\n",
      "Requirement already satisfied: transformers in /opt/conda/lib/python3.10/site-packages (4.36.0)\r\n",
      "Requirement already satisfied: filelock in /opt/conda/lib/python3.10/site-packages (from transformers) (3.12.2)\r\n",
      "Requirement already satisfied: huggingface-hub<1.0,>=0.19.3 in /opt/conda/lib/python3.10/site-packages (from transformers) (0.19.4)\r\n",
      "Requirement already satisfied: numpy>=1.17 in /opt/conda/lib/python3.10/site-packages (from transformers) (1.24.3)\r\n",
      "Requirement already satisfied: packaging>=20.0 in /opt/conda/lib/python3.10/site-packages (from transformers) (21.3)\r\n",
      "Requirement already satisfied: pyyaml>=5.1 in /opt/conda/lib/python3.10/site-packages (from transformers) (6.0.1)\r\n",
      "Requirement already satisfied: regex!=2019.12.17 in /opt/conda/lib/python3.10/site-packages (from transformers) (2023.8.8)\r\n",
      "Requirement already satisfied: requests in /opt/conda/lib/python3.10/site-packages (from transformers) (2.31.0)\r\n",
      "Requirement already satisfied: tokenizers<0.19,>=0.14 in /opt/conda/lib/python3.10/site-packages (from transformers) (0.15.0)\r\n",
      "Requirement already satisfied: safetensors>=0.3.1 in /opt/conda/lib/python3.10/site-packages (from transformers) (0.4.1)\r\n",
      "Requirement already satisfied: tqdm>=4.27 in /opt/conda/lib/python3.10/site-packages (from transformers) (4.66.1)\r\n",
      "Requirement already satisfied: fsspec>=2023.5.0 in /opt/conda/lib/python3.10/site-packages (from huggingface-hub<1.0,>=0.19.3->transformers) (2023.12.2)\r\n",
      "Requirement already satisfied: typing-extensions>=3.7.4.3 in /opt/conda/lib/python3.10/site-packages (from huggingface-hub<1.0,>=0.19.3->transformers) (4.5.0)\r\n",
      "Requirement already satisfied: pyparsing!=3.0.5,>=2.0.2 in /opt/conda/lib/python3.10/site-packages (from packaging>=20.0->transformers) (3.0.9)\r\n",
      "Requirement already satisfied: charset-normalizer<4,>=2 in /opt/conda/lib/python3.10/site-packages (from requests->transformers) (3.2.0)\r\n",
      "Requirement already satisfied: idna<4,>=2.5 in /opt/conda/lib/python3.10/site-packages (from requests->transformers) (3.4)\r\n",
      "Requirement already satisfied: urllib3<3,>=1.21.1 in /opt/conda/lib/python3.10/site-packages (from requests->transformers) (1.26.15)\r\n",
      "Requirement already satisfied: certifi>=2017.4.17 in /opt/conda/lib/python3.10/site-packages (from requests->transformers) (2023.11.17)\r\n",
      "Collecting bltk\r\n",
      "  Downloading bltk-1.2.tar.gz (17.4 MB)\r\n",
      "\u001b[2K     \u001b[90m━━━━━━━━━━━━━━━━━━━━━━━━━━━━━━━━━━━━━━━━\u001b[0m \u001b[32m17.4/17.4 MB\u001b[0m \u001b[31m36.3 MB/s\u001b[0m eta \u001b[36m0:00:00\u001b[0m\r\n",
      "\u001b[?25h  Preparing metadata (setup.py) ... \u001b[?25l-\b \b\\\b \bdone\r\n",
      "\u001b[?25hCollecting sklearn>=0.0 (from bltk)\r\n",
      "  Downloading sklearn-0.0.post12.tar.gz (2.6 kB)\r\n",
      "  Preparing metadata (setup.py) ... \u001b[?25l-\b \berror\r\n",
      "  \u001b[1;31merror\u001b[0m: \u001b[1msubprocess-exited-with-error\u001b[0m\r\n",
      "  \r\n",
      "  \u001b[31m×\u001b[0m \u001b[32mpython setup.py egg_info\u001b[0m did not run successfully.\r\n",
      "  \u001b[31m│\u001b[0m exit code: \u001b[1;36m1\u001b[0m\r\n",
      "  \u001b[31m╰─>\u001b[0m \u001b[31m[15 lines of output]\u001b[0m\r\n",
      "  \u001b[31m   \u001b[0m The 'sklearn' PyPI package is deprecated, use 'scikit-learn'\r\n",
      "  \u001b[31m   \u001b[0m rather than 'sklearn' for pip commands.\r\n",
      "  \u001b[31m   \u001b[0m \r\n",
      "  \u001b[31m   \u001b[0m Here is how to fix this error in the main use cases:\r\n",
      "  \u001b[31m   \u001b[0m - use 'pip install scikit-learn' rather than 'pip install sklearn'\r\n",
      "  \u001b[31m   \u001b[0m - replace 'sklearn' by 'scikit-learn' in your pip requirements files\r\n",
      "  \u001b[31m   \u001b[0m   (requirements.txt, setup.py, setup.cfg, Pipfile, etc ...)\r\n",
      "  \u001b[31m   \u001b[0m - if the 'sklearn' package is used by one of your dependencies,\r\n",
      "  \u001b[31m   \u001b[0m   it would be great if you take some time to track which package uses\r\n",
      "  \u001b[31m   \u001b[0m   'sklearn' instead of 'scikit-learn' and report it to their issue tracker\r\n",
      "  \u001b[31m   \u001b[0m - as a last resort, set the environment variable\r\n",
      "  \u001b[31m   \u001b[0m   SKLEARN_ALLOW_DEPRECATED_SKLEARN_PACKAGE_INSTALL=True to avoid this error\r\n",
      "  \u001b[31m   \u001b[0m \r\n",
      "  \u001b[31m   \u001b[0m More information is available at\r\n",
      "  \u001b[31m   \u001b[0m https://github.com/scikit-learn/sklearn-pypi-package\r\n",
      "  \u001b[31m   \u001b[0m \u001b[31m[end of output]\u001b[0m\r\n",
      "  \r\n",
      "  \u001b[1;35mnote\u001b[0m: This error originates from a subprocess, and is likely not a problem with pip.\r\n",
      "\u001b[1;31merror\u001b[0m: \u001b[1mmetadata-generation-failed\u001b[0m\r\n",
      "\r\n",
      "\u001b[31m×\u001b[0m Encountered error while generating package metadata.\r\n",
      "\u001b[31m╰─>\u001b[0m See above for output.\r\n",
      "\r\n",
      "\u001b[1;35mnote\u001b[0m: This is an issue with the package mentioned above, not pip.\r\n",
      "\u001b[1;36mhint\u001b[0m: See above for details.\r\n",
      "\u001b[?25hCollecting ipython-autotime\r\n",
      "  Obtaining dependency information for ipython-autotime from https://files.pythonhosted.org/packages/d1/6b/c668b9d6a3552eeb4d82c0e6f1e79debc9cfaecc2d59ddb5b2f38c24cdfc/ipython_autotime-0.3.2-py2.py3-none-any.whl.metadata\r\n",
      "  Downloading ipython_autotime-0.3.2-py2.py3-none-any.whl.metadata (1.4 kB)\r\n",
      "Requirement already satisfied: ipython in /opt/conda/lib/python3.10/site-packages (from ipython-autotime) (8.14.0)\r\n",
      "Requirement already satisfied: backcall in /opt/conda/lib/python3.10/site-packages (from ipython->ipython-autotime) (0.2.0)\r\n",
      "Requirement already satisfied: decorator in /opt/conda/lib/python3.10/site-packages (from ipython->ipython-autotime) (5.1.1)\r\n",
      "Requirement already satisfied: jedi>=0.16 in /opt/conda/lib/python3.10/site-packages (from ipython->ipython-autotime) (0.19.0)\r\n",
      "Requirement already satisfied: matplotlib-inline in /opt/conda/lib/python3.10/site-packages (from ipython->ipython-autotime) (0.1.6)\r\n",
      "Requirement already satisfied: pickleshare in /opt/conda/lib/python3.10/site-packages (from ipython->ipython-autotime) (0.7.5)\r\n",
      "Requirement already satisfied: prompt-toolkit!=3.0.37,<3.1.0,>=3.0.30 in /opt/conda/lib/python3.10/site-packages (from ipython->ipython-autotime) (3.0.39)\r\n",
      "Requirement already satisfied: pygments>=2.4.0 in /opt/conda/lib/python3.10/site-packages (from ipython->ipython-autotime) (2.16.1)\r\n",
      "Requirement already satisfied: stack-data in /opt/conda/lib/python3.10/site-packages (from ipython->ipython-autotime) (0.6.2)\r\n",
      "Requirement already satisfied: traitlets>=5 in /opt/conda/lib/python3.10/site-packages (from ipython->ipython-autotime) (5.9.0)\r\n",
      "Requirement already satisfied: pexpect>4.3 in /opt/conda/lib/python3.10/site-packages (from ipython->ipython-autotime) (4.8.0)\r\n",
      "Requirement already satisfied: parso<0.9.0,>=0.8.3 in /opt/conda/lib/python3.10/site-packages (from jedi>=0.16->ipython->ipython-autotime) (0.8.3)\r\n",
      "Requirement already satisfied: ptyprocess>=0.5 in /opt/conda/lib/python3.10/site-packages (from pexpect>4.3->ipython->ipython-autotime) (0.7.0)\r\n",
      "Requirement already satisfied: wcwidth in /opt/conda/lib/python3.10/site-packages (from prompt-toolkit!=3.0.37,<3.1.0,>=3.0.30->ipython->ipython-autotime) (0.2.6)\r\n",
      "Requirement already satisfied: executing>=1.2.0 in /opt/conda/lib/python3.10/site-packages (from stack-data->ipython->ipython-autotime) (1.2.0)\r\n",
      "Requirement already satisfied: asttokens>=2.1.0 in /opt/conda/lib/python3.10/site-packages (from stack-data->ipython->ipython-autotime) (2.2.1)\r\n",
      "Requirement already satisfied: pure-eval in /opt/conda/lib/python3.10/site-packages (from stack-data->ipython->ipython-autotime) (0.2.2)\r\n",
      "Requirement already satisfied: six in /opt/conda/lib/python3.10/site-packages (from asttokens>=2.1.0->stack-data->ipython->ipython-autotime) (1.16.0)\r\n",
      "Downloading ipython_autotime-0.3.2-py2.py3-none-any.whl (7.0 kB)\r\n",
      "Installing collected packages: ipython-autotime\r\n",
      "Successfully installed ipython-autotime-0.3.2\r\n",
      "Requirement already satisfied: imbalanced-learn in /opt/conda/lib/python3.10/site-packages (0.11.0)\r\n",
      "Requirement already satisfied: numpy>=1.17.3 in /opt/conda/lib/python3.10/site-packages (from imbalanced-learn) (1.24.3)\r\n",
      "Requirement already satisfied: scipy>=1.5.0 in /opt/conda/lib/python3.10/site-packages (from imbalanced-learn) (1.11.4)\r\n",
      "Requirement already satisfied: scikit-learn>=1.0.2 in /opt/conda/lib/python3.10/site-packages (from imbalanced-learn) (1.3.2)\r\n",
      "Requirement already satisfied: joblib>=1.1.1 in /opt/conda/lib/python3.10/site-packages (from imbalanced-learn) (1.3.2)\r\n",
      "Requirement already satisfied: threadpoolctl>=2.0.0 in /opt/conda/lib/python3.10/site-packages (from imbalanced-learn) (3.2.0)\r\n",
      "Collecting visualkeras\r\n",
      "  Downloading visualkeras-0.0.2-py3-none-any.whl (12 kB)\r\n",
      "Requirement already satisfied: pillow>=6.2.0 in /opt/conda/lib/python3.10/site-packages (from visualkeras) (10.1.0)\r\n",
      "Requirement already satisfied: numpy>=1.18.1 in /opt/conda/lib/python3.10/site-packages (from visualkeras) (1.24.3)\r\n",
      "Collecting aggdraw>=1.3.11 (from visualkeras)\r\n",
      "  Obtaining dependency information for aggdraw>=1.3.11 from https://files.pythonhosted.org/packages/da/05/8912c901a3965ec7117d6cc33eaec3888c717611f72ce69d8be62a01d149/aggdraw-1.3.18-cp310-cp310-manylinux_2_17_x86_64.manylinux2014_x86_64.whl.metadata\r\n",
      "  Downloading aggdraw-1.3.18-cp310-cp310-manylinux_2_17_x86_64.manylinux2014_x86_64.whl.metadata (655 bytes)\r\n",
      "Downloading aggdraw-1.3.18-cp310-cp310-manylinux_2_17_x86_64.manylinux2014_x86_64.whl (993 kB)\r\n",
      "\u001b[2K   \u001b[90m━━━━━━━━━━━━━━━━━━━━━━━━━━━━━━━━━━━━━━━━\u001b[0m \u001b[32m993.7/993.7 kB\u001b[0m \u001b[31m12.3 MB/s\u001b[0m eta \u001b[36m0:00:00\u001b[0m\r\n",
      "\u001b[?25hInstalling collected packages: aggdraw, visualkeras\r\n",
      "Successfully installed aggdraw-1.3.18 visualkeras-0.0.2\r\n",
      "Requirement already satisfied: pydot in /opt/conda/lib/python3.10/site-packages (1.4.2)\r\n",
      "Requirement already satisfied: graphviz in /opt/conda/lib/python3.10/site-packages (0.20.1)\r\n",
      "Requirement already satisfied: pyparsing>=2.1.4 in /opt/conda/lib/python3.10/site-packages (from pydot) (3.0.9)\r\n",
      "Collecting keras-utils\r\n",
      "  Downloading keras-utils-1.0.13.tar.gz (2.4 kB)\r\n",
      "  Preparing metadata (setup.py) ... \u001b[?25l-\b \bdone\r\n",
      "\u001b[?25hRequirement already satisfied: Keras>=2.1.5 in /opt/conda/lib/python3.10/site-packages (from keras-utils) (2.13.1)\r\n",
      "Building wheels for collected packages: keras-utils\r\n",
      "  Building wheel for keras-utils (setup.py) ... \u001b[?25l-\b \b\\\b \bdone\r\n",
      "\u001b[?25h  Created wheel for keras-utils: filename=keras_utils-1.0.13-py3-none-any.whl size=2632 sha256=3cc60f59f6164490ad7785f6736c7cb5019ab81ef5013c7227a54eecf525a16e\r\n",
      "  Stored in directory: /root/.cache/pip/wheels/5c/c0/b3/0c332de4fd71f3733ea6d61697464b7ae4b2b5ff0300e6ca7a\r\n",
      "Successfully built keras-utils\r\n",
      "Installing collected packages: keras-utils\r\n",
      "Successfully installed keras-utils-1.0.13\r\n",
      "Collecting bnlp_toolkit\r\n",
      "  Obtaining dependency information for bnlp_toolkit from https://files.pythonhosted.org/packages/af/99/5d688fc2e5f6494d6c0a4e6bcdc8192266869caeef3b41dbc3dc8358616d/bnlp_toolkit-4.0.0-py3-none-any.whl.metadata\r\n",
      "  Downloading bnlp_toolkit-4.0.0-py3-none-any.whl.metadata (3.3 kB)\r\n",
      "Requirement already satisfied: sentencepiece in /opt/conda/lib/python3.10/site-packages (from bnlp_toolkit) (0.1.99)\r\n",
      "Requirement already satisfied: gensim in /opt/conda/lib/python3.10/site-packages (from bnlp_toolkit) (4.3.2)\r\n",
      "Requirement already satisfied: nltk in /opt/conda/lib/python3.10/site-packages (from bnlp_toolkit) (3.2.4)\r\n",
      "Requirement already satisfied: numpy in /opt/conda/lib/python3.10/site-packages (from bnlp_toolkit) (1.24.3)\r\n",
      "Requirement already satisfied: scipy in /opt/conda/lib/python3.10/site-packages (from bnlp_toolkit) (1.11.4)\r\n",
      "Collecting sklearn-crfsuite (from bnlp_toolkit)\r\n",
      "  Downloading sklearn_crfsuite-0.3.6-py2.py3-none-any.whl (12 kB)\r\n",
      "Requirement already satisfied: tqdm in /opt/conda/lib/python3.10/site-packages (from bnlp_toolkit) (4.66.1)\r\n",
      "Collecting ftfy (from bnlp_toolkit)\r\n",
      "  Obtaining dependency information for ftfy from https://files.pythonhosted.org/packages/91/f8/dfa32d06cfcbdb76bc46e0f5d69c537de33f4cedb1a15cd4746ab45a6a26/ftfy-6.1.3-py3-none-any.whl.metadata\r\n",
      "  Downloading ftfy-6.1.3-py3-none-any.whl.metadata (6.2 kB)\r\n",
      "Collecting emoji==1.7.0 (from bnlp_toolkit)\r\n",
      "  Downloading emoji-1.7.0.tar.gz (175 kB)\r\n",
      "\u001b[2K     \u001b[90m━━━━━━━━━━━━━━━━━━━━━━━━━━━━━━━━━━━━━━━\u001b[0m \u001b[32m175.4/175.4 kB\u001b[0m \u001b[31m5.7 MB/s\u001b[0m eta \u001b[36m0:00:00\u001b[0m\r\n",
      "\u001b[?25h  Preparing metadata (setup.py) ... \u001b[?25l-\b \bdone\r\n",
      "\u001b[?25hRequirement already satisfied: requests in /opt/conda/lib/python3.10/site-packages (from bnlp_toolkit) (2.31.0)\r\n",
      "Collecting wcwidth<0.3.0,>=0.2.12 (from ftfy->bnlp_toolkit)\r\n",
      "  Obtaining dependency information for wcwidth<0.3.0,>=0.2.12 from https://files.pythonhosted.org/packages/fd/84/fd2ba7aafacbad3c4201d395674fc6348826569da3c0937e75505ead3528/wcwidth-0.2.13-py2.py3-none-any.whl.metadata\r\n",
      "  Downloading wcwidth-0.2.13-py2.py3-none-any.whl.metadata (14 kB)\r\n",
      "Requirement already satisfied: smart-open>=1.8.1 in /opt/conda/lib/python3.10/site-packages (from gensim->bnlp_toolkit) (6.3.0)\r\n",
      "Requirement already satisfied: six in /opt/conda/lib/python3.10/site-packages (from nltk->bnlp_toolkit) (1.16.0)\r\n",
      "Requirement already satisfied: charset-normalizer<4,>=2 in /opt/conda/lib/python3.10/site-packages (from requests->bnlp_toolkit) (3.2.0)\r\n",
      "Requirement already satisfied: idna<4,>=2.5 in /opt/conda/lib/python3.10/site-packages (from requests->bnlp_toolkit) (3.4)\r\n",
      "Requirement already satisfied: urllib3<3,>=1.21.1 in /opt/conda/lib/python3.10/site-packages (from requests->bnlp_toolkit) (1.26.15)\r\n",
      "Requirement already satisfied: certifi>=2017.4.17 in /opt/conda/lib/python3.10/site-packages (from requests->bnlp_toolkit) (2023.11.17)\r\n",
      "Collecting python-crfsuite>=0.8.3 (from sklearn-crfsuite->bnlp_toolkit)\r\n",
      "  Obtaining dependency information for python-crfsuite>=0.8.3 from https://files.pythonhosted.org/packages/38/1d/c475ba7d11e9735f00eb08e2f5315aa2e21c24cc85a0474c3fd425edef58/python_crfsuite-0.9.10-cp310-cp310-manylinux_2_17_x86_64.manylinux2014_x86_64.whl.metadata\r\n",
      "  Downloading python_crfsuite-0.9.10-cp310-cp310-manylinux_2_17_x86_64.manylinux2014_x86_64.whl.metadata (4.2 kB)\r\n",
      "Requirement already satisfied: tabulate in /opt/conda/lib/python3.10/site-packages (from sklearn-crfsuite->bnlp_toolkit) (0.9.0)\r\n",
      "Downloading bnlp_toolkit-4.0.0-py3-none-any.whl (22 kB)\r\n",
      "Downloading ftfy-6.1.3-py3-none-any.whl (53 kB)\r\n",
      "\u001b[2K   \u001b[90m━━━━━━━━━━━━━━━━━━━━━━━━━━━━━━━━━━━━━━━━\u001b[0m \u001b[32m53.4/53.4 kB\u001b[0m \u001b[31m5.8 MB/s\u001b[0m eta \u001b[36m0:00:00\u001b[0m\r\n",
      "\u001b[?25hDownloading python_crfsuite-0.9.10-cp310-cp310-manylinux_2_17_x86_64.manylinux2014_x86_64.whl (1.1 MB)\r\n",
      "\u001b[2K   \u001b[90m━━━━━━━━━━━━━━━━━━━━━━━━━━━━━━━━━━━━━━━━\u001b[0m \u001b[32m1.1/1.1 MB\u001b[0m \u001b[31m32.5 MB/s\u001b[0m eta \u001b[36m0:00:00\u001b[0m\r\n",
      "\u001b[?25hDownloading wcwidth-0.2.13-py2.py3-none-any.whl (34 kB)\r\n",
      "Building wheels for collected packages: emoji\r\n",
      "  Building wheel for emoji (setup.py) ... \u001b[?25l-\b \bdone\r\n",
      "\u001b[?25h  Created wheel for emoji: filename=emoji-1.7.0-py3-none-any.whl size=171033 sha256=920364277bb6fb24ee120f6806dd0a60f712dfc85b04434532e9dc22caf64ea9\r\n",
      "  Stored in directory: /root/.cache/pip/wheels/31/8a/8c/315c9e5d7773f74b33d5ed33f075b49c6eaeb7cedbb86e2cf8\r\n",
      "Successfully built emoji\r\n",
      "Installing collected packages: wcwidth, python-crfsuite, emoji, sklearn-crfsuite, ftfy, bnlp_toolkit\r\n",
      "  Attempting uninstall: wcwidth\r\n",
      "    Found existing installation: wcwidth 0.2.6\r\n",
      "    Uninstalling wcwidth-0.2.6:\r\n",
      "      Successfully uninstalled wcwidth-0.2.6\r\n",
      "  Attempting uninstall: emoji\r\n",
      "    Found existing installation: emoji 2.9.0\r\n",
      "    Uninstalling emoji-2.9.0:\r\n",
      "      Successfully uninstalled emoji-2.9.0\r\n",
      "Successfully installed bnlp_toolkit-4.0.0 emoji-1.7.0 ftfy-6.1.3 python-crfsuite-0.9.10 sklearn-crfsuite-0.3.6 wcwidth-0.2.13\r\n",
      "Collecting banglanltk\r\n",
      "  Downloading banglanltk-0.0.4-py3-none-any.whl (462 kB)\r\n",
      "\u001b[2K     \u001b[90m━━━━━━━━━━━━━━━━━━━━━━━━━━━━━━━━━━━━━━━\u001b[0m \u001b[32m462.3/462.3 kB\u001b[0m \u001b[31m6.6 MB/s\u001b[0m eta \u001b[36m0:00:00\u001b[0m\r\n",
      "\u001b[?25hInstalling collected packages: banglanltk\r\n",
      "Successfully installed banglanltk-0.0.4\r\n",
      "Collecting bnltk\r\n",
      "  Downloading bnltk-0.7.6-py3-none-any.whl (11 kB)\r\n",
      "Requirement already satisfied: keras in /opt/conda/lib/python3.10/site-packages (from bnltk) (2.13.1)\r\n",
      "Requirement already satisfied: tensorflow in /opt/conda/lib/python3.10/site-packages (from bnltk) (2.13.0)\r\n",
      "Requirement already satisfied: numpy in /opt/conda/lib/python3.10/site-packages (from bnltk) (1.24.3)\r\n",
      "Collecting sklearn (from bnltk)\r\n",
      "  Using cached sklearn-0.0.post12.tar.gz (2.6 kB)\r\n",
      "  Preparing metadata (setup.py) ... \u001b[?25l-\b \berror\r\n",
      "  \u001b[1;31merror\u001b[0m: \u001b[1msubprocess-exited-with-error\u001b[0m\r\n",
      "  \r\n",
      "  \u001b[31m×\u001b[0m \u001b[32mpython setup.py egg_info\u001b[0m did not run successfully.\r\n",
      "  \u001b[31m│\u001b[0m exit code: \u001b[1;36m1\u001b[0m\r\n",
      "  \u001b[31m╰─>\u001b[0m \u001b[31m[15 lines of output]\u001b[0m\r\n",
      "  \u001b[31m   \u001b[0m The 'sklearn' PyPI package is deprecated, use 'scikit-learn'\r\n",
      "  \u001b[31m   \u001b[0m rather than 'sklearn' for pip commands.\r\n",
      "  \u001b[31m   \u001b[0m \r\n",
      "  \u001b[31m   \u001b[0m Here is how to fix this error in the main use cases:\r\n",
      "  \u001b[31m   \u001b[0m - use 'pip install scikit-learn' rather than 'pip install sklearn'\r\n",
      "  \u001b[31m   \u001b[0m - replace 'sklearn' by 'scikit-learn' in your pip requirements files\r\n",
      "  \u001b[31m   \u001b[0m   (requirements.txt, setup.py, setup.cfg, Pipfile, etc ...)\r\n",
      "  \u001b[31m   \u001b[0m - if the 'sklearn' package is used by one of your dependencies,\r\n",
      "  \u001b[31m   \u001b[0m   it would be great if you take some time to track which package uses\r\n",
      "  \u001b[31m   \u001b[0m   'sklearn' instead of 'scikit-learn' and report it to their issue tracker\r\n",
      "  \u001b[31m   \u001b[0m - as a last resort, set the environment variable\r\n",
      "  \u001b[31m   \u001b[0m   SKLEARN_ALLOW_DEPRECATED_SKLEARN_PACKAGE_INSTALL=True to avoid this error\r\n",
      "  \u001b[31m   \u001b[0m \r\n",
      "  \u001b[31m   \u001b[0m More information is available at\r\n",
      "  \u001b[31m   \u001b[0m https://github.com/scikit-learn/sklearn-pypi-package\r\n",
      "  \u001b[31m   \u001b[0m \u001b[31m[end of output]\u001b[0m\r\n",
      "  \r\n",
      "  \u001b[1;35mnote\u001b[0m: This error originates from a subprocess, and is likely not a problem with pip.\r\n",
      "\u001b[1;31merror\u001b[0m: \u001b[1mmetadata-generation-failed\u001b[0m\r\n",
      "\r\n",
      "\u001b[31m×\u001b[0m Encountered error while generating package metadata.\r\n",
      "\u001b[31m╰─>\u001b[0m See above for output.\r\n",
      "\r\n",
      "\u001b[1;35mnote\u001b[0m: This is an issue with the package mentioned above, not pip.\r\n",
      "\u001b[1;36mhint\u001b[0m: See above for details.\r\n",
      "\u001b[?25hCollecting git+https://github.com/csebuetnlp/normalizer\r\n",
      "  Cloning https://github.com/csebuetnlp/normalizer to /tmp/pip-req-build-9b2eu030\r\n",
      "  Running command git clone --filter=blob:none --quiet https://github.com/csebuetnlp/normalizer /tmp/pip-req-build-9b2eu030\r\n",
      "  Resolved https://github.com/csebuetnlp/normalizer to commit d405944dde5ceeacb7c2fd3245ae2a9dea5f35c9\r\n",
      "  Preparing metadata (setup.py) ... \u001b[?25ldone\r\n",
      "\u001b[?25hRequirement already satisfied: regex in /opt/conda/lib/python3.10/site-packages (from normalizer==0.0.1) (2023.8.8)\r\n",
      "Collecting emoji==1.4.2 (from normalizer==0.0.1)\r\n",
      "  Downloading emoji-1.4.2.tar.gz (184 kB)\r\n",
      "\u001b[2K     \u001b[90m━━━━━━━━━━━━━━━━━━━━━━━━━━━━━━━━━━━━━━━\u001b[0m \u001b[32m185.0/185.0 kB\u001b[0m \u001b[31m3.8 MB/s\u001b[0m eta \u001b[36m0:00:00\u001b[0m\r\n",
      "\u001b[?25h  Preparing metadata (setup.py) ... \u001b[?25l-\b \bdone\r\n",
      "\u001b[?25hCollecting ftfy==6.0.3 (from normalizer==0.0.1)\r\n",
      "  Downloading ftfy-6.0.3.tar.gz (64 kB)\r\n",
      "\u001b[2K     \u001b[90m━━━━━━━━━━━━━━━━━━━━━━━━━━━━━━━━━━━━━━━━\u001b[0m \u001b[32m64.2/64.2 kB\u001b[0m \u001b[31m8.1 MB/s\u001b[0m eta \u001b[36m0:00:00\u001b[0m\r\n",
      "\u001b[?25h  Preparing metadata (setup.py) ... \u001b[?25l-\b \bdone\r\n",
      "\u001b[?25hRequirement already satisfied: wcwidth in /opt/conda/lib/python3.10/site-packages (from ftfy==6.0.3->normalizer==0.0.1) (0.2.13)\r\n",
      "Building wheels for collected packages: normalizer, emoji, ftfy\r\n",
      "  Building wheel for normalizer (setup.py) ... \u001b[?25l-\b \bdone\r\n",
      "\u001b[?25h  Created wheel for normalizer: filename=normalizer-0.0.1-py3-none-any.whl size=6857 sha256=a1af32ee4b7a030626c4dafbe8bda5f9ee1722297f554ea051d4b47d5d6102d1\r\n",
      "  Stored in directory: /tmp/pip-ephem-wheel-cache-clzd37jx/wheels/2e/79/9c/cd96d490298305d51d2da11484bb2c25fd1f759a6906708282\r\n",
      "  Building wheel for emoji (setup.py) ... \u001b[?25l-\b \bdone\r\n",
      "\u001b[?25h  Created wheel for emoji: filename=emoji-1.4.2-py3-none-any.whl size=186459 sha256=b34f28e29c20179204d97dfed76f1c15a8e70ebd564325f6f188da27c5e8cf42\r\n",
      "  Stored in directory: /root/.cache/pip/wheels/10/f0/fd/4813b1177405693e8da9cdea839f0fb64fde161380e058c827\r\n",
      "  Building wheel for ftfy (setup.py) ... \u001b[?25l-\b \b\\\b \bdone\r\n",
      "\u001b[?25h  Created wheel for ftfy: filename=ftfy-6.0.3-py3-none-any.whl size=41930 sha256=c3cdd34f54f77c7d2e6fecff8a279e22753182721bda0a0d2ddf9f68e85b029d\r\n",
      "  Stored in directory: /root/.cache/pip/wheels/92/8e/16/c1e4d4d65685d71085e4e27b44d6ed880b0559474c9ee4ff66\r\n",
      "Successfully built normalizer emoji ftfy\r\n",
      "Installing collected packages: emoji, ftfy, normalizer\r\n",
      "  Attempting uninstall: emoji\r\n",
      "    Found existing installation: emoji 1.7.0\r\n",
      "    Uninstalling emoji-1.7.0:\r\n",
      "      Successfully uninstalled emoji-1.7.0\r\n",
      "  Attempting uninstall: ftfy\r\n",
      "    Found existing installation: ftfy 6.1.3\r\n",
      "    Uninstalling ftfy-6.1.3:\r\n",
      "      Successfully uninstalled ftfy-6.1.3\r\n",
      "\u001b[31mERROR: pip's dependency resolver does not currently take into account all the packages that are installed. This behaviour is the source of the following dependency conflicts.\r\n",
      "bnlp-toolkit 4.0.0 requires emoji==1.7.0, but you have emoji 1.4.2 which is incompatible.\u001b[0m\u001b[31m\r\n",
      "\u001b[0mSuccessfully installed emoji-1.4.2 ftfy-6.0.3 normalizer-0.0.1\r\n",
      "time: 1min 44s (started: 2024-01-09 00:51:16 +00:00)\n"
     ]
    }
   ],
   "source": [
    "# !pip install -U pip setuptools wheel\n",
    "!pip install -U scikit-learn\n",
    "#!pip install sklearn\n",
    "!pip install gensim\n",
    "!pip install numpy\n",
    "!pip install tqdm\n",
    "!pip install matplotlib\n",
    "\n",
    "!pip install keras\n",
    "!pip install wordcloud\n",
    "!pip install pydot\n",
    "!pip install graphviz\n",
    "!pip install transformers\n",
    "!pip install bltk\n",
    "!pip install ipython-autotime\n",
    "%load_ext autotime\n",
    "! pip install -U imbalanced-learn\n",
    "!pip install visualkeras\n",
    "!pip install pydot graphviz\n",
    "!pip install keras-utils\n",
    "! pip install bnlp_toolkit\n",
    "! pip install banglanltk\n",
    "# ! pip install inltk\n",
    "! pip install bnltk\n",
    "!pip install git+https://github.com/csebuetnlp/normalizer"
   ]
  },
  {
   "cell_type": "code",
   "execution_count": 2,
   "id": "49ff4f71",
   "metadata": {
    "execution": {
     "iopub.execute_input": "2024-01-09T00:53:01.663253Z",
     "iopub.status.busy": "2024-01-09T00:53:01.662933Z",
     "iopub.status.idle": "2024-01-09T00:53:21.242306Z",
     "shell.execute_reply": "2024-01-09T00:53:21.241315Z"
    },
    "id": "zuXLrYqbxedb",
    "outputId": "eab919d8-dc4f-4262-ffa1-df39cf586540",
    "papermill": {
     "duration": 19.607021,
     "end_time": "2024-01-09T00:53:21.244425",
     "exception": false,
     "start_time": "2024-01-09T00:53:01.637404",
     "status": "completed"
    },
    "tags": []
   },
   "outputs": [
    {
     "name": "stderr",
     "output_type": "stream",
     "text": [
      "/opt/conda/lib/python3.10/site-packages/scipy/__init__.py:146: UserWarning: A NumPy version >=1.16.5 and <1.23.0 is required for this version of SciPy (detected version 1.24.3\n",
      "  warnings.warn(f\"A NumPy version >={np_minversion} and <{np_maxversion}\"\n"
     ]
    },
    {
     "name": "stdout",
     "output_type": "stream",
     "text": [
      "time: 19.6 s (started: 2024-01-09 00:53:01 +00:00)\n"
     ]
    }
   ],
   "source": [
    "import pandas as pd\n",
    "import string\n",
    "import numpy as np\n",
    "import seaborn as sns\n",
    "import matplotlib.pyplot as plt\n",
    "import gensim\n",
    "%matplotlib inline\n",
    "from sklearn.preprocessing import LabelEncoder\n",
    "from sklearn.pipeline import Pipeline\n",
    "from sklearn.metrics import precision_recall_fscore_support, accuracy_score, confusion_matrix,classification_report\n",
    "from sklearn import metrics\n",
    "from sklearn.model_selection import train_test_split\n",
    "from sklearn.preprocessing import scale,StandardScaler\n",
    "from keras.utils import pad_sequences\n",
    "from sklearn.feature_extraction.text import TfidfVectorizer,TfidfTransformer,CountVectorizer\n",
    "from keras.layers import LSTM, Activation, Dense, Dropout, Input, Embedding\n",
    "from keras.preprocessing.text import Tokenizer\n",
    "from keras.callbacks import EarlyStopping\n",
    "from keras.preprocessing import sequence\n",
    "from keras.optimizers import RMSprop\n",
    "from keras.models import Model\n",
    "import tensorflow as tf\n",
    "\n",
    "from warnings import filterwarnings\n",
    "filterwarnings(\"ignore\")"
   ]
  },
  {
   "cell_type": "code",
   "execution_count": 3,
   "id": "735c4433",
   "metadata": {
    "execution": {
     "iopub.execute_input": "2024-01-09T00:53:21.295284Z",
     "iopub.status.busy": "2024-01-09T00:53:21.294712Z",
     "iopub.status.idle": "2024-01-09T00:53:33.160470Z",
     "shell.execute_reply": "2024-01-09T00:53:33.159296Z"
    },
    "papermill": {
     "duration": 11.892529,
     "end_time": "2024-01-09T00:53:33.162462",
     "exception": false,
     "start_time": "2024-01-09T00:53:21.269933",
     "status": "completed"
    },
    "tags": []
   },
   "outputs": [
    {
     "name": "stdout",
     "output_type": "stream",
     "text": [
      "Collecting gdown\r\n",
      "  Downloading gdown-4.7.1-py3-none-any.whl (15 kB)\r\n",
      "Requirement already satisfied: filelock in /opt/conda/lib/python3.10/site-packages (from gdown) (3.12.2)\r\n",
      "Requirement already satisfied: requests[socks] in /opt/conda/lib/python3.10/site-packages (from gdown) (2.31.0)\r\n",
      "Requirement already satisfied: six in /opt/conda/lib/python3.10/site-packages (from gdown) (1.16.0)\r\n",
      "Requirement already satisfied: tqdm in /opt/conda/lib/python3.10/site-packages (from gdown) (4.66.1)\r\n",
      "Requirement already satisfied: beautifulsoup4 in /opt/conda/lib/python3.10/site-packages (from gdown) (4.12.2)\r\n",
      "Requirement already satisfied: soupsieve>1.2 in /opt/conda/lib/python3.10/site-packages (from beautifulsoup4->gdown) (2.3.2.post1)\r\n",
      "Requirement already satisfied: charset-normalizer<4,>=2 in /opt/conda/lib/python3.10/site-packages (from requests[socks]->gdown) (3.2.0)\r\n",
      "Requirement already satisfied: idna<4,>=2.5 in /opt/conda/lib/python3.10/site-packages (from requests[socks]->gdown) (3.4)\r\n",
      "Requirement already satisfied: urllib3<3,>=1.21.1 in /opt/conda/lib/python3.10/site-packages (from requests[socks]->gdown) (1.26.15)\r\n",
      "Requirement already satisfied: certifi>=2017.4.17 in /opt/conda/lib/python3.10/site-packages (from requests[socks]->gdown) (2023.11.17)\r\n",
      "Requirement already satisfied: PySocks!=1.5.7,>=1.5.6 in /opt/conda/lib/python3.10/site-packages (from requests[socks]->gdown) (1.7.1)\r\n",
      "Installing collected packages: gdown\r\n",
      "Successfully installed gdown-4.7.1\r\n",
      "time: 11.9 s (started: 2024-01-09 00:53:21 +00:00)\n"
     ]
    }
   ],
   "source": [
    "#Setup Gdrive file download extention \n",
    "#!conda install -y gdown\n",
    "!pip install gdown\n"
   ]
  },
  {
   "cell_type": "code",
   "execution_count": 4,
   "id": "6ee312c4",
   "metadata": {
    "execution": {
     "iopub.execute_input": "2024-01-09T00:53:33.214347Z",
     "iopub.status.busy": "2024-01-09T00:53:33.214022Z",
     "iopub.status.idle": "2024-01-09T00:53:36.849097Z",
     "shell.execute_reply": "2024-01-09T00:53:36.848194Z"
    },
    "papermill": {
     "duration": 3.663978,
     "end_time": "2024-01-09T00:53:36.851812",
     "exception": false,
     "start_time": "2024-01-09T00:53:33.187834",
     "status": "completed"
    },
    "tags": []
   },
   "outputs": [
    {
     "name": "stderr",
     "output_type": "stream",
     "text": [
      "Downloading...\n",
      "From: https://drive.google.com/uc?id=1QtknSmc9xkLscFCLo0g2grXtvphkBQu5\n",
      "To: /kaggle/working/newfinal_data.csv\n",
      "100%|██████████| 84.9M/84.9M [00:00<00:00, 214MB/s]\n"
     ]
    },
    {
     "data": {
      "text/plain": [
       "'newfinal_data.csv'"
      ]
     },
     "execution_count": 4,
     "metadata": {},
     "output_type": "execute_result"
    },
    {
     "name": "stdout",
     "output_type": "stream",
     "text": [
      "time: 3.63 s (started: 2024-01-09 00:53:33 +00:00)\n"
     ]
    }
   ],
   "source": [
    "import gdown \n",
    "url = 'https://drive.google.com/uc?id=1QtknSmc9xkLscFCLo0g2grXtvphkBQu5' \n",
    "output = 'newfinal_data.csv'\n",
    "gdown.download(url, output)"
   ]
  },
  {
   "cell_type": "code",
   "execution_count": 5,
   "id": "77331bd5",
   "metadata": {
    "execution": {
     "iopub.execute_input": "2024-01-09T00:53:36.906614Z",
     "iopub.status.busy": "2024-01-09T00:53:36.906037Z",
     "iopub.status.idle": "2024-01-09T00:53:38.358386Z",
     "shell.execute_reply": "2024-01-09T00:53:38.357470Z"
    },
    "id": "0u_dbfx7yC6D",
    "outputId": "e4b72e90-5888-4d71-e085-56e92df30c6e",
    "papermill": {
     "duration": 1.481627,
     "end_time": "2024-01-09T00:53:38.360710",
     "exception": false,
     "start_time": "2024-01-09T00:53:36.879083",
     "status": "completed"
    },
    "tags": []
   },
   "outputs": [
    {
     "data": {
      "text/html": [
       "<div>\n",
       "<style scoped>\n",
       "    .dataframe tbody tr th:only-of-type {\n",
       "        vertical-align: middle;\n",
       "    }\n",
       "\n",
       "    .dataframe tbody tr th {\n",
       "        vertical-align: top;\n",
       "    }\n",
       "\n",
       "    .dataframe thead th {\n",
       "        text-align: right;\n",
       "    }\n",
       "</style>\n",
       "<table border=\"1\" class=\"dataframe\">\n",
       "  <thead>\n",
       "    <tr style=\"text-align: right;\">\n",
       "      <th></th>\n",
       "      <th>Author</th>\n",
       "      <th>tokenized_sentence</th>\n",
       "    </tr>\n",
       "  </thead>\n",
       "  <tbody>\n",
       "    <tr>\n",
       "      <th>0</th>\n",
       "      <td>Ahmad Sofa</td>\n",
       "      <td>আমি পাঠকদের সুবিবেচনার জন্য এমন একটি মত উপস্থি...</td>\n",
       "    </tr>\n",
       "    <tr>\n",
       "      <th>1</th>\n",
       "      <td>Ahmad Sofa</td>\n",
       "      <td>কোন বক্তব্য অথবা যুক্তিকে সত্য বলে স্বীকার করা...</td>\n",
       "    </tr>\n",
       "    <tr>\n",
       "      <th>2</th>\n",
       "      <td>Ahmad Sofa</td>\n",
       "      <td>আমি নিশ্চিতভাবে বিশ্বাস করি যে এ রকম মতবাদ সাধ...</td>\n",
       "    </tr>\n",
       "    <tr>\n",
       "      <th>3</th>\n",
       "      <td>Ahmad Sofa</td>\n",
       "      <td>তা সম্ভব হলে ঝাঁঝালো বক্তা, বই ব্যবসায়ী, ধর্ম...</td>\n",
       "    </tr>\n",
       "    <tr>\n",
       "      <th>4</th>\n",
       "      <td>Ahmad Sofa</td>\n",
       "      <td>অনেক প্রতিকূল মারাত্মক যুক্তি থাকা সত্বেও আমি ...</td>\n",
       "    </tr>\n",
       "  </tbody>\n",
       "</table>\n",
       "</div>"
      ],
      "text/plain": [
       "       Author                                 tokenized_sentence\n",
       "0  Ahmad Sofa  আমি পাঠকদের সুবিবেচনার জন্য এমন একটি মত উপস্থি...\n",
       "1  Ahmad Sofa  কোন বক্তব্য অথবা যুক্তিকে সত্য বলে স্বীকার করা...\n",
       "2  Ahmad Sofa  আমি নিশ্চিতভাবে বিশ্বাস করি যে এ রকম মতবাদ সাধ...\n",
       "3  Ahmad Sofa  তা সম্ভব হলে ঝাঁঝালো বক্তা, বই ব্যবসায়ী, ধর্ম...\n",
       "4  Ahmad Sofa  অনেক প্রতিকূল মারাত্মক যুক্তি থাকা সত্বেও আমি ..."
      ]
     },
     "execution_count": 5,
     "metadata": {},
     "output_type": "execute_result"
    },
    {
     "name": "stdout",
     "output_type": "stream",
     "text": [
      "time: 1.45 s (started: 2024-01-09 00:53:36 +00:00)\n"
     ]
    }
   ],
   "source": [
    "import pandas as pd\n",
    "data = pd.read_csv('/kaggle/working/newfinal_data.csv')\n",
    "data.head()"
   ]
  },
  {
   "cell_type": "code",
   "execution_count": 6,
   "id": "f030c533",
   "metadata": {
    "execution": {
     "iopub.execute_input": "2024-01-09T00:53:38.455944Z",
     "iopub.status.busy": "2024-01-09T00:53:38.455271Z",
     "iopub.status.idle": "2024-01-09T00:53:42.597474Z",
     "shell.execute_reply": "2024-01-09T00:53:42.596550Z"
    },
    "id": "FH8koDYtyC8c",
    "outputId": "21843cbd-d8de-41b9-cd7a-ba33826370d2",
    "papermill": {
     "duration": 4.212997,
     "end_time": "2024-01-09T00:53:42.599612",
     "exception": false,
     "start_time": "2024-01-09T00:53:38.386615",
     "status": "completed"
    },
    "tags": []
   },
   "outputs": [
    {
     "name": "stdout",
     "output_type": "stream",
     "text": [
      "time: 4.14 s (started: 2024-01-09 00:53:38 +00:00)\n"
     ]
    }
   ],
   "source": [
    "import csv\n",
    "import random\n",
    "\n",
    "def shuffle_csv_with_headers(filename):\n",
    "\n",
    "  with open(filename, 'r') as csvfile:\n",
    "    reader = csv.reader(csvfile)\n",
    "    header = next(reader)\n",
    "    data = list(reader)\n",
    "\n",
    "  random.shuffle(data)\n",
    "\n",
    "  with open(\"shuffled_data.csv\", 'w') as csvfile:\n",
    "    writer = csv.writer(csvfile)\n",
    "    writer.writerow(header)\n",
    "    writer.writerows(data)\n",
    "\n",
    "\n",
    "if __name__ == '__main__':\n",
    "  filename = '/kaggle/working/newfinal_data.csv'\n",
    "  shuffle_csv_with_headers(filename)\n"
   ]
  },
  {
   "cell_type": "code",
   "execution_count": 7,
   "id": "27eaf80d",
   "metadata": {
    "execution": {
     "iopub.execute_input": "2024-01-09T00:53:42.663535Z",
     "iopub.status.busy": "2024-01-09T00:53:42.663207Z",
     "iopub.status.idle": "2024-01-09T00:53:44.193762Z",
     "shell.execute_reply": "2024-01-09T00:53:44.192912Z"
    },
    "id": "BPkog0uKyC_q",
    "outputId": "84a201ef-96a6-4a04-b007-ef7ba8981c95",
    "papermill": {
     "duration": 1.56038,
     "end_time": "2024-01-09T00:53:44.195876",
     "exception": false,
     "start_time": "2024-01-09T00:53:42.635496",
     "status": "completed"
    },
    "tags": []
   },
   "outputs": [
    {
     "data": {
      "text/html": [
       "<div>\n",
       "<style scoped>\n",
       "    .dataframe tbody tr th:only-of-type {\n",
       "        vertical-align: middle;\n",
       "    }\n",
       "\n",
       "    .dataframe tbody tr th {\n",
       "        vertical-align: top;\n",
       "    }\n",
       "\n",
       "    .dataframe thead th {\n",
       "        text-align: right;\n",
       "    }\n",
       "</style>\n",
       "<table border=\"1\" class=\"dataframe\">\n",
       "  <thead>\n",
       "    <tr style=\"text-align: right;\">\n",
       "      <th></th>\n",
       "      <th>Author</th>\n",
       "      <th>tokenized_sentence</th>\n",
       "    </tr>\n",
       "  </thead>\n",
       "  <tbody>\n",
       "    <tr>\n",
       "      <th>0</th>\n",
       "      <td>Humayun Ahmed</td>\n",
       "      <td>খুব সাবধানে লিকার বের করব।</td>\n",
       "    </tr>\n",
       "    <tr>\n",
       "      <th>1</th>\n",
       "      <td>Rabindranath Tagore</td>\n",
       "      <td>এই-যে বিশ্ববিদ্যালয়ে সংগীতশিক্ষার ব্যবস্থা হচ্...</td>\n",
       "    </tr>\n",
       "    <tr>\n",
       "      <th>2</th>\n",
       "      <td>Rabindranath Tagore</td>\n",
       "      <td>“তখন তো ওর এত গুমর ছিল না।”</td>\n",
       "    </tr>\n",
       "    <tr>\n",
       "      <th>3</th>\n",
       "      <td>Rabindranath Tagore</td>\n",
       "      <td>মানুষ আবার ফিরল তার প্রথম আরম্ভের অবস্থায়— সেই...</td>\n",
       "    </tr>\n",
       "    <tr>\n",
       "      <th>4</th>\n",
       "      <td>Sharat Chandra Chattapaddhay</td>\n",
       "      <td>বলিল, মাথা খাও সেজদাদামশাই, আর একদিন আনতে যেন ...</td>\n",
       "    </tr>\n",
       "  </tbody>\n",
       "</table>\n",
       "</div>"
      ],
      "text/plain": [
       "                         Author  \\\n",
       "0                 Humayun Ahmed   \n",
       "1           Rabindranath Tagore   \n",
       "2           Rabindranath Tagore   \n",
       "3           Rabindranath Tagore   \n",
       "4  Sharat Chandra Chattapaddhay   \n",
       "\n",
       "                                  tokenized_sentence  \n",
       "0                         খুব সাবধানে লিকার বের করব।  \n",
       "1  এই-যে বিশ্ববিদ্যালয়ে সংগীতশিক্ষার ব্যবস্থা হচ্...  \n",
       "2                        “তখন তো ওর এত গুমর ছিল না।”  \n",
       "3  মানুষ আবার ফিরল তার প্রথম আরম্ভের অবস্থায়— সেই...  \n",
       "4  বলিল, মাথা খাও সেজদাদামশাই, আর একদিন আনতে যেন ...  "
      ]
     },
     "execution_count": 7,
     "metadata": {},
     "output_type": "execute_result"
    },
    {
     "name": "stdout",
     "output_type": "stream",
     "text": [
      "time: 1.53 s (started: 2024-01-09 00:53:42 +00:00)\n"
     ]
    }
   ],
   "source": [
    "df = pd.read_csv('/kaggle/working/shuffled_data.csv')\n",
    "df.head()"
   ]
  },
  {
   "cell_type": "code",
   "execution_count": 8,
   "id": "494ffa1d",
   "metadata": {
    "execution": {
     "iopub.execute_input": "2024-01-09T00:53:44.249624Z",
     "iopub.status.busy": "2024-01-09T00:53:44.249321Z",
     "iopub.status.idle": "2024-01-09T00:53:44.256094Z",
     "shell.execute_reply": "2024-01-09T00:53:44.255227Z"
    },
    "id": "pZlwKNzmyDH6",
    "outputId": "7cb4ed3f-2761-4680-ad53-670ef751fe73",
    "papermill": {
     "duration": 0.036292,
     "end_time": "2024-01-09T00:53:44.258645",
     "exception": false,
     "start_time": "2024-01-09T00:53:44.222353",
     "status": "completed"
    },
    "tags": []
   },
   "outputs": [
    {
     "name": "stdout",
     "output_type": "stream",
     "text": [
      "Shape of the dataset => (Rows, Columns) = "
     ]
    },
    {
     "data": {
      "text/plain": [
       "(391539, 2)"
      ]
     },
     "execution_count": 8,
     "metadata": {},
     "output_type": "execute_result"
    },
    {
     "name": "stdout",
     "output_type": "stream",
     "text": [
      "time: 2.94 ms (started: 2024-01-09 00:53:44 +00:00)\n"
     ]
    }
   ],
   "source": [
    "print(\"Shape of the dataset => (Rows, Columns) = \",end='')\n",
    "df.shape"
   ]
  },
  {
   "cell_type": "code",
   "execution_count": 9,
   "id": "36c95005",
   "metadata": {
    "execution": {
     "iopub.execute_input": "2024-01-09T00:53:44.312928Z",
     "iopub.status.busy": "2024-01-09T00:53:44.312440Z",
     "iopub.status.idle": "2024-01-09T00:53:44.735453Z",
     "shell.execute_reply": "2024-01-09T00:53:44.734549Z"
    },
    "id": "AyfOoUzdyDLF",
    "outputId": "0ed8e55f-af56-4624-a4b8-1a6cd1cdabd7",
    "papermill": {
     "duration": 0.452151,
     "end_time": "2024-01-09T00:53:44.737420",
     "exception": false,
     "start_time": "2024-01-09T00:53:44.285269",
     "status": "completed"
    },
    "tags": []
   },
   "outputs": [
    {
     "data": {
      "text/html": [
       "<div>\n",
       "<style scoped>\n",
       "    .dataframe tbody tr th:only-of-type {\n",
       "        vertical-align: middle;\n",
       "    }\n",
       "\n",
       "    .dataframe tbody tr th {\n",
       "        vertical-align: top;\n",
       "    }\n",
       "\n",
       "    .dataframe thead th {\n",
       "        text-align: right;\n",
       "    }\n",
       "</style>\n",
       "<table border=\"1\" class=\"dataframe\">\n",
       "  <thead>\n",
       "    <tr style=\"text-align: right;\">\n",
       "      <th></th>\n",
       "      <th>Author</th>\n",
       "      <th>tokenized_sentence</th>\n",
       "    </tr>\n",
       "  </thead>\n",
       "  <tbody>\n",
       "    <tr>\n",
       "      <th>count</th>\n",
       "      <td>391539</td>\n",
       "      <td>391539</td>\n",
       "    </tr>\n",
       "    <tr>\n",
       "      <th>unique</th>\n",
       "      <td>7</td>\n",
       "      <td>340191</td>\n",
       "    </tr>\n",
       "    <tr>\n",
       "      <th>top</th>\n",
       "      <td>Rabindranath Tagore</td>\n",
       "      <td>রসিক।</td>\n",
       "    </tr>\n",
       "    <tr>\n",
       "      <th>freq</th>\n",
       "      <td>225593</td>\n",
       "      <td>401</td>\n",
       "    </tr>\n",
       "  </tbody>\n",
       "</table>\n",
       "</div>"
      ],
      "text/plain": [
       "                     Author tokenized_sentence\n",
       "count                391539             391539\n",
       "unique                    7             340191\n",
       "top     Rabindranath Tagore              রসিক।\n",
       "freq                 225593                401"
      ]
     },
     "metadata": {},
     "output_type": "display_data"
    },
    {
     "name": "stdout",
     "output_type": "stream",
     "text": [
      "time: 419 ms (started: 2024-01-09 00:53:44 +00:00)\n"
     ]
    }
   ],
   "source": [
    "display(df.describe())"
   ]
  },
  {
   "cell_type": "code",
   "execution_count": 10,
   "id": "7a6e1f38",
   "metadata": {
    "execution": {
     "iopub.execute_input": "2024-01-09T00:53:44.793842Z",
     "iopub.status.busy": "2024-01-09T00:53:44.793513Z",
     "iopub.status.idle": "2024-01-09T00:53:44.879439Z",
     "shell.execute_reply": "2024-01-09T00:53:44.878444Z"
    },
    "id": "TX3arPBezR8v",
    "outputId": "03a525b3-98ed-437b-9823-433fddcda613",
    "papermill": {
     "duration": 0.116614,
     "end_time": "2024-01-09T00:53:44.881525",
     "exception": false,
     "start_time": "2024-01-09T00:53:44.764911",
     "status": "completed"
    },
    "tags": []
   },
   "outputs": [
    {
     "data": {
      "text/plain": [
       "Author                0\n",
       "tokenized_sentence    0\n",
       "dtype: int64"
      ]
     },
     "execution_count": 10,
     "metadata": {},
     "output_type": "execute_result"
    },
    {
     "name": "stdout",
     "output_type": "stream",
     "text": [
      "time: 82 ms (started: 2024-01-09 00:53:44 +00:00)\n"
     ]
    }
   ],
   "source": [
    "df.isnull().sum()"
   ]
  },
  {
   "cell_type": "code",
   "execution_count": 11,
   "id": "75c41335",
   "metadata": {
    "execution": {
     "iopub.execute_input": "2024-01-09T00:53:44.936459Z",
     "iopub.status.busy": "2024-01-09T00:53:44.935772Z",
     "iopub.status.idle": "2024-01-09T00:53:45.462994Z",
     "shell.execute_reply": "2024-01-09T00:53:45.462067Z"
    },
    "id": "s168qOSwzR_J",
    "outputId": "3f6f1b5d-5aae-4cc3-fe30-8f1734c54f1a",
    "papermill": {
     "duration": 0.556889,
     "end_time": "2024-01-09T00:53:45.465102",
     "exception": false,
     "start_time": "2024-01-09T00:53:44.908213",
     "status": "completed"
    },
    "tags": []
   },
   "outputs": [
    {
     "name": "stdout",
     "output_type": "stream",
     "text": [
      "Total number of sentences: 391539\n",
      "Unique number of Author: 7\n",
      "Authors => Humayun Ahmed, Rabindranath Tagore, Sharat Chandra Chattapaddhay, Bankim Chandra, Begum Rokeya, Zafor Iqbal, Ahmad Sofa\n",
      "Unique number of sentences: 340191\n"
     ]
    },
    {
     "data": {
      "text/plain": [
       "Author\n",
       "Rabindranath Tagore             225593\n",
       "Sharat Chandra Chattapaddhay     85491\n",
       "Bankim Chandra                   45321\n",
       "Zafor Iqbal                      10686\n",
       "Humayun Ahmed                     9994\n",
       "Ahmad Sofa                        7387\n",
       "Begum Rokeya                      7067\n",
       "Name: count, dtype: int64"
      ]
     },
     "execution_count": 11,
     "metadata": {},
     "output_type": "execute_result"
    },
    {
     "name": "stdout",
     "output_type": "stream",
     "text": [
      "time: 522 ms (started: 2024-01-09 00:53:44 +00:00)\n"
     ]
    }
   ],
   "source": [
    "\n",
    "print(f'Total number of sentences:',len(df['tokenized_sentence']))\n",
    "print(f'Unique number of Author:',len(df['Author'].unique()))\n",
    "print(f\"Authors => {', '.join(df['Author'].unique())}\")\n",
    "print(f'Unique number of sentences:',len(df['tokenized_sentence'].unique()))\n",
    "df[\"Author\"].value_counts()"
   ]
  },
  {
   "cell_type": "code",
   "execution_count": 12,
   "id": "ab2a1425",
   "metadata": {
    "execution": {
     "iopub.execute_input": "2024-01-09T00:53:45.520744Z",
     "iopub.status.busy": "2024-01-09T00:53:45.520450Z",
     "iopub.status.idle": "2024-01-09T00:53:45.602426Z",
     "shell.execute_reply": "2024-01-09T00:53:45.601513Z"
    },
    "id": "sji5eoUkzSBt",
    "outputId": "c3a790d2-f8a3-4e11-dc76-dc11005db627",
    "papermill": {
     "duration": 0.111796,
     "end_time": "2024-01-09T00:53:45.604454",
     "exception": false,
     "start_time": "2024-01-09T00:53:45.492658",
     "status": "completed"
    },
    "tags": []
   },
   "outputs": [
    {
     "name": "stdout",
     "output_type": "stream",
     "text": [
      "Duplicate sentences = 51348\n",
      "time: 77.7 ms (started: 2024-01-09 00:53:45 +00:00)\n"
     ]
    }
   ],
   "source": [
    "size = len(df['tokenized_sentence'])\n",
    "size_uniq = len(df['tokenized_sentence'].drop_duplicates())\n",
    "\n",
    "print(\"Duplicate sentences =\",(size - size_uniq))"
   ]
  },
  {
   "cell_type": "code",
   "execution_count": 13,
   "id": "4272f14e",
   "metadata": {
    "execution": {
     "iopub.execute_input": "2024-01-09T00:53:45.660596Z",
     "iopub.status.busy": "2024-01-09T00:53:45.660289Z",
     "iopub.status.idle": "2024-01-09T00:53:45.982399Z",
     "shell.execute_reply": "2024-01-09T00:53:45.981346Z"
    },
    "id": "voekqoHYzSEF",
    "outputId": "82b7495c-cfa7-4bba-a647-96ca6e205580",
    "papermill": {
     "duration": 0.352712,
     "end_time": "2024-01-09T00:53:45.985011",
     "exception": false,
     "start_time": "2024-01-09T00:53:45.632299",
     "status": "completed"
    },
    "tags": []
   },
   "outputs": [
    {
     "data": {
      "text/html": [
       "<div>\n",
       "<style scoped>\n",
       "    .dataframe tbody tr th:only-of-type {\n",
       "        vertical-align: middle;\n",
       "    }\n",
       "\n",
       "    .dataframe tbody tr th {\n",
       "        vertical-align: top;\n",
       "    }\n",
       "\n",
       "    .dataframe thead th {\n",
       "        text-align: right;\n",
       "    }\n",
       "</style>\n",
       "<table border=\"1\" class=\"dataframe\">\n",
       "  <thead>\n",
       "    <tr style=\"text-align: right;\">\n",
       "      <th></th>\n",
       "      <th>Author</th>\n",
       "      <th>tokenized_sentence</th>\n",
       "    </tr>\n",
       "  </thead>\n",
       "  <tbody>\n",
       "    <tr>\n",
       "      <th>292</th>\n",
       "      <td>Bankim Chandra</td>\n",
       "      <td>আমি।</td>\n",
       "    </tr>\n",
       "    <tr>\n",
       "      <th>917</th>\n",
       "      <td>Rabindranath Tagore</td>\n",
       "      <td>অচিরা বললে, “সব বুঝলুম।”</td>\n",
       "    </tr>\n",
       "    <tr>\n",
       "      <th>1299</th>\n",
       "      <td>Rabindranath Tagore</td>\n",
       "      <td>শৈল।</td>\n",
       "    </tr>\n",
       "    <tr>\n",
       "      <th>1320</th>\n",
       "      <td>Begum Rokeya</td>\n",
       "      <td>জাফ ।</td>\n",
       "    </tr>\n",
       "    <tr>\n",
       "      <th>1397</th>\n",
       "      <td>Bankim Chandra</td>\n",
       "      <td>না।</td>\n",
       "    </tr>\n",
       "    <tr>\n",
       "      <th>1509</th>\n",
       "      <td>Rabindranath Tagore</td>\n",
       "      <td>বিনোদিনী।</td>\n",
       "    </tr>\n",
       "    <tr>\n",
       "      <th>1813</th>\n",
       "      <td>Sharat Chandra Chattapaddhay</td>\n",
       "      <td>কেন?</td>\n",
       "    </tr>\n",
       "    <tr>\n",
       "      <th>1872</th>\n",
       "      <td>Bankim Chandra</td>\n",
       "      <td>রাজা।</td>\n",
       "    </tr>\n",
       "    <tr>\n",
       "      <th>1943</th>\n",
       "      <td>Rabindranath Tagore</td>\n",
       "      <td>পুরবালা।</td>\n",
       "    </tr>\n",
       "    <tr>\n",
       "      <th>2025</th>\n",
       "      <td>Bankim Chandra</td>\n",
       "      <td>তিনি।</td>\n",
       "    </tr>\n",
       "    <tr>\n",
       "      <th>2070</th>\n",
       "      <td>Bankim Chandra</td>\n",
       "      <td>স।</td>\n",
       "    </tr>\n",
       "    <tr>\n",
       "      <th>2120</th>\n",
       "      <td>Bankim Chandra</td>\n",
       "      <td>মা।</td>\n",
       "    </tr>\n",
       "    <tr>\n",
       "      <th>2210</th>\n",
       "      <td>Bankim Chandra</td>\n",
       "      <td>আমি।</td>\n",
       "    </tr>\n",
       "    <tr>\n",
       "      <th>2217</th>\n",
       "      <td>Rabindranath Tagore</td>\n",
       "      <td>রসিক।</td>\n",
       "    </tr>\n",
       "    <tr>\n",
       "      <th>2218</th>\n",
       "      <td>Rabindranath Tagore</td>\n",
       "      <td>“না, আমার স্বামীর সম্মতি আছে।”</td>\n",
       "    </tr>\n",
       "    <tr>\n",
       "      <th>2305</th>\n",
       "      <td>Rabindranath Tagore</td>\n",
       "      <td>শৈল।</td>\n",
       "    </tr>\n",
       "    <tr>\n",
       "      <th>2331</th>\n",
       "      <td>Rabindranath Tagore</td>\n",
       "      <td>মহেন্দ্র।</td>\n",
       "    </tr>\n",
       "    <tr>\n",
       "      <th>2347</th>\n",
       "      <td>Bankim Chandra</td>\n",
       "      <td>মা।</td>\n",
       "    </tr>\n",
       "    <tr>\n",
       "      <th>2469</th>\n",
       "      <td>Rabindranath Tagore</td>\n",
       "      <td>বিনোদিনী।</td>\n",
       "    </tr>\n",
       "    <tr>\n",
       "      <th>2566</th>\n",
       "      <td>Rabindranath Tagore</td>\n",
       "      <td>নীরবালা।</td>\n",
       "    </tr>\n",
       "  </tbody>\n",
       "</table>\n",
       "</div>"
      ],
      "text/plain": [
       "                            Author              tokenized_sentence\n",
       "292                 Bankim Chandra                            আমি।\n",
       "917            Rabindranath Tagore        অচিরা বললে, “সব বুঝলুম।”\n",
       "1299           Rabindranath Tagore                            শৈল।\n",
       "1320                  Begum Rokeya                           জাফ ।\n",
       "1397                Bankim Chandra                             না।\n",
       "1509           Rabindranath Tagore                       বিনোদিনী।\n",
       "1813  Sharat Chandra Chattapaddhay                            কেন?\n",
       "1872                Bankim Chandra                           রাজা।\n",
       "1943           Rabindranath Tagore                        পুরবালা।\n",
       "2025                Bankim Chandra                           তিনি।\n",
       "2070                Bankim Chandra                              স।\n",
       "2120                Bankim Chandra                             মা।\n",
       "2210                Bankim Chandra                            আমি।\n",
       "2217           Rabindranath Tagore                           রসিক।\n",
       "2218           Rabindranath Tagore  “না, আমার স্বামীর সম্মতি আছে।”\n",
       "2305           Rabindranath Tagore                            শৈল।\n",
       "2331           Rabindranath Tagore                       মহেন্দ্র।\n",
       "2347                Bankim Chandra                             মা।\n",
       "2469           Rabindranath Tagore                       বিনোদিনী।\n",
       "2566           Rabindranath Tagore                        নীরবালা।"
      ]
     },
     "execution_count": 13,
     "metadata": {},
     "output_type": "execute_result"
    },
    {
     "name": "stdout",
     "output_type": "stream",
     "text": [
      "time: 318 ms (started: 2024-01-09 00:53:45 +00:00)\n"
     ]
    }
   ],
   "source": [
    "df2 = df[df.duplicated()]\n",
    "df2.head(20)"
   ]
  },
  {
   "cell_type": "code",
   "execution_count": 14,
   "id": "b307808d",
   "metadata": {
    "execution": {
     "iopub.execute_input": "2024-01-09T00:53:46.043242Z",
     "iopub.status.busy": "2024-01-09T00:53:46.042882Z",
     "iopub.status.idle": "2024-01-09T00:53:46.248495Z",
     "shell.execute_reply": "2024-01-09T00:53:46.247373Z"
    },
    "id": "xEi_ST9WzSHN",
    "outputId": "b6f587e6-bd25-4e5f-d620-279982efdbe7",
    "papermill": {
     "duration": 0.23942,
     "end_time": "2024-01-09T00:53:46.253303",
     "exception": false,
     "start_time": "2024-01-09T00:53:46.013883",
     "status": "completed"
    },
    "tags": []
   },
   "outputs": [
    {
     "data": {
      "image/png": "[encoded data removed]",
      "text/plain": [
       "<Figure size 640x480 with 1 Axes>"
      ]
     },
     "metadata": {},
     "output_type": "display_data"
    },
    {
     "name": "stdout",
     "output_type": "stream",
     "text": [
      "time: 200 ms (started: 2024-01-09 00:53:46 +00:00)\n"
     ]
    }
   ],
   "source": [
    "labels = 'Duplicates', 'Non-Duplicates'\n",
    "sizes = [size - size_uniq, size_uniq]\n",
    "colors = ['lightcoral', 'lightskyblue']\n",
    "explode = (0.1, 0)  # explode the 1st slice (Duplicates)\n",
    "\n",
    "plt.pie(sizes, explode=explode, labels=labels, colors=colors, autopct='%1.1f%%', shadow=True, startangle=140)\n",
    "plt.axis('equal')  # Equal aspect ratio ensures that pie is drawn as a circle.\n",
    "\n",
    "plt.title('Duplicate vs. Non-Duplicate Data Counts')\n",
    "plt.show()\n"
   ]
  },
  {
   "cell_type": "code",
   "execution_count": 15,
   "id": "0c30e3cf",
   "metadata": {
    "execution": {
     "iopub.execute_input": "2024-01-09T00:53:46.341984Z",
     "iopub.status.busy": "2024-01-09T00:53:46.341647Z",
     "iopub.status.idle": "2024-01-09T00:53:46.750834Z",
     "shell.execute_reply": "2024-01-09T00:53:46.749904Z"
    },
    "id": "4JoKscoczSLo",
    "outputId": "9d79c76b-1f2d-48ce-ae17-f3d7720374dc",
    "papermill": {
     "duration": 0.440703,
     "end_time": "2024-01-09T00:53:46.753147",
     "exception": false,
     "start_time": "2024-01-09T00:53:46.312444",
     "status": "completed"
    },
    "tags": []
   },
   "outputs": [
    {
     "name": "stdout",
     "output_type": "stream",
     "text": [
      "Total number of sentences: 340191\n",
      "Unique number of Author: 7\n",
      "Authors => Humayun Ahmed, Rabindranath Tagore, Sharat Chandra Chattapaddhay, Bankim Chandra, Begum Rokeya, Zafor Iqbal, Ahmad Sofa\n",
      "Unique number of sentences: 340191\n"
     ]
    },
    {
     "data": {
      "text/plain": [
       "Author\n",
       "Rabindranath Tagore             188140\n",
       "Sharat Chandra Chattapaddhay     83126\n",
       "Bankim Chandra                   39926\n",
       "Zafor Iqbal                       7661\n",
       "Humayun Ahmed                     7565\n",
       "Ahmad Sofa                        7227\n",
       "Begum Rokeya                      6546\n",
       "Name: count, dtype: int64"
      ]
     },
     "execution_count": 15,
     "metadata": {},
     "output_type": "execute_result"
    },
    {
     "name": "stdout",
     "output_type": "stream",
     "text": [
      "time: 404 ms (started: 2024-01-09 00:53:46 +00:00)\n"
     ]
    }
   ],
   "source": [
    "df = df.drop_duplicates(subset='tokenized_sentence',ignore_index=True)\n",
    "\n",
    "\n",
    "print(f'Total number of sentences:',len(df['tokenized_sentence']))\n",
    "print(f'Unique number of Author:',len(df['Author'].unique()))\n",
    "print(f\"Authors => {', '.join(df['Author'].unique())}\")\n",
    "print(f'Unique number of sentences:',len(df['tokenized_sentence'].unique()))\n",
    "df[\"Author\"].value_counts()"
   ]
  },
  {
   "cell_type": "code",
   "execution_count": 16,
   "id": "017c2222",
   "metadata": {
    "execution": {
     "iopub.execute_input": "2024-01-09T00:53:46.812860Z",
     "iopub.status.busy": "2024-01-09T00:53:46.812555Z",
     "iopub.status.idle": "2024-01-09T00:53:48.174873Z",
     "shell.execute_reply": "2024-01-09T00:53:48.173851Z"
    },
    "id": "SF4UGh4YzSQS",
    "outputId": "8f3c953d-bfc5-4ded-9cbc-33c016e5d38d",
    "papermill": {
     "duration": 1.394406,
     "end_time": "2024-01-09T00:53:48.177036",
     "exception": false,
     "start_time": "2024-01-09T00:53:46.782630",
     "status": "completed"
    },
    "tags": []
   },
   "outputs": [
    {
     "name": "stdout",
     "output_type": "stream",
     "text": [
      "Smallest text length = 1\n",
      "Largest text length = 800\n",
      "Average text length = 12\n",
      "time: 1.36 s (started: 2024-01-09 00:53:46 +00:00)\n"
     ]
    }
   ],
   "source": [
    "length = 0\n",
    "count = 0\n",
    "max = 0\n",
    "min = 99999999999999999999999999999\n",
    "for i in df['tokenized_sentence']:\n",
    "  length+=len(str(i).split(\" \"))\n",
    "  if len(str(i).split(\" \"))>max:\n",
    "    max = len(str(i).split(\" \"))\n",
    "  if len(str(i).split(\" \"))<min:\n",
    "    min = len(str(i).split(\" \"))\n",
    "  count+=1\n",
    "average = length//count\n",
    "print('Smallest text length =',min)\n",
    "print('Largest text length =',max)\n",
    "print('Average text length =',average)"
   ]
  },
  {
   "cell_type": "code",
   "execution_count": 17,
   "id": "7743b85d",
   "metadata": {
    "execution": {
     "iopub.execute_input": "2024-01-09T00:53:48.237832Z",
     "iopub.status.busy": "2024-01-09T00:53:48.237543Z",
     "iopub.status.idle": "2024-01-09T00:53:48.881696Z",
     "shell.execute_reply": "2024-01-09T00:53:48.880530Z"
    },
    "id": "n2H6G9ilzST2",
    "outputId": "07c62029-cb18-4f81-c66e-48074a0e451c",
    "papermill": {
     "duration": 0.676212,
     "end_time": "2024-01-09T00:53:48.883754",
     "exception": false,
     "start_time": "2024-01-09T00:53:48.207542",
     "status": "completed"
    },
    "tags": []
   },
   "outputs": [
    {
     "name": "stdout",
     "output_type": "stream",
     "text": [
      "Smallest text count = 152384\n",
      "Largest text count = 90966\n",
      "Average text count = 96841\n",
      "time: 639 ms (started: 2024-01-09 00:53:48 +00:00)\n"
     ]
    }
   ],
   "source": [
    "small = 0\n",
    "large = 0\n",
    "avg = 0\n",
    "for i in df['tokenized_sentence']:\n",
    "  l = len(str(i).split(\" \"))\n",
    "  if 10<=l<=15:\n",
    "    avg+=1\n",
    "  elif l>average:\n",
    "    large+=1\n",
    "  else:\n",
    "    small+=1\n",
    "\n",
    "print('Smallest text count =',small)\n",
    "print('Largest text count =',large)\n",
    "print('Average text count =',avg)"
   ]
  },
  {
   "cell_type": "code",
   "execution_count": 18,
   "id": "2782f664",
   "metadata": {
    "execution": {
     "iopub.execute_input": "2024-01-09T00:53:48.947262Z",
     "iopub.status.busy": "2024-01-09T00:53:48.946928Z",
     "iopub.status.idle": "2024-01-09T00:53:49.102156Z",
     "shell.execute_reply": "2024-01-09T00:53:49.101207Z"
    },
    "id": "xYf7hiV5zSV2",
    "outputId": "e136d154-d5c0-46d1-8989-cbc5a722783f",
    "papermill": {
     "duration": 0.189084,
     "end_time": "2024-01-09T00:53:49.105291",
     "exception": false,
     "start_time": "2024-01-09T00:53:48.916207",
     "status": "completed"
    },
    "tags": []
   },
   "outputs": [
    {
     "data": {
      "image/png": "[encoded data removed]",
      "text/plain": [
       "<Figure size 640x480 with 1 Axes>"
      ]
     },
     "metadata": {},
     "output_type": "display_data"
    },
    {
     "name": "stdout",
     "output_type": "stream",
     "text": [
      "time: 150 ms (started: 2024-01-09 00:53:48 +00:00)\n"
     ]
    }
   ],
   "source": [
    "data1 = {'Smallest sentences':small,'Large sentences':large,'Average sentences':avg}\n",
    "names = list(data1.keys())\n",
    "values = list(data1.values())\n",
    "colors = ['cyan','grey','purple']\n",
    "plt.bar(range(len(data1)), values, tick_label=names,color=colors)\n",
    "plt.show()\n"
   ]
  },
  {
   "cell_type": "code",
   "execution_count": 19,
   "id": "983bbb89",
   "metadata": {
    "execution": {
     "iopub.execute_input": "2024-01-09T00:53:49.166034Z",
     "iopub.status.busy": "2024-01-09T00:53:49.165717Z",
     "iopub.status.idle": "2024-01-09T00:53:49.779024Z",
     "shell.execute_reply": "2024-01-09T00:53:49.777747Z"
    },
    "id": "3h9kvNc2zSZY",
    "outputId": "5214b4e0-5bb7-4492-f789-94e16979ff46",
    "papermill": {
     "duration": 0.646134,
     "end_time": "2024-01-09T00:53:49.781584",
     "exception": false,
     "start_time": "2024-01-09T00:53:49.135450",
     "status": "completed"
    },
    "tags": []
   },
   "outputs": [
    {
     "data": {
      "image/png": "[encoded data removed]",
      "text/plain": [
       "<Figure size 640x480 with 1 Axes>"
      ]
     },
     "metadata": {},
     "output_type": "display_data"
    },
    {
     "name": "stdout",
     "output_type": "stream",
     "text": [
      "=============================================================================================\n"
     ]
    },
    {
     "data": {
      "text/plain": [
       "<Axes: ylabel='count'>"
      ]
     },
     "execution_count": 19,
     "metadata": {},
     "output_type": "execute_result"
    },
    {
     "data": {
      "image/png": "[encoded data removed]",
      "text/plain": [
       "<Figure size 640x480 with 1 Axes>"
      ]
     },
     "metadata": {},
     "output_type": "display_data"
    },
    {
     "name": "stdout",
     "output_type": "stream",
     "text": [
      "time: 607 ms (started: 2024-01-09 00:53:49 +00:00)\n"
     ]
    }
   ],
   "source": [
    "\n",
    "dataplot_a = df['Author'].value_counts()\n",
    "\n",
    "import matplotlib.font_manager as fm\n",
    "colors = ['red', 'green', 'blue','black','orange','purple']\n",
    "dataplot_a.plot(kind='bar',color = colors)\n",
    "plt.xlabel('Authors')\n",
    "plt.ylabel('Text Count')\n",
    "plt.title('Different Author\\'s Text Count')\n",
    "plt.show()\n",
    "\n",
    "\n",
    "print('=============================================================================================')\n",
    "\n",
    "df[\"Author\"].value_counts().plot(kind=\"pie\",autopct='%.2f%%',\n",
    "    shadow=True)\n",
    "\n",
    "\n",
    "\n"
   ]
  },
  {
   "cell_type": "markdown",
   "id": "9b77be79",
   "metadata": {
    "id": "H4x2z9H30sTc",
    "papermill": {
     "duration": 0.030723,
     "end_time": "2024-01-09T00:53:49.846334",
     "exception": false,
     "start_time": "2024-01-09T00:53:49.815611",
     "status": "completed"
    },
    "tags": []
   },
   "source": [
    "# ***Labeling***"
   ]
  },
  {
   "cell_type": "code",
   "execution_count": 20,
   "id": "d973889b",
   "metadata": {
    "execution": {
     "iopub.execute_input": "2024-01-09T00:53:49.910329Z",
     "iopub.status.busy": "2024-01-09T00:53:49.910016Z",
     "iopub.status.idle": "2024-01-09T00:53:49.947199Z",
     "shell.execute_reply": "2024-01-09T00:53:49.946244Z"
    },
    "id": "UJfS3cwz83b2",
    "outputId": "8e0e3de2-8c73-464f-84c0-f31f57ad5f2b",
    "papermill": {
     "duration": 0.071416,
     "end_time": "2024-01-09T00:53:49.949012",
     "exception": false,
     "start_time": "2024-01-09T00:53:49.877596",
     "status": "completed"
    },
    "tags": []
   },
   "outputs": [
    {
     "name": "stdout",
     "output_type": "stream",
     "text": [
      "time: 33.2 ms (started: 2024-01-09 00:53:49 +00:00)\n"
     ]
    }
   ],
   "source": [
    "df['Author_label'] = df['Author'].map({'Rabindranath Tagore':1,'Bankim Chandra':0,'Sharat Chandra Chattapaddhay':0,'Humayun Ahmed':0,'Zafor Iqbal':0,'Begum Rokeya':0,'Ahmad Sofa':0})"
   ]
  },
  {
   "cell_type": "code",
   "execution_count": 21,
   "id": "7e3c7432",
   "metadata": {
    "execution": {
     "iopub.execute_input": "2024-01-09T00:53:50.012956Z",
     "iopub.status.busy": "2024-01-09T00:53:50.012663Z",
     "iopub.status.idle": "2024-01-09T00:53:50.022564Z",
     "shell.execute_reply": "2024-01-09T00:53:50.021632Z"
    },
    "id": "LyG4sSSM9BWy",
    "outputId": "e04fcf11-3a76-483b-c074-e1019b6c6be5",
    "papermill": {
     "duration": 0.043721,
     "end_time": "2024-01-09T00:53:50.024678",
     "exception": false,
     "start_time": "2024-01-09T00:53:49.980957",
     "status": "completed"
    },
    "tags": []
   },
   "outputs": [
    {
     "data": {
      "text/html": [
       "<div>\n",
       "<style scoped>\n",
       "    .dataframe tbody tr th:only-of-type {\n",
       "        vertical-align: middle;\n",
       "    }\n",
       "\n",
       "    .dataframe tbody tr th {\n",
       "        vertical-align: top;\n",
       "    }\n",
       "\n",
       "    .dataframe thead th {\n",
       "        text-align: right;\n",
       "    }\n",
       "</style>\n",
       "<table border=\"1\" class=\"dataframe\">\n",
       "  <thead>\n",
       "    <tr style=\"text-align: right;\">\n",
       "      <th></th>\n",
       "      <th>Author</th>\n",
       "      <th>tokenized_sentence</th>\n",
       "      <th>Author_label</th>\n",
       "    </tr>\n",
       "  </thead>\n",
       "  <tbody>\n",
       "    <tr>\n",
       "      <th>0</th>\n",
       "      <td>Humayun Ahmed</td>\n",
       "      <td>খুব সাবধানে লিকার বের করব।</td>\n",
       "      <td>0</td>\n",
       "    </tr>\n",
       "    <tr>\n",
       "      <th>1</th>\n",
       "      <td>Rabindranath Tagore</td>\n",
       "      <td>এই-যে বিশ্ববিদ্যালয়ে সংগীতশিক্ষার ব্যবস্থা হচ্...</td>\n",
       "      <td>1</td>\n",
       "    </tr>\n",
       "    <tr>\n",
       "      <th>2</th>\n",
       "      <td>Rabindranath Tagore</td>\n",
       "      <td>“তখন তো ওর এত গুমর ছিল না।”</td>\n",
       "      <td>1</td>\n",
       "    </tr>\n",
       "    <tr>\n",
       "      <th>3</th>\n",
       "      <td>Rabindranath Tagore</td>\n",
       "      <td>মানুষ আবার ফিরল তার প্রথম আরম্ভের অবস্থায়— সেই...</td>\n",
       "      <td>1</td>\n",
       "    </tr>\n",
       "    <tr>\n",
       "      <th>4</th>\n",
       "      <td>Sharat Chandra Chattapaddhay</td>\n",
       "      <td>বলিল, মাথা খাও সেজদাদামশাই, আর একদিন আনতে যেন ...</td>\n",
       "      <td>0</td>\n",
       "    </tr>\n",
       "  </tbody>\n",
       "</table>\n",
       "</div>"
      ],
      "text/plain": [
       "                         Author  \\\n",
       "0                 Humayun Ahmed   \n",
       "1           Rabindranath Tagore   \n",
       "2           Rabindranath Tagore   \n",
       "3           Rabindranath Tagore   \n",
       "4  Sharat Chandra Chattapaddhay   \n",
       "\n",
       "                                  tokenized_sentence  Author_label  \n",
       "0                         খুব সাবধানে লিকার বের করব।             0  \n",
       "1  এই-যে বিশ্ববিদ্যালয়ে সংগীতশিক্ষার ব্যবস্থা হচ্...             1  \n",
       "2                        “তখন তো ওর এত গুমর ছিল না।”             1  \n",
       "3  মানুষ আবার ফিরল তার প্রথম আরম্ভের অবস্থায়— সেই...             1  \n",
       "4  বলিল, মাথা খাও সেজদাদামশাই, আর একদিন আনতে যেন ...             0  "
      ]
     },
     "execution_count": 21,
     "metadata": {},
     "output_type": "execute_result"
    },
    {
     "name": "stdout",
     "output_type": "stream",
     "text": [
      "time: 6.01 ms (started: 2024-01-09 00:53:50 +00:00)\n"
     ]
    }
   ],
   "source": [
    "df.head()"
   ]
  },
  {
   "cell_type": "markdown",
   "id": "1d037c16",
   "metadata": {
    "id": "MI1uaJGV9Dwh",
    "papermill": {
     "duration": 0.030625,
     "end_time": "2024-01-09T00:53:50.086207",
     "exception": false,
     "start_time": "2024-01-09T00:53:50.055582",
     "status": "completed"
    },
    "tags": []
   },
   "source": [
    "# ***Undersampling***"
   ]
  },
  {
   "cell_type": "code",
   "execution_count": 22,
   "id": "82c530ea",
   "metadata": {
    "execution": {
     "iopub.execute_input": "2024-01-09T00:53:50.149463Z",
     "iopub.status.busy": "2024-01-09T00:53:50.149171Z",
     "iopub.status.idle": "2024-01-09T00:53:50.618244Z",
     "shell.execute_reply": "2024-01-09T00:53:50.617343Z"
    },
    "papermill": {
     "duration": 0.503917,
     "end_time": "2024-01-09T00:53:50.621087",
     "exception": false,
     "start_time": "2024-01-09T00:53:50.117170",
     "status": "completed"
    },
    "tags": []
   },
   "outputs": [
    {
     "name": "stdout",
     "output_type": "stream",
     "text": [
      "[nltk_data] Downloading package stopwords to /usr/share/nltk_data...\n",
      "[nltk_data]   Package stopwords is already up-to-date!\n"
     ]
    },
    {
     "data": {
      "text/plain": [
       "True"
      ]
     },
     "execution_count": 22,
     "metadata": {},
     "output_type": "execute_result"
    },
    {
     "name": "stdout",
     "output_type": "stream",
     "text": [
      "time: 465 ms (started: 2024-01-09 00:53:50 +00:00)\n"
     ]
    }
   ],
   "source": [
    "import nltk\n",
    "nltk.download('stopwords')"
   ]
  },
  {
   "cell_type": "code",
   "execution_count": 23,
   "id": "a3cccee4",
   "metadata": {
    "execution": {
     "iopub.execute_input": "2024-01-09T00:53:50.685009Z",
     "iopub.status.busy": "2024-01-09T00:53:50.684707Z",
     "iopub.status.idle": "2024-01-09T00:53:51.051923Z",
     "shell.execute_reply": "2024-01-09T00:53:51.050802Z"
    },
    "id": "3UXaoi-nzSfB",
    "outputId": "bd9a3bfc-de80-438f-cffe-06cc581ebbc3",
    "papermill": {
     "duration": 0.401177,
     "end_time": "2024-01-09T00:53:51.054042",
     "exception": false,
     "start_time": "2024-01-09T00:53:50.652865",
     "status": "completed"
    },
    "tags": []
   },
   "outputs": [
    {
     "name": "stdout",
     "output_type": "stream",
     "text": [
      "time: 362 ms (started: 2024-01-09 00:53:50 +00:00)\n"
     ]
    }
   ],
   "source": [
    "df1 = df.loc[df['Author']=='Rabindranath Tagore']\n",
    "df2 = df.loc[df['Author']=='Sharat Chandra Chattapaddhay']\n",
    "df3 = df.loc[df['Author']=='Bankim Chandra']\n",
    "df4 = df.loc[df['Author']=='Zafor Iqbal']\n",
    "df5 = df.loc[df['Author']=='Humayun Ahmed']\n",
    "df6 = df.loc[df['Author']=='Ahmad Sofa']\n",
    "df7 = df.loc[df['Author']=='Begum Rokeya']\n"
   ]
  },
  {
   "cell_type": "code",
   "execution_count": 24,
   "id": "f57da25f",
   "metadata": {
    "execution": {
     "iopub.execute_input": "2024-01-09T00:53:51.121246Z",
     "iopub.status.busy": "2024-01-09T00:53:51.120496Z",
     "iopub.status.idle": "2024-01-09T00:53:51.126246Z",
     "shell.execute_reply": "2024-01-09T00:53:51.125239Z"
    },
    "id": "R6I-yUqozShP",
    "outputId": "a9043df3-ae98-4e5d-f78d-5631f7450466",
    "papermill": {
     "duration": 0.039793,
     "end_time": "2024-01-09T00:53:51.128055",
     "exception": false,
     "start_time": "2024-01-09T00:53:51.088262",
     "status": "completed"
    },
    "tags": []
   },
   "outputs": [
    {
     "name": "stdout",
     "output_type": "stream",
     "text": [
      "(188140, 3)\n",
      "(83126, 3)\n",
      "(39926, 3)\n",
      "(7661, 3)\n",
      "(7565, 3)\n",
      "(7227, 3)\n",
      "(6546, 3)\n",
      "time: 693 µs (started: 2024-01-09 00:53:51 +00:00)\n"
     ]
    }
   ],
   "source": [
    "print(df1.shape)\n",
    "print(df2.shape)\n",
    "print(df3.shape)\n",
    "print(df4.shape)\n",
    "print(df5.shape)\n",
    "print(df6.shape)\n",
    "print(df7.shape)"
   ]
  },
  {
   "cell_type": "code",
   "execution_count": 25,
   "id": "7a67918e",
   "metadata": {
    "execution": {
     "iopub.execute_input": "2024-01-09T00:53:51.192446Z",
     "iopub.status.busy": "2024-01-09T00:53:51.192159Z",
     "iopub.status.idle": "2024-01-09T00:53:51.238077Z",
     "shell.execute_reply": "2024-01-09T00:53:51.237041Z"
    },
    "id": "UzYaH_OXzSjk",
    "outputId": "810508b1-1b4b-4ffc-d497-3c4b76756d3b",
    "papermill": {
     "duration": 0.080473,
     "end_time": "2024-01-09T00:53:51.240223",
     "exception": false,
     "start_time": "2024-01-09T00:53:51.159750",
     "status": "completed"
    },
    "tags": []
   },
   "outputs": [
    {
     "name": "stdout",
     "output_type": "stream",
     "text": [
      "time: 40.9 ms (started: 2024-01-09 00:53:51 +00:00)\n"
     ]
    }
   ],
   "source": [
    "df11 = df1.sample(152035,replace=True)\n",
    "df12 = df2.sample(83108,replace=True)\n",
    "df13 = df3.sample(39928,replace=True)\n",
    "df14 = df4.sample(7656,replace=True)\n",
    "df15 = df5.sample(7564,replace=True)\n",
    "df16 = df6.sample(7226,replace=True)\n",
    "df17 = df7.sample(6553,replace=True)"
   ]
  },
  {
   "cell_type": "code",
   "execution_count": 26,
   "id": "9c7ec6d1",
   "metadata": {
    "execution": {
     "iopub.execute_input": "2024-01-09T00:53:51.307249Z",
     "iopub.status.busy": "2024-01-09T00:53:51.306979Z",
     "iopub.status.idle": "2024-01-09T00:53:51.314820Z",
     "shell.execute_reply": "2024-01-09T00:53:51.313998Z"
    },
    "id": "8mC8PIJk6xHz",
    "outputId": "221243ea-127b-4fb3-895b-8fdbcc76fbe4",
    "papermill": {
     "duration": 0.043193,
     "end_time": "2024-01-09T00:53:51.316677",
     "exception": false,
     "start_time": "2024-01-09T00:53:51.273484",
     "status": "completed"
    },
    "tags": []
   },
   "outputs": [
    {
     "name": "stdout",
     "output_type": "stream",
     "text": [
      "time: 2.46 ms (started: 2024-01-09 00:53:51 +00:00)\n"
     ]
    }
   ],
   "source": [
    "#train+eval data\n",
    "df21 = df11[:136831]\n",
    "df22 = df12[:76486]\n",
    "df23 = df13[:35142]\n",
    "df24 = df14[:6824]\n",
    "df25 = df15[:6651]\n",
    "df26 = df16[:6180]\n",
    "df27 = df17[:5548]\n",
    "\n",
    "#test data\n",
    "df31 = df11[136831:]\n",
    "df32 = df12[76486:]\n",
    "df33 = df13[35142:]\n",
    "df34 = df14[6824:]\n",
    "df35 = df15[6651:]\n",
    "df36 = df16[6180:]\n",
    "df37 = df17[5548:]"
   ]
  },
  {
   "cell_type": "code",
   "execution_count": 27,
   "id": "da4869b6",
   "metadata": {
    "execution": {
     "iopub.execute_input": "2024-01-09T00:53:51.380979Z",
     "iopub.status.busy": "2024-01-09T00:53:51.380675Z",
     "iopub.status.idle": "2024-01-09T00:53:51.487116Z",
     "shell.execute_reply": "2024-01-09T00:53:51.486199Z"
    },
    "id": "jOMfucqOzSqx",
    "outputId": "b1817520-91f6-4d76-fd67-0e55562e1773",
    "papermill": {
     "duration": 0.141292,
     "end_time": "2024-01-09T00:53:51.489479",
     "exception": false,
     "start_time": "2024-01-09T00:53:51.348187",
     "status": "completed"
    },
    "tags": []
   },
   "outputs": [
    {
     "data": {
      "text/plain": [
       "Author\n",
       "Rabindranath Tagore             136831\n",
       "Sharat Chandra Chattapaddhay     76486\n",
       "Bankim Chandra                   35142\n",
       "Zafor Iqbal                       6824\n",
       "Humayun Ahmed                     6651\n",
       "Ahmad Sofa                        6180\n",
       "Begum Rokeya                      5548\n",
       "Name: count, dtype: int64"
      ]
     },
     "execution_count": 27,
     "metadata": {},
     "output_type": "execute_result"
    },
    {
     "name": "stdout",
     "output_type": "stream",
     "text": [
      "time: 102 ms (started: 2024-01-09 00:53:51 +00:00)\n"
     ]
    }
   ],
   "source": [
    "frames = [df21,df22,df23,df24,df25,df26,df27]\n",
    "result = pd.concat(frames)\n",
    "\n",
    "train_data= result.sample(frac=1).reset_index(drop=True)\n",
    "train_data['Author'].value_counts()\n"
   ]
  },
  {
   "cell_type": "code",
   "execution_count": 28,
   "id": "9446ff03",
   "metadata": {
    "execution": {
     "iopub.execute_input": "2024-01-09T00:53:51.555881Z",
     "iopub.status.busy": "2024-01-09T00:53:51.555116Z",
     "iopub.status.idle": "2024-01-09T00:53:51.565220Z",
     "shell.execute_reply": "2024-01-09T00:53:51.564412Z"
    },
    "id": "n228X5J29Xoj",
    "outputId": "f8b91d39-ad8f-4016-af91-f99dbd7d6062",
    "papermill": {
     "duration": 0.044989,
     "end_time": "2024-01-09T00:53:51.567173",
     "exception": false,
     "start_time": "2024-01-09T00:53:51.522184",
     "status": "completed"
    },
    "tags": []
   },
   "outputs": [
    {
     "data": {
      "text/html": [
       "<div>\n",
       "<style scoped>\n",
       "    .dataframe tbody tr th:only-of-type {\n",
       "        vertical-align: middle;\n",
       "    }\n",
       "\n",
       "    .dataframe tbody tr th {\n",
       "        vertical-align: top;\n",
       "    }\n",
       "\n",
       "    .dataframe thead th {\n",
       "        text-align: right;\n",
       "    }\n",
       "</style>\n",
       "<table border=\"1\" class=\"dataframe\">\n",
       "  <thead>\n",
       "    <tr style=\"text-align: right;\">\n",
       "      <th></th>\n",
       "      <th>Author</th>\n",
       "      <th>tokenized_sentence</th>\n",
       "      <th>Author_label</th>\n",
       "    </tr>\n",
       "  </thead>\n",
       "  <tbody>\n",
       "    <tr>\n",
       "      <th>0</th>\n",
       "      <td>Sharat Chandra Chattapaddhay</td>\n",
       "      <td>কুসুমের গৌরবর্ণ মুখ একেবারে পান্ডুর হইয়া গিয়াছিল।</td>\n",
       "      <td>0</td>\n",
       "    </tr>\n",
       "    <tr>\n",
       "      <th>1</th>\n",
       "      <td>Sharat Chandra Chattapaddhay</td>\n",
       "      <td>মাসি কহিলেন, সে ত জানা কথা বেণী।</td>\n",
       "      <td>0</td>\n",
       "    </tr>\n",
       "    <tr>\n",
       "      <th>2</th>\n",
       "      <td>Rabindranath Tagore</td>\n",
       "      <td>মানুষ সমাজের মধ্য দিয়া সমাজকে ছাড়াইয়া যাইবে বল...</td>\n",
       "      <td>1</td>\n",
       "    </tr>\n",
       "    <tr>\n",
       "      <th>3</th>\n",
       "      <td>Rabindranath Tagore</td>\n",
       "      <td>সে হলে তো কোনো গোলই ছিল না!</td>\n",
       "      <td>1</td>\n",
       "    </tr>\n",
       "    <tr>\n",
       "      <th>4</th>\n",
       "      <td>Rabindranath Tagore</td>\n",
       "      <td>আমি নেপালে গেলাম।</td>\n",
       "      <td>1</td>\n",
       "    </tr>\n",
       "  </tbody>\n",
       "</table>\n",
       "</div>"
      ],
      "text/plain": [
       "                         Author  \\\n",
       "0  Sharat Chandra Chattapaddhay   \n",
       "1  Sharat Chandra Chattapaddhay   \n",
       "2           Rabindranath Tagore   \n",
       "3           Rabindranath Tagore   \n",
       "4           Rabindranath Tagore   \n",
       "\n",
       "                                  tokenized_sentence  Author_label  \n",
       "0  কুসুমের গৌরবর্ণ মুখ একেবারে পান্ডুর হইয়া গিয়াছিল।             0  \n",
       "1                   মাসি কহিলেন, সে ত জানা কথা বেণী।             0  \n",
       "2  মানুষ সমাজের মধ্য দিয়া সমাজকে ছাড়াইয়া যাইবে বল...             1  \n",
       "3                        সে হলে তো কোনো গোলই ছিল না!             1  \n",
       "4                                  আমি নেপালে গেলাম।             1  "
      ]
     },
     "execution_count": 28,
     "metadata": {},
     "output_type": "execute_result"
    },
    {
     "name": "stdout",
     "output_type": "stream",
     "text": [
      "time: 5.82 ms (started: 2024-01-09 00:53:51 +00:00)\n"
     ]
    }
   ],
   "source": [
    "train_data.head()"
   ]
  },
  {
   "cell_type": "code",
   "execution_count": 29,
   "id": "a3f26232",
   "metadata": {
    "execution": {
     "iopub.execute_input": "2024-01-09T00:53:51.632995Z",
     "iopub.status.busy": "2024-01-09T00:53:51.632341Z",
     "iopub.status.idle": "2024-01-09T00:53:51.638281Z",
     "shell.execute_reply": "2024-01-09T00:53:51.637445Z"
    },
    "id": "6-ij2hzG9bGi",
    "outputId": "b3fb192b-b1ca-472e-9871-18f19c901874",
    "papermill": {
     "duration": 0.040847,
     "end_time": "2024-01-09T00:53:51.640199",
     "exception": false,
     "start_time": "2024-01-09T00:53:51.599352",
     "status": "completed"
    },
    "tags": []
   },
   "outputs": [
    {
     "data": {
      "text/plain": [
       "(273662, 3)"
      ]
     },
     "execution_count": 29,
     "metadata": {},
     "output_type": "execute_result"
    },
    {
     "name": "stdout",
     "output_type": "stream",
     "text": [
      "time: 1.96 ms (started: 2024-01-09 00:53:51 +00:00)\n"
     ]
    }
   ],
   "source": [
    "train_data.shape"
   ]
  },
  {
   "cell_type": "code",
   "execution_count": 30,
   "id": "5e82972a",
   "metadata": {
    "execution": {
     "iopub.execute_input": "2024-01-09T00:53:51.706584Z",
     "iopub.status.busy": "2024-01-09T00:53:51.706032Z",
     "iopub.status.idle": "2024-01-09T00:53:51.864754Z",
     "shell.execute_reply": "2024-01-09T00:53:51.863849Z"
    },
    "id": "Gs6yvFQK9-98",
    "outputId": "a4df38ee-b5ea-4e62-9d44-11ef74dfc3a8",
    "papermill": {
     "duration": 0.1947,
     "end_time": "2024-01-09T00:53:51.866987",
     "exception": false,
     "start_time": "2024-01-09T00:53:51.672287",
     "status": "completed"
    },
    "tags": []
   },
   "outputs": [
    {
     "data": {
      "image/png": "[encoded data removed]",
      "text/plain": [
       "<Figure size 700x500 with 1 Axes>"
      ]
     },
     "metadata": {},
     "output_type": "display_data"
    },
    {
     "name": "stdout",
     "output_type": "stream",
     "text": [
      "time: 154 ms (started: 2024-01-09 00:53:51 +00:00)\n"
     ]
    }
   ],
   "source": [
    "plt.figure(figsize=(7,5))\n",
    "sns.countplot(data=train_data,x=\"Author_label\")\n",
    "plt.show()"
   ]
  },
  {
   "cell_type": "code",
   "execution_count": 31,
   "id": "3e1186bd",
   "metadata": {
    "execution": {
     "iopub.execute_input": "2024-01-09T00:53:51.936615Z",
     "iopub.status.busy": "2024-01-09T00:53:51.936317Z",
     "iopub.status.idle": "2024-01-09T00:53:51.959924Z",
     "shell.execute_reply": "2024-01-09T00:53:51.959107Z"
    },
    "id": "WR2Q1Jvz9hBJ",
    "outputId": "fbb98fcc-555f-4345-96e4-e7f9063a74af",
    "papermill": {
     "duration": 0.061252,
     "end_time": "2024-01-09T00:53:51.962075",
     "exception": false,
     "start_time": "2024-01-09T00:53:51.900823",
     "status": "completed"
    },
    "tags": []
   },
   "outputs": [
    {
     "data": {
      "text/plain": [
       "Author\n",
       "Rabindranath Tagore             15204\n",
       "Sharat Chandra Chattapaddhay     6622\n",
       "Bankim Chandra                   4786\n",
       "Ahmad Sofa                       1046\n",
       "Begum Rokeya                     1005\n",
       "Humayun Ahmed                     913\n",
       "Zafor Iqbal                       832\n",
       "Name: count, dtype: int64"
      ]
     },
     "execution_count": 31,
     "metadata": {},
     "output_type": "execute_result"
    },
    {
     "name": "stdout",
     "output_type": "stream",
     "text": [
      "time: 19.3 ms (started: 2024-01-09 00:53:51 +00:00)\n"
     ]
    }
   ],
   "source": [
    "frames = [df31,df32,df33,df34,df35,df36,df37]\n",
    "result = pd.concat(frames)\n",
    "\n",
    "test_data= result.sample(frac=1).reset_index(drop=True)\n",
    "test_data['Author'].value_counts()"
   ]
  },
  {
   "cell_type": "code",
   "execution_count": 32,
   "id": "a2574c96",
   "metadata": {
    "execution": {
     "iopub.execute_input": "2024-01-09T00:53:52.029740Z",
     "iopub.status.busy": "2024-01-09T00:53:52.029453Z",
     "iopub.status.idle": "2024-01-09T00:53:52.035567Z",
     "shell.execute_reply": "2024-01-09T00:53:52.034740Z"
    },
    "id": "WQ6YBGH49oWJ",
    "outputId": "3669339c-81ca-4004-fcb8-0821952ed8c2",
    "papermill": {
     "duration": 0.042334,
     "end_time": "2024-01-09T00:53:52.037991",
     "exception": false,
     "start_time": "2024-01-09T00:53:51.995657",
     "status": "completed"
    },
    "tags": []
   },
   "outputs": [
    {
     "data": {
      "text/plain": [
       "(30408, 3)"
      ]
     },
     "execution_count": 32,
     "metadata": {},
     "output_type": "execute_result"
    },
    {
     "name": "stdout",
     "output_type": "stream",
     "text": [
      "time: 2.36 ms (started: 2024-01-09 00:53:52 +00:00)\n"
     ]
    }
   ],
   "source": [
    "test_data.shape"
   ]
  },
  {
   "cell_type": "code",
   "execution_count": 33,
   "id": "453d8f75",
   "metadata": {
    "execution": {
     "iopub.execute_input": "2024-01-09T00:53:52.105493Z",
     "iopub.status.busy": "2024-01-09T00:53:52.105214Z",
     "iopub.status.idle": "2024-01-09T00:53:52.114977Z",
     "shell.execute_reply": "2024-01-09T00:53:52.114121Z"
    },
    "id": "JLp7pqKz93C7",
    "outputId": "e2ce7a49-9bc5-45a2-8368-75b6c08e7b02",
    "papermill": {
     "duration": 0.045597,
     "end_time": "2024-01-09T00:53:52.116915",
     "exception": false,
     "start_time": "2024-01-09T00:53:52.071318",
     "status": "completed"
    },
    "tags": []
   },
   "outputs": [
    {
     "data": {
      "text/html": [
       "<div>\n",
       "<style scoped>\n",
       "    .dataframe tbody tr th:only-of-type {\n",
       "        vertical-align: middle;\n",
       "    }\n",
       "\n",
       "    .dataframe tbody tr th {\n",
       "        vertical-align: top;\n",
       "    }\n",
       "\n",
       "    .dataframe thead th {\n",
       "        text-align: right;\n",
       "    }\n",
       "</style>\n",
       "<table border=\"1\" class=\"dataframe\">\n",
       "  <thead>\n",
       "    <tr style=\"text-align: right;\">\n",
       "      <th></th>\n",
       "      <th>Author</th>\n",
       "      <th>tokenized_sentence</th>\n",
       "      <th>Author_label</th>\n",
       "    </tr>\n",
       "  </thead>\n",
       "  <tbody>\n",
       "    <tr>\n",
       "      <th>0</th>\n",
       "      <td>Rabindranath Tagore</td>\n",
       "      <td>যে লোক দেশের প্রত্যেক লোকের মধ্যে সমগ্র দেশকে ...</td>\n",
       "      <td>1</td>\n",
       "    </tr>\n",
       "    <tr>\n",
       "      <th>1</th>\n",
       "      <td>Sharat Chandra Chattapaddhay</td>\n",
       "      <td>আমার বিরুদ্ধে হলো কি তাঁর?</td>\n",
       "      <td>0</td>\n",
       "    </tr>\n",
       "    <tr>\n",
       "      <th>2</th>\n",
       "      <td>Sharat Chandra Chattapaddhay</td>\n",
       "      <td>বলিলাম, বিদেশে যাবার পূর্বে একবার দেখা দিয়ে আস...</td>\n",
       "      <td>0</td>\n",
       "    </tr>\n",
       "    <tr>\n",
       "      <th>3</th>\n",
       "      <td>Sharat Chandra Chattapaddhay</td>\n",
       "      <td>আমরা প্রভু, তোমরা দাসী, এই সংস্কারটাই এ দেশের ...</td>\n",
       "      <td>0</td>\n",
       "    </tr>\n",
       "    <tr>\n",
       "      <th>4</th>\n",
       "      <td>Sharat Chandra Chattapaddhay</td>\n",
       "      <td>তারক মুখে হাসি আনিয়া বিদ্রূপের স্বরে বলিল, না ...</td>\n",
       "      <td>0</td>\n",
       "    </tr>\n",
       "  </tbody>\n",
       "</table>\n",
       "</div>"
      ],
      "text/plain": [
       "                         Author  \\\n",
       "0           Rabindranath Tagore   \n",
       "1  Sharat Chandra Chattapaddhay   \n",
       "2  Sharat Chandra Chattapaddhay   \n",
       "3  Sharat Chandra Chattapaddhay   \n",
       "4  Sharat Chandra Chattapaddhay   \n",
       "\n",
       "                                  tokenized_sentence  Author_label  \n",
       "0  যে লোক দেশের প্রত্যেক লোকের মধ্যে সমগ্র দেশকে ...             1  \n",
       "1                         আমার বিরুদ্ধে হলো কি তাঁর?             0  \n",
       "2  বলিলাম, বিদেশে যাবার পূর্বে একবার দেখা দিয়ে আস...             0  \n",
       "3  আমরা প্রভু, তোমরা দাসী, এই সংস্কারটাই এ দেশের ...             0  \n",
       "4  তারক মুখে হাসি আনিয়া বিদ্রূপের স্বরে বলিল, না ...             0  "
      ]
     },
     "execution_count": 33,
     "metadata": {},
     "output_type": "execute_result"
    },
    {
     "name": "stdout",
     "output_type": "stream",
     "text": [
      "time: 6.05 ms (started: 2024-01-09 00:53:52 +00:00)\n"
     ]
    }
   ],
   "source": [
    "test_data.head()"
   ]
  },
  {
   "cell_type": "code",
   "execution_count": 34,
   "id": "55814bd0",
   "metadata": {
    "execution": {
     "iopub.execute_input": "2024-01-09T00:53:52.185197Z",
     "iopub.status.busy": "2024-01-09T00:53:52.184930Z",
     "iopub.status.idle": "2024-01-09T00:53:52.391059Z",
     "shell.execute_reply": "2024-01-09T00:53:52.390094Z"
    },
    "id": "wqPlwINh94k6",
    "outputId": "c92d626e-1259-4757-d92c-623bece72b62",
    "papermill": {
     "duration": 0.243484,
     "end_time": "2024-01-09T00:53:52.393872",
     "exception": false,
     "start_time": "2024-01-09T00:53:52.150388",
     "status": "completed"
    },
    "tags": []
   },
   "outputs": [
    {
     "data": {
      "image/png": "[encoded data removed]",
      "text/plain": [
       "<Figure size 700x500 with 1 Axes>"
      ]
     },
     "metadata": {},
     "output_type": "display_data"
    },
    {
     "name": "stdout",
     "output_type": "stream",
     "text": [
      "time: 202 ms (started: 2024-01-09 00:53:52 +00:00)\n"
     ]
    }
   ],
   "source": [
    "plt.figure(figsize=(7,5))\n",
    "sns.countplot(data=test_data,x=\"Author_label\")\n",
    "plt.show()"
   ]
  },
  {
   "cell_type": "code",
   "execution_count": 35,
   "id": "8ac64669",
   "metadata": {
    "execution": {
     "iopub.execute_input": "2024-01-09T00:53:52.468593Z",
     "iopub.status.busy": "2024-01-09T00:53:52.468242Z",
     "iopub.status.idle": "2024-01-09T00:53:52.474777Z",
     "shell.execute_reply": "2024-01-09T00:53:52.473861Z"
    },
    "papermill": {
     "duration": 0.046098,
     "end_time": "2024-01-09T00:53:52.477234",
     "exception": false,
     "start_time": "2024-01-09T00:53:52.431136",
     "status": "completed"
    },
    "tags": []
   },
   "outputs": [
    {
     "data": {
      "text/plain": [
       "(30408, 3)"
      ]
     },
     "execution_count": 35,
     "metadata": {},
     "output_type": "execute_result"
    },
    {
     "name": "stdout",
     "output_type": "stream",
     "text": [
      "time: 2.59 ms (started: 2024-01-09 00:53:52 +00:00)\n"
     ]
    }
   ],
   "source": [
    "test_data.shape"
   ]
  },
  {
   "cell_type": "markdown",
   "id": "725fbecb",
   "metadata": {
    "papermill": {
     "duration": 0.037008,
     "end_time": "2024-01-09T00:53:52.551756",
     "exception": false,
     "start_time": "2024-01-09T00:53:52.514748",
     "status": "completed"
    },
    "tags": []
   },
   "source": [
    "# ***Loading BanglaBERT***"
   ]
  },
  {
   "cell_type": "code",
   "execution_count": 36,
   "id": "1b30857b",
   "metadata": {
    "execution": {
     "iopub.execute_input": "2024-01-09T00:53:52.623254Z",
     "iopub.status.busy": "2024-01-09T00:53:52.622922Z",
     "iopub.status.idle": "2024-01-09T00:54:05.324664Z",
     "shell.execute_reply": "2024-01-09T00:54:05.323647Z"
    },
    "papermill": {
     "duration": 12.739887,
     "end_time": "2024-01-09T00:54:05.326724",
     "exception": false,
     "start_time": "2024-01-09T00:53:52.586837",
     "status": "completed"
    },
    "tags": []
   },
   "outputs": [
    {
     "data": {
      "application/vnd.jupyter.widget-view+json": {
       "model_id": "c0284738264143debe323af3b65ae5ae",
       "version_major": 2,
       "version_minor": 0
      },
      "text/plain": [
       "config.json:   0%|          | 0.00/586 [00:00<?, ?B/s]"
      ]
     },
     "metadata": {},
     "output_type": "display_data"
    },
    {
     "data": {
      "application/vnd.jupyter.widget-view+json": {
       "model_id": "6410ef8bf06e45888a938053a8e76c18",
       "version_major": 2,
       "version_minor": 0
      },
      "text/plain": [
       "pytorch_model.bin:   0%|          | 0.00/443M [00:00<?, ?B/s]"
      ]
     },
     "metadata": {},
     "output_type": "display_data"
    },
    {
     "name": "stderr",
     "output_type": "stream",
     "text": [
      "Some weights of the PyTorch model were not used when initializing the TF 2.0 model TFElectraModel: ['electra.embeddings.position_ids', 'discriminator_predictions.dense.bias', 'discriminator_predictions.dense_prediction.weight', 'discriminator_predictions.dense.weight', 'discriminator_predictions.dense_prediction.bias']\n",
      "- This IS expected if you are initializing TFElectraModel from a PyTorch model trained on another task or with another architecture (e.g. initializing a TFBertForSequenceClassification model from a BertForPreTraining model).\n",
      "- This IS NOT expected if you are initializing TFElectraModel from a PyTorch model that you expect to be exactly identical (e.g. initializing a TFBertForSequenceClassification model from a BertForSequenceClassification model).\n",
      "All the weights of TFElectraModel were initialized from the PyTorch model.\n",
      "If your task is similar to the task the model of the checkpoint was trained on, you can already use TFElectraModel for predictions without further training.\n"
     ]
    },
    {
     "data": {
      "application/vnd.jupyter.widget-view+json": {
       "model_id": "7b68ccb2e1b44202974c956203dc0b25",
       "version_major": 2,
       "version_minor": 0
      },
      "text/plain": [
       "tokenizer_config.json:   0%|          | 0.00/119 [00:00<?, ?B/s]"
      ]
     },
     "metadata": {},
     "output_type": "display_data"
    },
    {
     "data": {
      "application/vnd.jupyter.widget-view+json": {
       "model_id": "d13342aeaed34ec8a0e2ccd613ed8e0d",
       "version_major": 2,
       "version_minor": 0
      },
      "text/plain": [
       "vocab.txt:   0%|          | 0.00/528k [00:00<?, ?B/s]"
      ]
     },
     "metadata": {},
     "output_type": "display_data"
    },
    {
     "data": {
      "application/vnd.jupyter.widget-view+json": {
       "model_id": "1f733236291f471585ada6070681838c",
       "version_major": 2,
       "version_minor": 0
      },
      "text/plain": [
       "special_tokens_map.json:   0%|          | 0.00/112 [00:00<?, ?B/s]"
      ]
     },
     "metadata": {},
     "output_type": "display_data"
    },
    {
     "name": "stdout",
     "output_type": "stream",
     "text": [
      "time: 12.7 s (started: 2024-01-09 00:53:52 +00:00)\n"
     ]
    }
   ],
   "source": [
    "from transformers import AutoModelForPreTraining, AutoTokenizer, TFAutoModel\n",
    "from normalizer import normalize # pip install git+https://github.com/csebuetnlp/normalizer\n",
    "import torch\n",
    "\n",
    "bmodel = TFAutoModel.from_pretrained(\"csebuetnlp/banglabert\", from_pt=True)\n",
    "tokenizer = AutoTokenizer.from_pretrained(\"csebuetnlp/banglabert\")"
   ]
  },
  {
   "cell_type": "markdown",
   "id": "5e4eba4f",
   "metadata": {
    "papermill": {
     "duration": 0.034781,
     "end_time": "2024-01-09T00:54:05.397194",
     "exception": false,
     "start_time": "2024-01-09T00:54:05.362413",
     "status": "completed"
    },
    "tags": []
   },
   "source": [
    "# ***Train-Eval split***"
   ]
  },
  {
   "cell_type": "code",
   "execution_count": 37,
   "id": "898e00ff",
   "metadata": {
    "execution": {
     "iopub.execute_input": "2024-01-09T00:54:05.469186Z",
     "iopub.status.busy": "2024-01-09T00:54:05.468835Z",
     "iopub.status.idle": "2024-01-09T00:54:05.474449Z",
     "shell.execute_reply": "2024-01-09T00:54:05.473621Z"
    },
    "papermill": {
     "duration": 0.04377,
     "end_time": "2024-01-09T00:54:05.476455",
     "exception": false,
     "start_time": "2024-01-09T00:54:05.432685",
     "status": "completed"
    },
    "tags": []
   },
   "outputs": [
    {
     "name": "stdout",
     "output_type": "stream",
     "text": [
      "time: 851 µs (started: 2024-01-09 00:54:05 +00:00)\n"
     ]
    }
   ],
   "source": [
    "max_len=40\n",
    "sentences=train_data[\"tokenized_sentence\"]\n",
    "labels=train_data[\"Author_label\"]\n",
    "\n",
    "\n",
    "test_sentences=test_data[\"tokenized_sentence\"]\n",
    "test_labels=test_data[\"Author_label\"]"
   ]
  },
  {
   "cell_type": "code",
   "execution_count": 38,
   "id": "3e854211",
   "metadata": {
    "execution": {
     "iopub.execute_input": "2024-01-09T00:54:05.547875Z",
     "iopub.status.busy": "2024-01-09T00:54:05.547618Z",
     "iopub.status.idle": "2024-01-09T00:54:53.146671Z",
     "shell.execute_reply": "2024-01-09T00:54:53.145578Z"
    },
    "papermill": {
     "duration": 47.673162,
     "end_time": "2024-01-09T00:54:53.184724",
     "exception": false,
     "start_time": "2024-01-09T00:54:05.511562",
     "status": "completed"
    },
    "tags": []
   },
   "outputs": [
    {
     "name": "stdout",
     "output_type": "stream",
     "text": [
      "273662 273662 273662\n",
      "Input shape (273662, 40) \n",
      "Attention mask shape (273662, 40) \n",
      "Input label shape (273662,)\n",
      "Train input shape (191563, 40)\n",
      "Test input shape (82099, 40)\n",
      "Train label shape (191563,)\n",
      "Test label shape (82099,)\n",
      "Train attention mask shape (191563, 40)\n",
      "Test attention mask shape (82099, 40)\n",
      "time: 47.6 s (started: 2024-01-09 00:54:05 +00:00)\n"
     ]
    }
   ],
   "source": [
    "\n",
    "\n",
    "input_ids=[]\n",
    "attention_masks=[]\n",
    "\n",
    "for sent in sentences:\n",
    "    bangla_bert_input_shape= tokenizer.encode_plus(sent,add_special_tokens = True,max_length =max_len,pad_to_max_length = True,return_attention_mask = True,truncation=True)\n",
    "    input_ids.append(bangla_bert_input_shape['input_ids'])\n",
    "    attention_masks.append(bangla_bert_input_shape['attention_mask'])\n",
    "\n",
    "input_ids=np.asarray(input_ids)\n",
    "attention_masks=np.array(attention_masks)\n",
    "labels=np.array(labels)\n",
    "\n",
    "test_ids=[]\n",
    "test_attention_masks=[]\n",
    "\n",
    "for sent in test_sentences:\n",
    "    bangla_bert_input_shape= tokenizer.encode_plus(sent,add_special_tokens = True,max_length =max_len,pad_to_max_length = True,return_attention_mask = True,truncation=True)\n",
    "    test_ids.append(bangla_bert_input_shape['input_ids'])\n",
    "    test_attention_masks.append(bangla_bert_input_shape['attention_mask'])\n",
    "\n",
    "test_ids=np.asarray(test_ids)\n",
    "test_attention_masks=np.array(test_attention_masks)\n",
    "test_labels=np.array(test_labels)\n",
    "print(len(input_ids),len(attention_masks),len(labels))\n",
    "print('Input shape {} \\nAttention mask shape {} \\nInput label shape {}'.format(input_ids.shape,attention_masks.shape,labels.shape))\n",
    "\n",
    "X_train_input,X_test_input,Y_train_label,Y_test_label,train_mask,test_mask=train_test_split(input_ids,labels,attention_masks,test_size=0.3,random_state=42,shuffle=True)\n",
    "\n",
    "print('Train input shape {}\\nTest input shape {}\\nTrain label shape {}\\nTest label shape {}\\nTrain attention mask shape {}\\nTest attention mask shape {}'.format(X_train_input.shape,X_test_input.shape,Y_train_label.shape,Y_test_label.shape,train_mask.shape,test_mask.shape))"
   ]
  },
  {
   "cell_type": "code",
   "execution_count": 39,
   "id": "b8dd044d",
   "metadata": {
    "execution": {
     "iopub.execute_input": "2024-01-09T00:54:53.256854Z",
     "iopub.status.busy": "2024-01-09T00:54:53.256523Z",
     "iopub.status.idle": "2024-01-09T00:55:00.193174Z",
     "shell.execute_reply": "2024-01-09T00:55:00.192272Z"
    },
    "id": "udKcYOamD4pr",
    "outputId": "09dabc77-1895-4422-cfb8-595b985afc89",
    "papermill": {
     "duration": 6.975565,
     "end_time": "2024-01-09T00:55:00.195302",
     "exception": false,
     "start_time": "2024-01-09T00:54:53.219737",
     "status": "completed"
    },
    "tags": []
   },
   "outputs": [
    {
     "name": "stdout",
     "output_type": "stream",
     "text": [
      "Model: \"model\"\n",
      "__________________________________________________________________________________________________\n",
      " Layer (type)                Output Shape                 Param #   Connected to                  \n",
      "==================================================================================================\n",
      " input_1 (InputLayer)        [(None, 40)]                 0         []                            \n",
      "                                                                                                  \n",
      " input_2 (InputLayer)        [(None, 40)]                 0         []                            \n",
      "                                                                                                  \n",
      " tf_electra_model (TFElectr  TFBaseModelOutputWithPastA   1100267   ['input_1[0][0]',             \n",
      " aModel)                     ndCrossAttentions(last_hid   52         'input_2[0][0]']             \n",
      "                             den_state=(None, 40, 768),                                           \n",
      "                              past_key_values=None, hid                                           \n",
      "                             den_states=None, attention                                           \n",
      "                             s=None, cross_attentions=N                                           \n",
      "                             one)                                                                 \n",
      "                                                                                                  \n",
      " bidirectional (Bidirection  (None, 256)                  918528    ['tf_electra_model[0][0]']    \n",
      " al)                                                                                              \n",
      "                                                                                                  \n",
      " dense (Dense)               (None, 2)                    514       ['bidirectional[0][0]']       \n",
      "                                                                                                  \n",
      "==================================================================================================\n",
      "Total params: 110945794 (423.22 MB)\n",
      "Trainable params: 110945794 (423.22 MB)\n",
      "Non-trainable params: 0 (0.00 Byte)\n",
      "__________________________________________________________________________________________________\n",
      "time: 6.93 s (started: 2024-01-09 00:54:53 +00:00)\n"
     ]
    }
   ],
   "source": [
    "from keras.layers import LSTM\n",
    "# from keras.layers import Dropout\n",
    "# from keras.layers import Bidirectional\n",
    "def create_model():\n",
    "    input_shape = Input(shape = (max_len,), dtype='int32')\n",
    "    masks= Input(shape = (max_len,), dtype='int32')\n",
    "    bangla_bert_layer = bmodel(input_ids=input_shape, attention_mask=masks)[0]\n",
    "    X = (tf.keras.layers.Bidirectional(LSTM(128, dropout=0.3, recurrent_dropout=0.3)))(bangla_bert_layer)\n",
    "    #X = (tf.keras.layers.Bidirectional(LSTM(256, dropout=0.2)))(bangla_bert_layer)\n",
    "   \n",
    "    X = tf.keras.layers.Dense(2, activation='softmax')(X)\n",
    "    model = tf.keras.Model(inputs=[input_shape,masks], outputs=X)\n",
    "    return model\n",
    "\n",
    "\n",
    "model=create_model()\n",
    "model.summary()"
   ]
  },
  {
   "cell_type": "code",
   "execution_count": 40,
   "id": "e7c9edcd",
   "metadata": {
    "execution": {
     "iopub.execute_input": "2024-01-09T00:55:00.273307Z",
     "iopub.status.busy": "2024-01-09T00:55:00.272533Z",
     "iopub.status.idle": "2024-01-09T00:55:01.238848Z",
     "shell.execute_reply": "2024-01-09T00:55:01.237947Z"
    },
    "id": "nAHUXfleD-e-",
    "outputId": "8e6c5dfa-7e96-4de1-b5f4-1d4dd47a1538",
    "papermill": {
     "duration": 1.007381,
     "end_time": "2024-01-09T00:55:01.240974",
     "exception": false,
     "start_time": "2024-01-09T00:55:00.233593",
     "status": "completed"
    },
    "tags": []
   },
   "outputs": [
    {
     "name": "stdout",
     "output_type": "stream",
     "text": [
      "Model image saved as 'model.png'\n"
     ]
    },
    {
     "data": {
      "text/plain": [
       "<matplotlib.image.AxesImage at 0x7c7d31d36cb0>"
      ]
     },
     "execution_count": 40,
     "metadata": {},
     "output_type": "execute_result"
    },
    {
     "data": {
      "image/png": "[encoded data removed]",
      "text/plain": [
       "<Figure size 640x480 with 1 Axes>"
      ]
     },
     "metadata": {},
     "output_type": "display_data"
    },
    {
     "name": "stdout",
     "output_type": "stream",
     "text": [
      "time: 960 ms (started: 2024-01-09 00:55:00 +00:00)\n"
     ]
    }
   ],
   "source": [
    "loss = tf.keras.losses.SparseCategoricalCrossentropy(from_logits=True)\n",
    "metric = tf.keras.metrics.SparseCategoricalAccuracy('accuracy')\n",
    "optimizer = tf.keras.optimizers.Adam(learning_rate=2e-5)\n",
    "model.compile(loss=loss,optimizer=optimizer, metrics=[metric])\n",
    "#from tensorflow.keras.models import Sequential\n",
    "from tensorflow.keras.layers import Dense, Conv2D, MaxPooling2D, Flatten\n",
    "from tensorflow.keras.utils import plot_model\n",
    "\n",
    "plot_model(model, to_file='model_plot2.png', show_shapes=True, show_layer_names=True)\n",
    "\n",
    "print(\"Model image saved as 'model.png'\")\n",
    "img = plt.imread('/kaggle/working/model_plot2.png')\n",
    "plt.imshow(img)\n"
   ]
  },
  {
   "cell_type": "code",
   "execution_count": 41,
   "id": "fa311f75",
   "metadata": {
    "execution": {
     "iopub.execute_input": "2024-01-09T00:55:01.319556Z",
     "iopub.status.busy": "2024-01-09T00:55:01.318796Z",
     "iopub.status.idle": "2024-01-09T06:30:09.982683Z",
     "shell.execute_reply": "2024-01-09T06:30:09.981821Z"
    },
    "id": "aUixaRqeD_He",
    "outputId": "60a58a13-24e2-419b-f7eb-abe197ffded5",
    "papermill": {
     "duration": 20111.715004,
     "end_time": "2024-01-09T06:30:12.994620",
     "exception": false,
     "start_time": "2024-01-09T00:55:01.279616",
     "status": "completed"
    },
    "tags": []
   },
   "outputs": [
    {
     "name": "stdout",
     "output_type": "stream",
     "text": [
      "Epoch 1/500\n",
      "5987/5987 [==============================] - ETA: 0s - loss: 0.2634 - accuracy: 0.8831\n",
      "Epoch 1: val_loss improved from inf to 0.20518, saving model to best_model_weights.h5\n",
      "5987/5987 [==============================] - 3409s 561ms/step - loss: 0.2634 - accuracy: 0.8831 - val_loss: 0.2052 - val_accuracy: 0.9118\n",
      "Epoch 2/500\n",
      "5987/5987 [==============================] - ETA: 0s - loss: 0.1426 - accuracy: 0.9419\n",
      "Epoch 2: val_loss improved from 0.20518 to 0.15660, saving model to best_model_weights.h5\n",
      "5987/5987 [==============================] - 3339s 558ms/step - loss: 0.1426 - accuracy: 0.9419 - val_loss: 0.1566 - val_accuracy: 0.9371\n",
      "Epoch 3/500\n",
      "5987/5987 [==============================] - ETA: 0s - loss: 0.0842 - accuracy: 0.9673\n",
      "Epoch 3: val_loss improved from 0.15660 to 0.15109, saving model to best_model_weights.h5\n",
      "5987/5987 [==============================] - 3338s 558ms/step - loss: 0.0842 - accuracy: 0.9673 - val_loss: 0.1511 - val_accuracy: 0.9464\n",
      "Epoch 4/500\n",
      "5987/5987 [==============================] - ETA: 0s - loss: 0.0530 - accuracy: 0.9801\n",
      "Epoch 4: val_loss did not improve from 0.15109\n",
      "5987/5987 [==============================] - 3338s 558ms/step - loss: 0.0530 - accuracy: 0.9801 - val_loss: 0.1648 - val_accuracy: 0.9513\n",
      "Epoch 5/500\n",
      "5987/5987 [==============================] - ETA: 0s - loss: 0.0371 - accuracy: 0.9861\n",
      "Epoch 5: val_loss did not improve from 0.15109\n",
      "5987/5987 [==============================] - 3342s 558ms/step - loss: 0.0371 - accuracy: 0.9861 - val_loss: 0.2087 - val_accuracy: 0.9484\n",
      "Epoch 6/500\n",
      "5987/5987 [==============================] - ETA: 0s - loss: 0.0282 - accuracy: 0.9897\n",
      "Epoch 6: val_loss did not improve from 0.15109\n",
      "5987/5987 [==============================] - 3342s 558ms/step - loss: 0.0282 - accuracy: 0.9897 - val_loss: 0.1996 - val_accuracy: 0.9521\n",
      "time: 5h 35min 8s (started: 2024-01-09 00:55:01 +00:00)\n"
     ]
    }
   ],
   "source": [
    "from keras.callbacks import EarlyStopping, ModelCheckpoint\n",
    "\n",
    "# Define the number of epochs\n",
    "epoch = 500\n",
    "\n",
    "# Define early stopping criteria\n",
    "early_stopping = EarlyStopping(monitor='val_loss', patience=3, min_delta=0.0001, mode='min')\n",
    "\n",
    "# Define model checkpointing to save the best model weights\n",
    "model_checkpoint = ModelCheckpoint('best_model_weights.h5', monitor='val_loss', save_best_only=True, mode='min', verbose=1)\n",
    "\n",
    "# Compile and train the model with both callbacks\n",
    "history = model.fit(\n",
    "    [X_train_input, train_mask],\n",
    "    Y_train_label,\n",
    "    batch_size=32,\n",
    "    epochs=epoch,\n",
    "    validation_data=([X_test_input, test_mask], Y_test_label),\n",
    "    callbacks=[early_stopping, model_checkpoint]\n",
    ")\n"
   ]
  },
  {
   "cell_type": "code",
   "execution_count": 42,
   "id": "22ff3088",
   "metadata": {
    "execution": {
     "iopub.execute_input": "2024-01-09T06:30:18.917313Z",
     "iopub.status.busy": "2024-01-09T06:30:18.916941Z",
     "iopub.status.idle": "2024-01-09T06:30:21.075806Z",
     "shell.execute_reply": "2024-01-09T06:30:21.074840Z"
    },
    "papermill": {
     "duration": 5.153017,
     "end_time": "2024-01-09T06:30:21.077862",
     "exception": false,
     "start_time": "2024-01-09T06:30:15.924845",
     "status": "completed"
    },
    "tags": []
   },
   "outputs": [
    {
     "name": "stdout",
     "output_type": "stream",
     "text": [
      "time: 2.15 s (started: 2024-01-09 06:30:18 +00:00)\n"
     ]
    }
   ],
   "source": [
    "model.save('robVsnonrob.h5')"
   ]
  },
  {
   "cell_type": "code",
   "execution_count": 43,
   "id": "aada4b9b",
   "metadata": {
    "execution": {
     "iopub.execute_input": "2024-01-09T06:30:27.090396Z",
     "iopub.status.busy": "2024-01-09T06:30:27.090035Z",
     "iopub.status.idle": "2024-01-09T06:30:27.353942Z",
     "shell.execute_reply": "2024-01-09T06:30:27.353067Z"
    },
    "id": "qE51CpUNEA23",
    "outputId": "4c9a0866-1d8e-4ba7-c715-a60497b74c3f",
    "papermill": {
     "duration": 3.277885,
     "end_time": "2024-01-09T06:30:27.356804",
     "exception": false,
     "start_time": "2024-01-09T06:30:24.078919",
     "status": "completed"
    },
    "tags": []
   },
   "outputs": [
    {
     "data": {
      "image/png": "[encoded data removed]",
      "text/plain": [
       "<Figure size 800x800 with 1 Axes>"
      ]
     },
     "metadata": {},
     "output_type": "display_data"
    },
    {
     "name": "stdout",
     "output_type": "stream",
     "text": [
      "time: 258 ms (started: 2024-01-09 06:30:27 +00:00)\n"
     ]
    }
   ],
   "source": [
    "plt.style.use(\"classic\")\n",
    "plt.figure(figsize=(10,10))\n",
    "plt.plot(history.history['accuracy'],color=\"green\",marker=\"D\",markersize=14,lw=3)\n",
    "plt.plot(history.\n",
    "history['val_accuracy'],color=\"blue\",marker=\"o\",markersize=14,lw=3)\n",
    "plt.title('Model accuracy')\n",
    "plt.ylabel('Accuracy')\n",
    "plt.xlabel('Epoch')\n",
    "plt.legend(['train', 'eval'], loc='upper left')\n",
    "plt.show()"
   ]
  },
  {
   "cell_type": "code",
   "execution_count": 44,
   "id": "d7dc7024",
   "metadata": {
    "execution": {
     "iopub.execute_input": "2024-01-09T06:30:33.585353Z",
     "iopub.status.busy": "2024-01-09T06:30:33.584993Z",
     "iopub.status.idle": "2024-01-09T06:30:33.845338Z",
     "shell.execute_reply": "2024-01-09T06:30:33.844392Z"
    },
    "id": "mNF52HoJEA65",
    "outputId": "eb070db0-8557-466d-a33a-c2166a2a5da5",
    "papermill": {
     "duration": 3.319144,
     "end_time": "2024-01-09T06:30:33.848163",
     "exception": false,
     "start_time": "2024-01-09T06:30:30.529019",
     "status": "completed"
    },
    "tags": []
   },
   "outputs": [
    {
     "data": {
      "image/png": "[encoded data removed]",
      "text/plain": [
       "<Figure size 800x800 with 1 Axes>"
      ]
     },
     "metadata": {},
     "output_type": "display_data"
    },
    {
     "name": "stdout",
     "output_type": "stream",
     "text": [
      "time: 255 ms (started: 2024-01-09 06:30:33 +00:00)\n"
     ]
    }
   ],
   "source": [
    "plt.style.use(\"classic\")\n",
    "plt.figure(figsize=(10,10))\n",
    "plt.plot(history.history['loss'],color=\"navy\",marker=\"*\",lw=3,markersize=14)\n",
    "plt.plot(history.history['val_loss'],color=\"red\",marker=\"P\",lw=3,markersize=14)\n",
    "plt.title('Model loss')\n",
    "plt.ylabel('Loss')\n",
    "plt.xlabel('Epoch')\n",
    "plt.legend(['train', 'eval'], loc='upper left')\n",
    "plt.show()"
   ]
  },
  {
   "cell_type": "code",
   "execution_count": 45,
   "id": "0bd4eec5",
   "metadata": {
    "execution": {
     "iopub.execute_input": "2024-01-09T06:30:39.762568Z",
     "iopub.status.busy": "2024-01-09T06:30:39.762192Z",
     "iopub.status.idle": "2024-01-09T06:30:40.217014Z",
     "shell.execute_reply": "2024-01-09T06:30:40.215691Z"
    },
    "id": "ErAGGCZ-Ecgh",
    "outputId": "3402d552-d18d-4247-c67d-0f49b1205647",
    "papermill": {
     "duration": 3.456326,
     "end_time": "2024-01-09T06:30:40.221992",
     "exception": false,
     "start_time": "2024-01-09T06:30:36.765666",
     "status": "completed"
    },
    "tags": []
   },
   "outputs": [
    {
     "data": {
      "image/png": "[encoded data removed]",
      "text/plain": [
       "<Figure size 640x480 with 1 Axes>"
      ]
     },
     "metadata": {},
     "output_type": "display_data"
    },
    {
     "data": {
      "image/png": "[encoded data removed]",
      "text/plain": [
       "<Figure size 640x480 with 1 Axes>"
      ]
     },
     "metadata": {},
     "output_type": "display_data"
    },
    {
     "name": "stdout",
     "output_type": "stream",
     "text": [
      "time: 448 ms (started: 2024-01-09 06:30:39 +00:00)\n"
     ]
    }
   ],
   "source": [
    "plt.title('Accuracy')\n",
    "plt.plot(history.history['accuracy'], label='train')\n",
    "plt.plot(history.history['val_accuracy'], label='eval')\n",
    "plt.legend()\n",
    "plt.show();\n",
    "\n",
    "\n",
    "plt.title('Loss')\n",
    "plt.plot(history.history['loss'], label='train')\n",
    "plt.plot(history.history['val_loss'], label='eval')\n",
    "plt.legend()\n",
    "plt.show();"
   ]
  },
  {
   "cell_type": "code",
   "execution_count": 46,
   "id": "4c2dc651",
   "metadata": {
    "execution": {
     "iopub.execute_input": "2024-01-09T06:30:46.256467Z",
     "iopub.status.busy": "2024-01-09T06:30:46.255768Z",
     "iopub.status.idle": "2024-01-09T06:33:50.958792Z",
     "shell.execute_reply": "2024-01-09T06:33:50.957691Z"
    },
    "papermill": {
     "duration": 187.724355,
     "end_time": "2024-01-09T06:33:50.961044",
     "exception": false,
     "start_time": "2024-01-09T06:30:43.236689",
     "status": "completed"
    },
    "tags": []
   },
   "outputs": [
    {
     "name": "stdout",
     "output_type": "stream",
     "text": [
      "3041/3041 [==============================] - 183s 59ms/step\n",
      "time: 3min 4s (started: 2024-01-09 06:30:46 +00:00)\n"
     ]
    }
   ],
   "source": [
    "pred= model.predict([test_ids,test_attention_masks],batch_size=10)\n",
    "final_pred = np.argmax(pred,axis=1)"
   ]
  },
  {
   "cell_type": "code",
   "execution_count": 47,
   "id": "9f8f87f4",
   "metadata": {
    "execution": {
     "iopub.execute_input": "2024-01-09T06:33:57.561317Z",
     "iopub.status.busy": "2024-01-09T06:33:57.560958Z",
     "iopub.status.idle": "2024-01-09T06:33:57.571076Z",
     "shell.execute_reply": "2024-01-09T06:33:57.570139Z"
    },
    "papermill": {
     "duration": 3.319467,
     "end_time": "2024-01-09T06:33:57.573410",
     "exception": false,
     "start_time": "2024-01-09T06:33:54.253943",
     "status": "completed"
    },
    "tags": []
   },
   "outputs": [
    {
     "data": {
      "text/plain": [
       "0.9534990791896869"
      ]
     },
     "execution_count": 47,
     "metadata": {},
     "output_type": "execute_result"
    },
    {
     "name": "stdout",
     "output_type": "stream",
     "text": [
      "time: 6.2 ms (started: 2024-01-09 06:33:57 +00:00)\n"
     ]
    }
   ],
   "source": [
    "accuracy_score(test_labels,final_pred)"
   ]
  },
  {
   "cell_type": "code",
   "execution_count": 48,
   "id": "31c828ec",
   "metadata": {
    "execution": {
     "iopub.execute_input": "2024-01-09T06:34:04.420772Z",
     "iopub.status.busy": "2024-01-09T06:34:04.420439Z",
     "iopub.status.idle": "2024-01-09T06:34:04.479371Z",
     "shell.execute_reply": "2024-01-09T06:34:04.478419Z"
    },
    "papermill": {
     "duration": 3.475331,
     "end_time": "2024-01-09T06:34:04.481330",
     "exception": false,
     "start_time": "2024-01-09T06:34:01.005999",
     "status": "completed"
    },
    "tags": []
   },
   "outputs": [
    {
     "name": "stdout",
     "output_type": "stream",
     "text": [
      "Classification Report\n",
      "\n",
      "              precision    recall  f1-score   support\n",
      "\n",
      "           0       0.95      0.96      0.95     15204\n",
      "           1       0.96      0.95      0.95     15204\n",
      "\n",
      "    accuracy                           0.95     30408\n",
      "   macro avg       0.95      0.95      0.95     30408\n",
      "weighted avg       0.95      0.95      0.95     30408\n",
      "\n",
      "time: 55.1 ms (started: 2024-01-09 06:34:04 +00:00)\n"
     ]
    }
   ],
   "source": [
    "print('Classification Report\\n')\n",
    "print(classification_report(test_labels,final_pred))"
   ]
  },
  {
   "cell_type": "code",
   "execution_count": 49,
   "id": "c68bbf94",
   "metadata": {
    "execution": {
     "iopub.execute_input": "2024-01-09T06:34:10.815916Z",
     "iopub.status.busy": "2024-01-09T06:34:10.815008Z",
     "iopub.status.idle": "2024-01-09T06:34:11.088806Z",
     "shell.execute_reply": "2024-01-09T06:34:11.087908Z"
    },
    "papermill": {
     "duration": 3.505059,
     "end_time": "2024-01-09T06:34:11.091259",
     "exception": false,
     "start_time": "2024-01-09T06:34:07.586200",
     "status": "completed"
    },
    "tags": []
   },
   "outputs": [
    {
     "data": {
      "image/png": "[encoded data removed]",
      "text/plain": [
       "<Figure size 800x800 with 1 Axes>"
      ]
     },
     "metadata": {},
     "output_type": "display_data"
    },
    {
     "name": "stdout",
     "output_type": "stream",
     "text": [
      "time: 267 ms (started: 2024-01-09 06:34:10 +00:00)\n"
     ]
    }
   ],
   "source": [
    "from sklearn.metrics import roc_curve, roc_auc_score\n",
    "predicted_probabilities = pred[:, 1]\n",
    "fpr, tpr, thresholds = roc_curve(test_labels, predicted_probabilities)\n",
    "auc_score = roc_auc_score(test_labels, predicted_probabilities)\n",
    "plt.figure(figsize=(10,10))\n",
    "plt.style.use(\"seaborn-darkgrid\")\n",
    "plt.plot(fpr, tpr, label='ROC curve (AUC = %0.2f)' % auc_score,color=\"navy\",marker=\"*\")\n",
    "plt.plot([0, 1], [0, 1],lw=4,color=\"red\",linestyle=\"--\")\n",
    "plt.xlabel('False Positive Rate')\n",
    "plt.ylabel('True Positive Rate')\n",
    "plt.title('Receiver Operating Characteristic (ROC) Curve')\n",
    "plt.legend(loc='lower right')\n",
    "plt.show()"
   ]
  },
  {
   "cell_type": "code",
   "execution_count": 50,
   "id": "f74f387a",
   "metadata": {
    "execution": {
     "iopub.execute_input": "2024-01-09T06:34:17.579687Z",
     "iopub.status.busy": "2024-01-09T06:34:17.579352Z",
     "iopub.status.idle": "2024-01-09T06:34:17.968401Z",
     "shell.execute_reply": "2024-01-09T06:34:17.967474Z"
    },
    "id": "9KbJGl98ELJr",
    "outputId": "a4b19758-ba05-4b17-f0b8-9930a2949019",
    "papermill": {
     "duration": 3.613707,
     "end_time": "2024-01-09T06:34:17.971275",
     "exception": false,
     "start_time": "2024-01-09T06:34:14.357568",
     "status": "completed"
    },
    "tags": []
   },
   "outputs": [
    {
     "data": {
      "image/png": "[encoded data removed]",
      "text/plain": [
       "<Figure size 640x480 with 2 Axes>"
      ]
     },
     "metadata": {},
     "output_type": "display_data"
    },
    {
     "name": "stdout",
     "output_type": "stream",
     "text": [
      "time: 383 ms (started: 2024-01-09 06:34:17 +00:00)\n"
     ]
    }
   ],
   "source": [
    "def plot_conf_matrix(test_label,predicted_label):\n",
    "    cm = confusion_matrix(test_label,predicted_label)\n",
    "    class_names=[0,1] # name  of classes\n",
    "    fig, ax = plt.subplots()\n",
    "    tick_marks = np.arange(len(class_names))\n",
    "    plt.xticks(tick_marks, class_names)\n",
    "    plt.yticks(tick_marks, class_names)\n",
    "    # create heatmap\n",
    "    sns.heatmap(pd.DataFrame(cm), annot=True, cmap=\"BuPu\" ,fmt='g')\n",
    "    ax.xaxis.set_label_position(\"top\")\n",
    "    plt.tight_layout()\n",
    "    plt.title('Confusion matrix', y=1.1)\n",
    "    plt.ylabel('Actual label')\n",
    "    plt.xlabel('Predicted label');\n",
    "\n",
    "plot_conf_matrix(test_labels,final_pred)"
   ]
  }
 ],
 "metadata": {
  "accelerator": "GPU",
  "colab": {
   "gpuType": "T4",
   "provenance": []
  },
  "kaggle": {
   "accelerator": "nvidiaTeslaT4",
   "dataSources": [],
   "dockerImageVersionId": 30627,
   "isGpuEnabled": true,
   "isInternetEnabled": true,
   "language": "python",
   "sourceType": "notebook"
  },
  "kernelspec": {
   "display_name": "Python 3",
   "language": "python",
   "name": "python3"
  },
  "language_info": {
   "codemirror_mode": {
    "name": "ipython",
    "version": 3
   },
   "file_extension": ".py",
   "mimetype": "text/x-python",
   "name": "python",
   "nbconvert_exporter": "python",
   "pygments_lexer": "ipython3",
   "version": "3.10.12"
  },
  "papermill": {
   "default_parameters": {},
   "duration": 20728.416732,
   "end_time": "2024-01-09T06:34:24.616446",
   "environment_variables": {},
   "exception": null,
   "input_path": "__notebook__.ipynb",
   "output_path": "__notebook__.ipynb",
   "parameters": {},
   "start_time": "2024-01-09T00:48:56.199714",
   "version": "2.4.0"
  },
  "widgets": {
   "application/vnd.jupyter.widget-state+json": {
    "state": {
     "01e12d7bd1e4467395e766f9922164ae": {
      "model_module": "@jupyter-widgets/controls",
      "model_module_version": "1.5.0",
      "model_name": "ProgressStyleModel",
      "state": {
       "_model_module": "@jupyter-widgets/controls",
       "_model_module_version": "1.5.0",
       "_model_name": "ProgressStyleModel",
       "_view_count": null,
       "_view_module": "@jupyter-widgets/base",
       "_view_module_version": "1.2.0",
       "_view_name": "StyleView",
       "bar_color": null,
       "description_width": ""
      }
     },
     "0742f07aabbc49829a2b123a0b1bc344": {
      "model_module": "@jupyter-widgets/controls",
      "model_module_version": "1.5.0",
      "model_name": "HTMLModel",
      "state": {
       "_dom_classes": [],
       "_model_module": "@jupyter-widgets/controls",
       "_model_module_version": "1.5.0",
       "_model_name": "HTMLModel",
       "_view_count": null,
       "_view_module": "@jupyter-widgets/controls",
       "_view_module_version": "1.5.0",
       "_view_name": "HTMLView",
       "description": "",
       "description_tooltip": null,
       "layout": "IPY_MODEL_0f29add12731455780be8f49e3e510d2",
       "placeholder": "​",
       "style": "IPY_MODEL_375e80dd799841f0a713717594f0994a",
       "value": "tokenizer_config.json: 100%"
      }
     },
     "0f29add12731455780be8f49e3e510d2": {
      "model_module": "@jupyter-widgets/base",
      "model_module_version": "1.2.0",
      "model_name": "LayoutModel",
      "state": {
       "_model_module": "@jupyter-widgets/base",
       "_model_module_version": "1.2.0",
       "_model_name": "LayoutModel",
       "_view_count": null,
       "_view_module": "@jupyter-widgets/base",
       "_view_module_version": "1.2.0",
       "_view_name": "LayoutView",
       "align_content": null,
       "align_items": null,
       "align_self": null,
       "border": null,
       "bottom": null,
       "display": null,
       "flex": null,
       "flex_flow": null,
       "grid_area": null,
       "grid_auto_columns": null,
       "grid_auto_flow": null,
       "grid_auto_rows": null,
       "grid_column": null,
       "grid_gap": null,
       "grid_row": null,
       "grid_template_areas": null,
       "grid_template_columns": null,
       "grid_template_rows": null,
       "height": null,
       "justify_content": null,
       "justify_items": null,
       "left": null,
       "margin": null,
       "max_height": null,
       "max_width": null,
       "min_height": null,
       "min_width": null,
       "object_fit": null,
       "object_position": null,
       "order": null,
       "overflow": null,
       "overflow_x": null,
       "overflow_y": null,
       "padding": null,
       "right": null,
       "top": null,
       "visibility": null,
       "width": null
      }
     },
     "0f6c93005d1541a3989b563c03793132": {
      "model_module": "@jupyter-widgets/base",
      "model_module_version": "1.2.0",
      "model_name": "LayoutModel",
      "state": {
       "_model_module": "@jupyter-widgets/base",
       "_model_module_version": "1.2.0",
       "_model_name": "LayoutModel",
       "_view_count": null,
       "_view_module": "@jupyter-widgets/base",
       "_view_module_version": "1.2.0",
       "_view_name": "LayoutView",
       "align_content": null,
       "align_items": null,
       "align_self": null,
       "border": null,
       "bottom": null,
       "display": null,
       "flex": null,
       "flex_flow": null,
       "grid_area": null,
       "grid_auto_columns": null,
       "grid_auto_flow": null,
       "grid_auto_rows": null,
       "grid_column": null,
       "grid_gap": null,
       "grid_row": null,
       "grid_template_areas": null,
       "grid_template_columns": null,
       "grid_template_rows": null,
       "height": null,
       "justify_content": null,
       "justify_items": null,
       "left": null,
       "margin": null,
       "max_height": null,
       "max_width": null,
       "min_height": null,
       "min_width": null,
       "object_fit": null,
       "object_position": null,
       "order": null,
       "overflow": null,
       "overflow_x": null,
       "overflow_y": null,
       "padding": null,
       "right": null,
       "top": null,
       "visibility": null,
       "width": null
      }
     },
     "13843c87425742a8be724dfdf83d7508": {
      "model_module": "@jupyter-widgets/controls",
      "model_module_version": "1.5.0",
      "model_name": "HTMLModel",
      "state": {
       "_dom_classes": [],
       "_model_module": "@jupyter-widgets/controls",
       "_model_module_version": "1.5.0",
       "_model_name": "HTMLModel",
       "_view_count": null,
       "_view_module": "@jupyter-widgets/controls",
       "_view_module_version": "1.5.0",
       "_view_name": "HTMLView",
       "description": "",
       "description_tooltip": null,
       "layout": "IPY_MODEL_e0f8cd70364344d5b4178badeba59d20",
       "placeholder": "​",
       "style": "IPY_MODEL_be0de85d27f44679b792f010ed306dd1",
       "value": " 528k/528k [00:00&lt;00:00, 8.85MB/s]"
      }
     },
     "1f733236291f471585ada6070681838c": {
      "model_module": "@jupyter-widgets/controls",
      "model_module_version": "1.5.0",
      "model_name": "HBoxModel",
      "state": {
       "_dom_classes": [],
       "_model_module": "@jupyter-widgets/controls",
       "_model_module_version": "1.5.0",
       "_model_name": "HBoxModel",
       "_view_count": null,
       "_view_module": "@jupyter-widgets/controls",
       "_view_module_version": "1.5.0",
       "_view_name": "HBoxView",
       "box_style": "",
       "children": [
        "IPY_MODEL_35990641150041d4912f0ce4850f1c54",
        "IPY_MODEL_b26b06dee1d24f9a9387e2144376d772",
        "IPY_MODEL_82b48eee431941949d0a75ea2f7040e9"
       ],
       "layout": "IPY_MODEL_871aa5e041b74994a7e3710437cecb2e"
      }
     },
     "1ff67396bc9741f898c93444ab3fcc84": {
      "model_module": "@jupyter-widgets/controls",
      "model_module_version": "1.5.0",
      "model_name": "FloatProgressModel",
      "state": {
       "_dom_classes": [],
       "_model_module": "@jupyter-widgets/controls",
       "_model_module_version": "1.5.0",
       "_model_name": "FloatProgressModel",
       "_view_count": null,
       "_view_module": "@jupyter-widgets/controls",
       "_view_module_version": "1.5.0",
       "_view_name": "ProgressView",
       "bar_style": "success",
       "description": "",
       "description_tooltip": null,
       "layout": "IPY_MODEL_f7baba146c0940bcb204591a4daa8af8",
       "max": 119.0,
       "min": 0.0,
       "orientation": "horizontal",
       "style": "IPY_MODEL_e0ee6db032ba4d609903c5a147e39fe2",
       "value": 119.0
      }
     },
     "203b7819c6164eb2bb95af1d6649f58d": {
      "model_module": "@jupyter-widgets/controls",
      "model_module_version": "1.5.0",
      "model_name": "FloatProgressModel",
      "state": {
       "_dom_classes": [],
       "_model_module": "@jupyter-widgets/controls",
       "_model_module_version": "1.5.0",
       "_model_name": "FloatProgressModel",
       "_view_count": null,
       "_view_module": "@jupyter-widgets/controls",
       "_view_module_version": "1.5.0",
       "_view_name": "ProgressView",
       "bar_style": "success",
       "description": "",
       "description_tooltip": null,
       "layout": "IPY_MODEL_c26b217ab6d8485fb7f558feac063b58",
       "max": 528316.0,
       "min": 0.0,
       "orientation": "horizontal",
       "style": "IPY_MODEL_368714c89baf4ded8b70f43ffabdfd9d",
       "value": 528316.0
      }
     },
     "2ade447861224febac4846fb2375e2ed": {
      "model_module": "@jupyter-widgets/base",
      "model_module_version": "1.2.0",
      "model_name": "LayoutModel",
      "state": {
       "_model_module": "@jupyter-widgets/base",
       "_model_module_version": "1.2.0",
       "_model_name": "LayoutModel",
       "_view_count": null,
       "_view_module": "@jupyter-widgets/base",
       "_view_module_version": "1.2.0",
       "_view_name": "LayoutView",
       "align_content": null,
       "align_items": null,
       "align_self": null,
       "border": null,
       "bottom": null,
       "display": null,
       "flex": null,
       "flex_flow": null,
       "grid_area": null,
       "grid_auto_columns": null,
       "grid_auto_flow": null,
       "grid_auto_rows": null,
       "grid_column": null,
       "grid_gap": null,
       "grid_row": null,
       "grid_template_areas": null,
       "grid_template_columns": null,
       "grid_template_rows": null,
       "height": null,
       "justify_content": null,
       "justify_items": null,
       "left": null,
       "margin": null,
       "max_height": null,
       "max_width": null,
       "min_height": null,
       "min_width": null,
       "object_fit": null,
       "object_position": null,
       "order": null,
       "overflow": null,
       "overflow_x": null,
       "overflow_y": null,
       "padding": null,
       "right": null,
       "top": null,
       "visibility": null,
       "width": null
      }
     },
     "35990641150041d4912f0ce4850f1c54": {
      "model_module": "@jupyter-widgets/controls",
      "model_module_version": "1.5.0",
      "model_name": "HTMLModel",
      "state": {
       "_dom_classes": [],
       "_model_module": "@jupyter-widgets/controls",
       "_model_module_version": "1.5.0",
       "_model_name": "HTMLModel",
       "_view_count": null,
       "_view_module": "@jupyter-widgets/controls",
       "_view_module_version": "1.5.0",
       "_view_name": "HTMLView",
       "description": "",
       "description_tooltip": null,
       "layout": "IPY_MODEL_99fcfc64ca214e28aff716f368787e53",
       "placeholder": "​",
       "style": "IPY_MODEL_b10990e1ff9f44abb79c23556fe58938",
       "value": "special_tokens_map.json: 100%"
      }
     },
     "360c4349de6846989e64c3bf093c0496": {
      "model_module": "@jupyter-widgets/base",
      "model_module_version": "1.2.0",
      "model_name": "LayoutModel",
      "state": {
       "_model_module": "@jupyter-widgets/base",
       "_model_module_version": "1.2.0",
       "_model_name": "LayoutModel",
       "_view_count": null,
       "_view_module": "@jupyter-widgets/base",
       "_view_module_version": "1.2.0",
       "_view_name": "LayoutView",
       "align_content": null,
       "align_items": null,
       "align_self": null,
       "border": null,
       "bottom": null,
       "display": null,
       "flex": null,
       "flex_flow": null,
       "grid_area": null,
       "grid_auto_columns": null,
       "grid_auto_flow": null,
       "grid_auto_rows": null,
       "grid_column": null,
       "grid_gap": null,
       "grid_row": null,
       "grid_template_areas": null,
       "grid_template_columns": null,
       "grid_template_rows": null,
       "height": null,
       "justify_content": null,
       "justify_items": null,
       "left": null,
       "margin": null,
       "max_height": null,
       "max_width": null,
       "min_height": null,
       "min_width": null,
       "object_fit": null,
       "object_position": null,
       "order": null,
       "overflow": null,
       "overflow_x": null,
       "overflow_y": null,
       "padding": null,
       "right": null,
       "top": null,
       "visibility": null,
       "width": null
      }
     },
     "368714c89baf4ded8b70f43ffabdfd9d": {
      "model_module": "@jupyter-widgets/controls",
      "model_module_version": "1.5.0",
      "model_name": "ProgressStyleModel",
      "state": {
       "_model_module": "@jupyter-widgets/controls",
       "_model_module_version": "1.5.0",
       "_model_name": "ProgressStyleModel",
       "_view_count": null,
       "_view_module": "@jupyter-widgets/base",
       "_view_module_version": "1.2.0",
       "_view_name": "StyleView",
       "bar_color": null,
       "description_width": ""
      }
     },
     "375e80dd799841f0a713717594f0994a": {
      "model_module": "@jupyter-widgets/controls",
      "model_module_version": "1.5.0",
      "model_name": "DescriptionStyleModel",
      "state": {
       "_model_module": "@jupyter-widgets/controls",
       "_model_module_version": "1.5.0",
       "_model_name": "DescriptionStyleModel",
       "_view_count": null,
       "_view_module": "@jupyter-widgets/base",
       "_view_module_version": "1.2.0",
       "_view_name": "StyleView",
       "description_width": ""
      }
     },
     "426bd7060fa24453ad6e3b40e131640e": {
      "model_module": "@jupyter-widgets/controls",
      "model_module_version": "1.5.0",
      "model_name": "HTMLModel",
      "state": {
       "_dom_classes": [],
       "_model_module": "@jupyter-widgets/controls",
       "_model_module_version": "1.5.0",
       "_model_name": "HTMLModel",
       "_view_count": null,
       "_view_module": "@jupyter-widgets/controls",
       "_view_module_version": "1.5.0",
       "_view_name": "HTMLView",
       "description": "",
       "description_tooltip": null,
       "layout": "IPY_MODEL_c644b2282b7947c3b08224d5bd9fe3f2",
       "placeholder": "​",
       "style": "IPY_MODEL_ef57bc0788e040fc86ef9d4a6e328034",
       "value": "config.json: 100%"
      }
     },
     "45c6677220a846dcb40656228ffd33b6": {
      "model_module": "@jupyter-widgets/base",
      "model_module_version": "1.2.0",
      "model_name": "LayoutModel",
      "state": {
       "_model_module": "@jupyter-widgets/base",
       "_model_module_version": "1.2.0",
       "_model_name": "LayoutModel",
       "_view_count": null,
       "_view_module": "@jupyter-widgets/base",
       "_view_module_version": "1.2.0",
       "_view_name": "LayoutView",
       "align_content": null,
       "align_items": null,
       "align_self": null,
       "border": null,
       "bottom": null,
       "display": null,
       "flex": null,
       "flex_flow": null,
       "grid_area": null,
       "grid_auto_columns": null,
       "grid_auto_flow": null,
       "grid_auto_rows": null,
       "grid_column": null,
       "grid_gap": null,
       "grid_row": null,
       "grid_template_areas": null,
       "grid_template_columns": null,
       "grid_template_rows": null,
       "height": null,
       "justify_content": null,
       "justify_items": null,
       "left": null,
       "margin": null,
       "max_height": null,
       "max_width": null,
       "min_height": null,
       "min_width": null,
       "object_fit": null,
       "object_position": null,
       "order": null,
       "overflow": null,
       "overflow_x": null,
       "overflow_y": null,
       "padding": null,
       "right": null,
       "top": null,
       "visibility": null,
       "width": null
      }
     },
     "5ebf1340d9194c9293e69125ce5ed884": {
      "model_module": "@jupyter-widgets/base",
      "model_module_version": "1.2.0",
      "model_name": "LayoutModel",
      "state": {
       "_model_module": "@jupyter-widgets/base",
       "_model_module_version": "1.2.0",
       "_model_name": "LayoutModel",
       "_view_count": null,
       "_view_module": "@jupyter-widgets/base",
       "_view_module_version": "1.2.0",
       "_view_name": "LayoutView",
       "align_content": null,
       "align_items": null,
       "align_self": null,
       "border": null,
       "bottom": null,
       "display": null,
       "flex": null,
       "flex_flow": null,
       "grid_area": null,
       "grid_auto_columns": null,
       "grid_auto_flow": null,
       "grid_auto_rows": null,
       "grid_column": null,
       "grid_gap": null,
       "grid_row": null,
       "grid_template_areas": null,
       "grid_template_columns": null,
       "grid_template_rows": null,
       "height": null,
       "justify_content": null,
       "justify_items": null,
       "left": null,
       "margin": null,
       "max_height": null,
       "max_width": null,
       "min_height": null,
       "min_width": null,
       "object_fit": null,
       "object_position": null,
       "order": null,
       "overflow": null,
       "overflow_x": null,
       "overflow_y": null,
       "padding": null,
       "right": null,
       "top": null,
       "visibility": null,
       "width": null
      }
     },
     "6410ef8bf06e45888a938053a8e76c18": {
      "model_module": "@jupyter-widgets/controls",
      "model_module_version": "1.5.0",
      "model_name": "HBoxModel",
      "state": {
       "_dom_classes": [],
       "_model_module": "@jupyter-widgets/controls",
       "_model_module_version": "1.5.0",
       "_model_name": "HBoxModel",
       "_view_count": null,
       "_view_module": "@jupyter-widgets/controls",
       "_view_module_version": "1.5.0",
       "_view_name": "HBoxView",
       "box_style": "",
       "children": [
        "IPY_MODEL_cca022304b0d487783ea4271cf30a502",
        "IPY_MODEL_7af8643a55834b7787d16c2714cc6188",
        "IPY_MODEL_d815ff17c5084c3ea2296c4efa0be875"
       ],
       "layout": "IPY_MODEL_ab938e411de248058700739a39a778b7"
      }
     },
     "64883b48b2e5496f8ca268d01119c1e6": {
      "model_module": "@jupyter-widgets/controls",
      "model_module_version": "1.5.0",
      "model_name": "DescriptionStyleModel",
      "state": {
       "_model_module": "@jupyter-widgets/controls",
       "_model_module_version": "1.5.0",
       "_model_name": "DescriptionStyleModel",
       "_view_count": null,
       "_view_module": "@jupyter-widgets/base",
       "_view_module_version": "1.2.0",
       "_view_name": "StyleView",
       "description_width": ""
      }
     },
     "65512cd1ed9546c9a50af88c2b2c5626": {
      "model_module": "@jupyter-widgets/base",
      "model_module_version": "1.2.0",
      "model_name": "LayoutModel",
      "state": {
       "_model_module": "@jupyter-widgets/base",
       "_model_module_version": "1.2.0",
       "_model_name": "LayoutModel",
       "_view_count": null,
       "_view_module": "@jupyter-widgets/base",
       "_view_module_version": "1.2.0",
       "_view_name": "LayoutView",
       "align_content": null,
       "align_items": null,
       "align_self": null,
       "border": null,
       "bottom": null,
       "display": null,
       "flex": null,
       "flex_flow": null,
       "grid_area": null,
       "grid_auto_columns": null,
       "grid_auto_flow": null,
       "grid_auto_rows": null,
       "grid_column": null,
       "grid_gap": null,
       "grid_row": null,
       "grid_template_areas": null,
       "grid_template_columns": null,
       "grid_template_rows": null,
       "height": null,
       "justify_content": null,
       "justify_items": null,
       "left": null,
       "margin": null,
       "max_height": null,
       "max_width": null,
       "min_height": null,
       "min_width": null,
       "object_fit": null,
       "object_position": null,
       "order": null,
       "overflow": null,
       "overflow_x": null,
       "overflow_y": null,
       "padding": null,
       "right": null,
       "top": null,
       "visibility": null,
       "width": null
      }
     },
     "73cbff2d73844133981a329b74de6fb5": {
      "model_module": "@jupyter-widgets/controls",
      "model_module_version": "1.5.0",
      "model_name": "HTMLModel",
      "state": {
       "_dom_classes": [],
       "_model_module": "@jupyter-widgets/controls",
       "_model_module_version": "1.5.0",
       "_model_name": "HTMLModel",
       "_view_count": null,
       "_view_module": "@jupyter-widgets/controls",
       "_view_module_version": "1.5.0",
       "_view_name": "HTMLView",
       "description": "",
       "description_tooltip": null,
       "layout": "IPY_MODEL_b660d04b2a95408fb867ce743a0dacae",
       "placeholder": "​",
       "style": "IPY_MODEL_ed18cc055768494ab71aed7b7c0f1840",
       "value": " 119/119 [00:00&lt;00:00, 10.1kB/s]"
      }
     },
     "7af8643a55834b7787d16c2714cc6188": {
      "model_module": "@jupyter-widgets/controls",
      "model_module_version": "1.5.0",
      "model_name": "FloatProgressModel",
      "state": {
       "_dom_classes": [],
       "_model_module": "@jupyter-widgets/controls",
       "_model_module_version": "1.5.0",
       "_model_name": "FloatProgressModel",
       "_view_count": null,
       "_view_module": "@jupyter-widgets/controls",
       "_view_module_version": "1.5.0",
       "_view_name": "ProgressView",
       "bar_style": "success",
       "description": "",
       "description_tooltip": null,
       "layout": "IPY_MODEL_a9510de482f8462892529a305d5bab4a",
       "max": 442560329.0,
       "min": 0.0,
       "orientation": "horizontal",
       "style": "IPY_MODEL_e7493d1936694bf09db984302f3b0c79",
       "value": 442560329.0
      }
     },
     "7b68ccb2e1b44202974c956203dc0b25": {
      "model_module": "@jupyter-widgets/controls",
      "model_module_version": "1.5.0",
      "model_name": "HBoxModel",
      "state": {
       "_dom_classes": [],
       "_model_module": "@jupyter-widgets/controls",
       "_model_module_version": "1.5.0",
       "_model_name": "HBoxModel",
       "_view_count": null,
       "_view_module": "@jupyter-widgets/controls",
       "_view_module_version": "1.5.0",
       "_view_name": "HBoxView",
       "box_style": "",
       "children": [
        "IPY_MODEL_0742f07aabbc49829a2b123a0b1bc344",
        "IPY_MODEL_1ff67396bc9741f898c93444ab3fcc84",
        "IPY_MODEL_73cbff2d73844133981a329b74de6fb5"
       ],
       "layout": "IPY_MODEL_360c4349de6846989e64c3bf093c0496"
      }
     },
     "7c05f481d62c485583822df744a079e6": {
      "model_module": "@jupyter-widgets/controls",
      "model_module_version": "1.5.0",
      "model_name": "FloatProgressModel",
      "state": {
       "_dom_classes": [],
       "_model_module": "@jupyter-widgets/controls",
       "_model_module_version": "1.5.0",
       "_model_name": "FloatProgressModel",
       "_view_count": null,
       "_view_module": "@jupyter-widgets/controls",
       "_view_module_version": "1.5.0",
       "_view_name": "ProgressView",
       "bar_style": "success",
       "description": "",
       "description_tooltip": null,
       "layout": "IPY_MODEL_45c6677220a846dcb40656228ffd33b6",
       "max": 586.0,
       "min": 0.0,
       "orientation": "horizontal",
       "style": "IPY_MODEL_a9aa518cf3244a21a7d738f497f019cd",
       "value": 586.0
      }
     },
     "7d62d3c33b6d4d199e428db7976a3267": {
      "model_module": "@jupyter-widgets/controls",
      "model_module_version": "1.5.0",
      "model_name": "DescriptionStyleModel",
      "state": {
       "_model_module": "@jupyter-widgets/controls",
       "_model_module_version": "1.5.0",
       "_model_name": "DescriptionStyleModel",
       "_view_count": null,
       "_view_module": "@jupyter-widgets/base",
       "_view_module_version": "1.2.0",
       "_view_name": "StyleView",
       "description_width": ""
      }
     },
     "82b48eee431941949d0a75ea2f7040e9": {
      "model_module": "@jupyter-widgets/controls",
      "model_module_version": "1.5.0",
      "model_name": "HTMLModel",
      "state": {
       "_dom_classes": [],
       "_model_module": "@jupyter-widgets/controls",
       "_model_module_version": "1.5.0",
       "_model_name": "HTMLModel",
       "_view_count": null,
       "_view_module": "@jupyter-widgets/controls",
       "_view_module_version": "1.5.0",
       "_view_name": "HTMLView",
       "description": "",
       "description_tooltip": null,
       "layout": "IPY_MODEL_d803853748214499aade52a71c7a4232",
       "placeholder": "​",
       "style": "IPY_MODEL_db22a661a07c46adae9eee88a55040fd",
       "value": " 112/112 [00:00&lt;00:00, 10.7kB/s]"
      }
     },
     "871aa5e041b74994a7e3710437cecb2e": {
      "model_module": "@jupyter-widgets/base",
      "model_module_version": "1.2.0",
      "model_name": "LayoutModel",
      "state": {
       "_model_module": "@jupyter-widgets/base",
       "_model_module_version": "1.2.0",
       "_model_name": "LayoutModel",
       "_view_count": null,
       "_view_module": "@jupyter-widgets/base",
       "_view_module_version": "1.2.0",
       "_view_name": "LayoutView",
       "align_content": null,
       "align_items": null,
       "align_self": null,
       "border": null,
       "bottom": null,
       "display": null,
       "flex": null,
       "flex_flow": null,
       "grid_area": null,
       "grid_auto_columns": null,
       "grid_auto_flow": null,
       "grid_auto_rows": null,
       "grid_column": null,
       "grid_gap": null,
       "grid_row": null,
       "grid_template_areas": null,
       "grid_template_columns": null,
       "grid_template_rows": null,
       "height": null,
       "justify_content": null,
       "justify_items": null,
       "left": null,
       "margin": null,
       "max_height": null,
       "max_width": null,
       "min_height": null,
       "min_width": null,
       "object_fit": null,
       "object_position": null,
       "order": null,
       "overflow": null,
       "overflow_x": null,
       "overflow_y": null,
       "padding": null,
       "right": null,
       "top": null,
       "visibility": null,
       "width": null
      }
     },
     "99fcfc64ca214e28aff716f368787e53": {
      "model_module": "@jupyter-widgets/base",
      "model_module_version": "1.2.0",
      "model_name": "LayoutModel",
      "state": {
       "_model_module": "@jupyter-widgets/base",
       "_model_module_version": "1.2.0",
       "_model_name": "LayoutModel",
       "_view_count": null,
       "_view_module": "@jupyter-widgets/base",
       "_view_module_version": "1.2.0",
       "_view_name": "LayoutView",
       "align_content": null,
       "align_items": null,
       "align_self": null,
       "border": null,
       "bottom": null,
       "display": null,
       "flex": null,
       "flex_flow": null,
       "grid_area": null,
       "grid_auto_columns": null,
       "grid_auto_flow": null,
       "grid_auto_rows": null,
       "grid_column": null,
       "grid_gap": null,
       "grid_row": null,
       "grid_template_areas": null,
       "grid_template_columns": null,
       "grid_template_rows": null,
       "height": null,
       "justify_content": null,
       "justify_items": null,
       "left": null,
       "margin": null,
       "max_height": null,
       "max_width": null,
       "min_height": null,
       "min_width": null,
       "object_fit": null,
       "object_position": null,
       "order": null,
       "overflow": null,
       "overflow_x": null,
       "overflow_y": null,
       "padding": null,
       "right": null,
       "top": null,
       "visibility": null,
       "width": null
      }
     },
     "9ed82243763e47ecacab286786f846f2": {
      "model_module": "@jupyter-widgets/base",
      "model_module_version": "1.2.0",
      "model_name": "LayoutModel",
      "state": {
       "_model_module": "@jupyter-widgets/base",
       "_model_module_version": "1.2.0",
       "_model_name": "LayoutModel",
       "_view_count": null,
       "_view_module": "@jupyter-widgets/base",
       "_view_module_version": "1.2.0",
       "_view_name": "LayoutView",
       "align_content": null,
       "align_items": null,
       "align_self": null,
       "border": null,
       "bottom": null,
       "display": null,
       "flex": null,
       "flex_flow": null,
       "grid_area": null,
       "grid_auto_columns": null,
       "grid_auto_flow": null,
       "grid_auto_rows": null,
       "grid_column": null,
       "grid_gap": null,
       "grid_row": null,
       "grid_template_areas": null,
       "grid_template_columns": null,
       "grid_template_rows": null,
       "height": null,
       "justify_content": null,
       "justify_items": null,
       "left": null,
       "margin": null,
       "max_height": null,
       "max_width": null,
       "min_height": null,
       "min_width": null,
       "object_fit": null,
       "object_position": null,
       "order": null,
       "overflow": null,
       "overflow_x": null,
       "overflow_y": null,
       "padding": null,
       "right": null,
       "top": null,
       "visibility": null,
       "width": null
      }
     },
     "a9510de482f8462892529a305d5bab4a": {
      "model_module": "@jupyter-widgets/base",
      "model_module_version": "1.2.0",
      "model_name": "LayoutModel",
      "state": {
       "_model_module": "@jupyter-widgets/base",
       "_model_module_version": "1.2.0",
       "_model_name": "LayoutModel",
       "_view_count": null,
       "_view_module": "@jupyter-widgets/base",
       "_view_module_version": "1.2.0",
       "_view_name": "LayoutView",
       "align_content": null,
       "align_items": null,
       "align_self": null,
       "border": null,
       "bottom": null,
       "display": null,
       "flex": null,
       "flex_flow": null,
       "grid_area": null,
       "grid_auto_columns": null,
       "grid_auto_flow": null,
       "grid_auto_rows": null,
       "grid_column": null,
       "grid_gap": null,
       "grid_row": null,
       "grid_template_areas": null,
       "grid_template_columns": null,
       "grid_template_rows": null,
       "height": null,
       "justify_content": null,
       "justify_items": null,
       "left": null,
       "margin": null,
       "max_height": null,
       "max_width": null,
       "min_height": null,
       "min_width": null,
       "object_fit": null,
       "object_position": null,
       "order": null,
       "overflow": null,
       "overflow_x": null,
       "overflow_y": null,
       "padding": null,
       "right": null,
       "top": null,
       "visibility": null,
       "width": null
      }
     },
     "a9aa518cf3244a21a7d738f497f019cd": {
      "model_module": "@jupyter-widgets/controls",
      "model_module_version": "1.5.0",
      "model_name": "ProgressStyleModel",
      "state": {
       "_model_module": "@jupyter-widgets/controls",
       "_model_module_version": "1.5.0",
       "_model_name": "ProgressStyleModel",
       "_view_count": null,
       "_view_module": "@jupyter-widgets/base",
       "_view_module_version": "1.2.0",
       "_view_name": "StyleView",
       "bar_color": null,
       "description_width": ""
      }
     },
     "ab938e411de248058700739a39a778b7": {
      "model_module": "@jupyter-widgets/base",
      "model_module_version": "1.2.0",
      "model_name": "LayoutModel",
      "state": {
       "_model_module": "@jupyter-widgets/base",
       "_model_module_version": "1.2.0",
       "_model_name": "LayoutModel",
       "_view_count": null,
       "_view_module": "@jupyter-widgets/base",
       "_view_module_version": "1.2.0",
       "_view_name": "LayoutView",
       "align_content": null,
       "align_items": null,
       "align_self": null,
       "border": null,
       "bottom": null,
       "display": null,
       "flex": null,
       "flex_flow": null,
       "grid_area": null,
       "grid_auto_columns": null,
       "grid_auto_flow": null,
       "grid_auto_rows": null,
       "grid_column": null,
       "grid_gap": null,
       "grid_row": null,
       "grid_template_areas": null,
       "grid_template_columns": null,
       "grid_template_rows": null,
       "height": null,
       "justify_content": null,
       "justify_items": null,
       "left": null,
       "margin": null,
       "max_height": null,
       "max_width": null,
       "min_height": null,
       "min_width": null,
       "object_fit": null,
       "object_position": null,
       "order": null,
       "overflow": null,
       "overflow_x": null,
       "overflow_y": null,
       "padding": null,
       "right": null,
       "top": null,
       "visibility": null,
       "width": null
      }
     },
     "b060425ed7094592b81f1b12aa558ebf": {
      "model_module": "@jupyter-widgets/controls",
      "model_module_version": "1.5.0",
      "model_name": "DescriptionStyleModel",
      "state": {
       "_model_module": "@jupyter-widgets/controls",
       "_model_module_version": "1.5.0",
       "_model_name": "DescriptionStyleModel",
       "_view_count": null,
       "_view_module": "@jupyter-widgets/base",
       "_view_module_version": "1.2.0",
       "_view_name": "StyleView",
       "description_width": ""
      }
     },
     "b10990e1ff9f44abb79c23556fe58938": {
      "model_module": "@jupyter-widgets/controls",
      "model_module_version": "1.5.0",
      "model_name": "DescriptionStyleModel",
      "state": {
       "_model_module": "@jupyter-widgets/controls",
       "_model_module_version": "1.5.0",
       "_model_name": "DescriptionStyleModel",
       "_view_count": null,
       "_view_module": "@jupyter-widgets/base",
       "_view_module_version": "1.2.0",
       "_view_name": "StyleView",
       "description_width": ""
      }
     },
     "b26b06dee1d24f9a9387e2144376d772": {
      "model_module": "@jupyter-widgets/controls",
      "model_module_version": "1.5.0",
      "model_name": "FloatProgressModel",
      "state": {
       "_dom_classes": [],
       "_model_module": "@jupyter-widgets/controls",
       "_model_module_version": "1.5.0",
       "_model_name": "FloatProgressModel",
       "_view_count": null,
       "_view_module": "@jupyter-widgets/controls",
       "_view_module_version": "1.5.0",
       "_view_name": "ProgressView",
       "bar_style": "success",
       "description": "",
       "description_tooltip": null,
       "layout": "IPY_MODEL_bc22f1b32afe4e2f957603ae747d244a",
       "max": 112.0,
       "min": 0.0,
       "orientation": "horizontal",
       "style": "IPY_MODEL_01e12d7bd1e4467395e766f9922164ae",
       "value": 112.0
      }
     },
     "b660d04b2a95408fb867ce743a0dacae": {
      "model_module": "@jupyter-widgets/base",
      "model_module_version": "1.2.0",
      "model_name": "LayoutModel",
      "state": {
       "_model_module": "@jupyter-widgets/base",
       "_model_module_version": "1.2.0",
       "_model_name": "LayoutModel",
       "_view_count": null,
       "_view_module": "@jupyter-widgets/base",
       "_view_module_version": "1.2.0",
       "_view_name": "LayoutView",
       "align_content": null,
       "align_items": null,
       "align_self": null,
       "border": null,
       "bottom": null,
       "display": null,
       "flex": null,
       "flex_flow": null,
       "grid_area": null,
       "grid_auto_columns": null,
       "grid_auto_flow": null,
       "grid_auto_rows": null,
       "grid_column": null,
       "grid_gap": null,
       "grid_row": null,
       "grid_template_areas": null,
       "grid_template_columns": null,
       "grid_template_rows": null,
       "height": null,
       "justify_content": null,
       "justify_items": null,
       "left": null,
       "margin": null,
       "max_height": null,
       "max_width": null,
       "min_height": null,
       "min_width": null,
       "object_fit": null,
       "object_position": null,
       "order": null,
       "overflow": null,
       "overflow_x": null,
       "overflow_y": null,
       "padding": null,
       "right": null,
       "top": null,
       "visibility": null,
       "width": null
      }
     },
     "bc22f1b32afe4e2f957603ae747d244a": {
      "model_module": "@jupyter-widgets/base",
      "model_module_version": "1.2.0",
      "model_name": "LayoutModel",
      "state": {
       "_model_module": "@jupyter-widgets/base",
       "_model_module_version": "1.2.0",
       "_model_name": "LayoutModel",
       "_view_count": null,
       "_view_module": "@jupyter-widgets/base",
       "_view_module_version": "1.2.0",
       "_view_name": "LayoutView",
       "align_content": null,
       "align_items": null,
       "align_self": null,
       "border": null,
       "bottom": null,
       "display": null,
       "flex": null,
       "flex_flow": null,
       "grid_area": null,
       "grid_auto_columns": null,
       "grid_auto_flow": null,
       "grid_auto_rows": null,
       "grid_column": null,
       "grid_gap": null,
       "grid_row": null,
       "grid_template_areas": null,
       "grid_template_columns": null,
       "grid_template_rows": null,
       "height": null,
       "justify_content": null,
       "justify_items": null,
       "left": null,
       "margin": null,
       "max_height": null,
       "max_width": null,
       "min_height": null,
       "min_width": null,
       "object_fit": null,
       "object_position": null,
       "order": null,
       "overflow": null,
       "overflow_x": null,
       "overflow_y": null,
       "padding": null,
       "right": null,
       "top": null,
       "visibility": null,
       "width": null
      }
     },
     "be0de85d27f44679b792f010ed306dd1": {
      "model_module": "@jupyter-widgets/controls",
      "model_module_version": "1.5.0",
      "model_name": "DescriptionStyleModel",
      "state": {
       "_model_module": "@jupyter-widgets/controls",
       "_model_module_version": "1.5.0",
       "_model_name": "DescriptionStyleModel",
       "_view_count": null,
       "_view_module": "@jupyter-widgets/base",
       "_view_module_version": "1.2.0",
       "_view_name": "StyleView",
       "description_width": ""
      }
     },
     "c0284738264143debe323af3b65ae5ae": {
      "model_module": "@jupyter-widgets/controls",
      "model_module_version": "1.5.0",
      "model_name": "HBoxModel",
      "state": {
       "_dom_classes": [],
       "_model_module": "@jupyter-widgets/controls",
       "_model_module_version": "1.5.0",
       "_model_name": "HBoxModel",
       "_view_count": null,
       "_view_module": "@jupyter-widgets/controls",
       "_view_module_version": "1.5.0",
       "_view_name": "HBoxView",
       "box_style": "",
       "children": [
        "IPY_MODEL_426bd7060fa24453ad6e3b40e131640e",
        "IPY_MODEL_7c05f481d62c485583822df744a079e6",
        "IPY_MODEL_c506b89ad3814e87b8e300c01f438619"
       ],
       "layout": "IPY_MODEL_5ebf1340d9194c9293e69125ce5ed884"
      }
     },
     "c26b217ab6d8485fb7f558feac063b58": {
      "model_module": "@jupyter-widgets/base",
      "model_module_version": "1.2.0",
      "model_name": "LayoutModel",
      "state": {
       "_model_module": "@jupyter-widgets/base",
       "_model_module_version": "1.2.0",
       "_model_name": "LayoutModel",
       "_view_count": null,
       "_view_module": "@jupyter-widgets/base",
       "_view_module_version": "1.2.0",
       "_view_name": "LayoutView",
       "align_content": null,
       "align_items": null,
       "align_self": null,
       "border": null,
       "bottom": null,
       "display": null,
       "flex": null,
       "flex_flow": null,
       "grid_area": null,
       "grid_auto_columns": null,
       "grid_auto_flow": null,
       "grid_auto_rows": null,
       "grid_column": null,
       "grid_gap": null,
       "grid_row": null,
       "grid_template_areas": null,
       "grid_template_columns": null,
       "grid_template_rows": null,
       "height": null,
       "justify_content": null,
       "justify_items": null,
       "left": null,
       "margin": null,
       "max_height": null,
       "max_width": null,
       "min_height": null,
       "min_width": null,
       "object_fit": null,
       "object_position": null,
       "order": null,
       "overflow": null,
       "overflow_x": null,
       "overflow_y": null,
       "padding": null,
       "right": null,
       "top": null,
       "visibility": null,
       "width": null
      }
     },
     "c506b89ad3814e87b8e300c01f438619": {
      "model_module": "@jupyter-widgets/controls",
      "model_module_version": "1.5.0",
      "model_name": "HTMLModel",
      "state": {
       "_dom_classes": [],
       "_model_module": "@jupyter-widgets/controls",
       "_model_module_version": "1.5.0",
       "_model_name": "HTMLModel",
       "_view_count": null,
       "_view_module": "@jupyter-widgets/controls",
       "_view_module_version": "1.5.0",
       "_view_name": "HTMLView",
       "description": "",
       "description_tooltip": null,
       "layout": "IPY_MODEL_eaa5039b9f38482eb78ba8e9ff37929d",
       "placeholder": "​",
       "style": "IPY_MODEL_cffe82def2534cff8eb1db0a0398ae6d",
       "value": " 586/586 [00:00&lt;00:00, 50.5kB/s]"
      }
     },
     "c644b2282b7947c3b08224d5bd9fe3f2": {
      "model_module": "@jupyter-widgets/base",
      "model_module_version": "1.2.0",
      "model_name": "LayoutModel",
      "state": {
       "_model_module": "@jupyter-widgets/base",
       "_model_module_version": "1.2.0",
       "_model_name": "LayoutModel",
       "_view_count": null,
       "_view_module": "@jupyter-widgets/base",
       "_view_module_version": "1.2.0",
       "_view_name": "LayoutView",
       "align_content": null,
       "align_items": null,
       "align_self": null,
       "border": null,
       "bottom": null,
       "display": null,
       "flex": null,
       "flex_flow": null,
       "grid_area": null,
       "grid_auto_columns": null,
       "grid_auto_flow": null,
       "grid_auto_rows": null,
       "grid_column": null,
       "grid_gap": null,
       "grid_row": null,
       "grid_template_areas": null,
       "grid_template_columns": null,
       "grid_template_rows": null,
       "height": null,
       "justify_content": null,
       "justify_items": null,
       "left": null,
       "margin": null,
       "max_height": null,
       "max_width": null,
       "min_height": null,
       "min_width": null,
       "object_fit": null,
       "object_position": null,
       "order": null,
       "overflow": null,
       "overflow_x": null,
       "overflow_y": null,
       "padding": null,
       "right": null,
       "top": null,
       "visibility": null,
       "width": null
      }
     },
     "cca022304b0d487783ea4271cf30a502": {
      "model_module": "@jupyter-widgets/controls",
      "model_module_version": "1.5.0",
      "model_name": "HTMLModel",
      "state": {
       "_dom_classes": [],
       "_model_module": "@jupyter-widgets/controls",
       "_model_module_version": "1.5.0",
       "_model_name": "HTMLModel",
       "_view_count": null,
       "_view_module": "@jupyter-widgets/controls",
       "_view_module_version": "1.5.0",
       "_view_name": "HTMLView",
       "description": "",
       "description_tooltip": null,
       "layout": "IPY_MODEL_65512cd1ed9546c9a50af88c2b2c5626",
       "placeholder": "​",
       "style": "IPY_MODEL_64883b48b2e5496f8ca268d01119c1e6",
       "value": "pytorch_model.bin: 100%"
      }
     },
     "cffe82def2534cff8eb1db0a0398ae6d": {
      "model_module": "@jupyter-widgets/controls",
      "model_module_version": "1.5.0",
      "model_name": "DescriptionStyleModel",
      "state": {
       "_model_module": "@jupyter-widgets/controls",
       "_model_module_version": "1.5.0",
       "_model_name": "DescriptionStyleModel",
       "_view_count": null,
       "_view_module": "@jupyter-widgets/base",
       "_view_module_version": "1.2.0",
       "_view_name": "StyleView",
       "description_width": ""
      }
     },
     "d13342aeaed34ec8a0e2ccd613ed8e0d": {
      "model_module": "@jupyter-widgets/controls",
      "model_module_version": "1.5.0",
      "model_name": "HBoxModel",
      "state": {
       "_dom_classes": [],
       "_model_module": "@jupyter-widgets/controls",
       "_model_module_version": "1.5.0",
       "_model_name": "HBoxModel",
       "_view_count": null,
       "_view_module": "@jupyter-widgets/controls",
       "_view_module_version": "1.5.0",
       "_view_name": "HBoxView",
       "box_style": "",
       "children": [
        "IPY_MODEL_fe1968474e344544bb42da48139bcbb9",
        "IPY_MODEL_203b7819c6164eb2bb95af1d6649f58d",
        "IPY_MODEL_13843c87425742a8be724dfdf83d7508"
       ],
       "layout": "IPY_MODEL_2ade447861224febac4846fb2375e2ed"
      }
     },
     "d803853748214499aade52a71c7a4232": {
      "model_module": "@jupyter-widgets/base",
      "model_module_version": "1.2.0",
      "model_name": "LayoutModel",
      "state": {
       "_model_module": "@jupyter-widgets/base",
       "_model_module_version": "1.2.0",
       "_model_name": "LayoutModel",
       "_view_count": null,
       "_view_module": "@jupyter-widgets/base",
       "_view_module_version": "1.2.0",
       "_view_name": "LayoutView",
       "align_content": null,
       "align_items": null,
       "align_self": null,
       "border": null,
       "bottom": null,
       "display": null,
       "flex": null,
       "flex_flow": null,
       "grid_area": null,
       "grid_auto_columns": null,
       "grid_auto_flow": null,
       "grid_auto_rows": null,
       "grid_column": null,
       "grid_gap": null,
       "grid_row": null,
       "grid_template_areas": null,
       "grid_template_columns": null,
       "grid_template_rows": null,
       "height": null,
       "justify_content": null,
       "justify_items": null,
       "left": null,
       "margin": null,
       "max_height": null,
       "max_width": null,
       "min_height": null,
       "min_width": null,
       "object_fit": null,
       "object_position": null,
       "order": null,
       "overflow": null,
       "overflow_x": null,
       "overflow_y": null,
       "padding": null,
       "right": null,
       "top": null,
       "visibility": null,
       "width": null
      }
     },
     "d815ff17c5084c3ea2296c4efa0be875": {
      "model_module": "@jupyter-widgets/controls",
      "model_module_version": "1.5.0",
      "model_name": "HTMLModel",
      "state": {
       "_dom_classes": [],
       "_model_module": "@jupyter-widgets/controls",
       "_model_module_version": "1.5.0",
       "_model_name": "HTMLModel",
       "_view_count": null,
       "_view_module": "@jupyter-widgets/controls",
       "_view_module_version": "1.5.0",
       "_view_name": "HTMLView",
       "description": "",
       "description_tooltip": null,
       "layout": "IPY_MODEL_0f6c93005d1541a3989b563c03793132",
       "placeholder": "​",
       "style": "IPY_MODEL_b060425ed7094592b81f1b12aa558ebf",
       "value": " 443M/443M [00:05&lt;00:00, 73.2MB/s]"
      }
     },
     "db22a661a07c46adae9eee88a55040fd": {
      "model_module": "@jupyter-widgets/controls",
      "model_module_version": "1.5.0",
      "model_name": "DescriptionStyleModel",
      "state": {
       "_model_module": "@jupyter-widgets/controls",
       "_model_module_version": "1.5.0",
       "_model_name": "DescriptionStyleModel",
       "_view_count": null,
       "_view_module": "@jupyter-widgets/base",
       "_view_module_version": "1.2.0",
       "_view_name": "StyleView",
       "description_width": ""
      }
     },
     "e0ee6db032ba4d609903c5a147e39fe2": {
      "model_module": "@jupyter-widgets/controls",
      "model_module_version": "1.5.0",
      "model_name": "ProgressStyleModel",
      "state": {
       "_model_module": "@jupyter-widgets/controls",
       "_model_module_version": "1.5.0",
       "_model_name": "ProgressStyleModel",
       "_view_count": null,
       "_view_module": "@jupyter-widgets/base",
       "_view_module_version": "1.2.0",
       "_view_name": "StyleView",
       "bar_color": null,
       "description_width": ""
      }
     },
     "e0f8cd70364344d5b4178badeba59d20": {
      "model_module": "@jupyter-widgets/base",
      "model_module_version": "1.2.0",
      "model_name": "LayoutModel",
      "state": {
       "_model_module": "@jupyter-widgets/base",
       "_model_module_version": "1.2.0",
       "_model_name": "LayoutModel",
       "_view_count": null,
       "_view_module": "@jupyter-widgets/base",
       "_view_module_version": "1.2.0",
       "_view_name": "LayoutView",
       "align_content": null,
       "align_items": null,
       "align_self": null,
       "border": null,
       "bottom": null,
       "display": null,
       "flex": null,
       "flex_flow": null,
       "grid_area": null,
       "grid_auto_columns": null,
       "grid_auto_flow": null,
       "grid_auto_rows": null,
       "grid_column": null,
       "grid_gap": null,
       "grid_row": null,
       "grid_template_areas": null,
       "grid_template_columns": null,
       "grid_template_rows": null,
       "height": null,
       "justify_content": null,
       "justify_items": null,
       "left": null,
       "margin": null,
       "max_height": null,
       "max_width": null,
       "min_height": null,
       "min_width": null,
       "object_fit": null,
       "object_position": null,
       "order": null,
       "overflow": null,
       "overflow_x": null,
       "overflow_y": null,
       "padding": null,
       "right": null,
       "top": null,
       "visibility": null,
       "width": null
      }
     },
     "e7493d1936694bf09db984302f3b0c79": {
      "model_module": "@jupyter-widgets/controls",
      "model_module_version": "1.5.0",
      "model_name": "ProgressStyleModel",
      "state": {
       "_model_module": "@jupyter-widgets/controls",
       "_model_module_version": "1.5.0",
       "_model_name": "ProgressStyleModel",
       "_view_count": null,
       "_view_module": "@jupyter-widgets/base",
       "_view_module_version": "1.2.0",
       "_view_name": "StyleView",
       "bar_color": null,
       "description_width": ""
      }
     },
     "eaa5039b9f38482eb78ba8e9ff37929d": {
      "model_module": "@jupyter-widgets/base",
      "model_module_version": "1.2.0",
      "model_name": "LayoutModel",
      "state": {
       "_model_module": "@jupyter-widgets/base",
       "_model_module_version": "1.2.0",
       "_model_name": "LayoutModel",
       "_view_count": null,
       "_view_module": "@jupyter-widgets/base",
       "_view_module_version": "1.2.0",
       "_view_name": "LayoutView",
       "align_content": null,
       "align_items": null,
       "align_self": null,
       "border": null,
       "bottom": null,
       "display": null,
       "flex": null,
       "flex_flow": null,
       "grid_area": null,
       "grid_auto_columns": null,
       "grid_auto_flow": null,
       "grid_auto_rows": null,
       "grid_column": null,
       "grid_gap": null,
       "grid_row": null,
       "grid_template_areas": null,
       "grid_template_columns": null,
       "grid_template_rows": null,
       "height": null,
       "justify_content": null,
       "justify_items": null,
       "left": null,
       "margin": null,
       "max_height": null,
       "max_width": null,
       "min_height": null,
       "min_width": null,
       "object_fit": null,
       "object_position": null,
       "order": null,
       "overflow": null,
       "overflow_x": null,
       "overflow_y": null,
       "padding": null,
       "right": null,
       "top": null,
       "visibility": null,
       "width": null
      }
     },
     "ed18cc055768494ab71aed7b7c0f1840": {
      "model_module": "@jupyter-widgets/controls",
      "model_module_version": "1.5.0",
      "model_name": "DescriptionStyleModel",
      "state": {
       "_model_module": "@jupyter-widgets/controls",
       "_model_module_version": "1.5.0",
       "_model_name": "DescriptionStyleModel",
       "_view_count": null,
       "_view_module": "@jupyter-widgets/base",
       "_view_module_version": "1.2.0",
       "_view_name": "StyleView",
       "description_width": ""
      }
     },
     "ef57bc0788e040fc86ef9d4a6e328034": {
      "model_module": "@jupyter-widgets/controls",
      "model_module_version": "1.5.0",
      "model_name": "DescriptionStyleModel",
      "state": {
       "_model_module": "@jupyter-widgets/controls",
       "_model_module_version": "1.5.0",
       "_model_name": "DescriptionStyleModel",
       "_view_count": null,
       "_view_module": "@jupyter-widgets/base",
       "_view_module_version": "1.2.0",
       "_view_name": "StyleView",
       "description_width": ""
      }
     },
     "f7baba146c0940bcb204591a4daa8af8": {
      "model_module": "@jupyter-widgets/base",
      "model_module_version": "1.2.0",
      "model_name": "LayoutModel",
      "state": {
       "_model_module": "@jupyter-widgets/base",
       "_model_module_version": "1.2.0",
       "_model_name": "LayoutModel",
       "_view_count": null,
       "_view_module": "@jupyter-widgets/base",
       "_view_module_version": "1.2.0",
       "_view_name": "LayoutView",
       "align_content": null,
       "align_items": null,
       "align_self": null,
       "border": null,
       "bottom": null,
       "display": null,
       "flex": null,
       "flex_flow": null,
       "grid_area": null,
       "grid_auto_columns": null,
       "grid_auto_flow": null,
       "grid_auto_rows": null,
       "grid_column": null,
       "grid_gap": null,
       "grid_row": null,
       "grid_template_areas": null,
       "grid_template_columns": null,
       "grid_template_rows": null,
       "height": null,
       "justify_content": null,
       "justify_items": null,
       "left": null,
       "margin": null,
       "max_height": null,
       "max_width": null,
       "min_height": null,
       "min_width": null,
       "object_fit": null,
       "object_position": null,
       "order": null,
       "overflow": null,
       "overflow_x": null,
       "overflow_y": null,
       "padding": null,
       "right": null,
       "top": null,
       "visibility": null,
       "width": null
      }
     },
     "fe1968474e344544bb42da48139bcbb9": {
      "model_module": "@jupyter-widgets/controls",
      "model_module_version": "1.5.0",
      "model_name": "HTMLModel",
      "state": {
       "_dom_classes": [],
       "_model_module": "@jupyter-widgets/controls",
       "_model_module_version": "1.5.0",
       "_model_name": "HTMLModel",
       "_view_count": null,
       "_view_module": "@jupyter-widgets/controls",
       "_view_module_version": "1.5.0",
       "_view_name": "HTMLView",
       "description": "",
       "description_tooltip": null,
       "layout": "IPY_MODEL_9ed82243763e47ecacab286786f846f2",
       "placeholder": "​",
       "style": "IPY_MODEL_7d62d3c33b6d4d199e428db7976a3267",
       "value": "vocab.txt: 100%"
      }
     }
    },
    "version_major": 2,
    "version_minor": 0
   }
  }
 },
 "nbformat": 4,
 "nbformat_minor": 5
}
